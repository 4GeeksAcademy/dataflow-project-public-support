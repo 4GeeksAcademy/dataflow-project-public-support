{
 "cells": [
  {
   "cell_type": "markdown",
   "id": "75c6fedd",
   "metadata": {},
   "source": [
    "# Cleaning Public Support data"
   ]
  },
  {
   "cell_type": "markdown",
   "id": "85701093",
   "metadata": {},
   "source": [
    "## Importing necessary libraries"
   ]
  },
  {
   "cell_type": "code",
   "execution_count": 1,
   "id": "ce727954",
   "metadata": {},
   "outputs": [
    {
     "name": "stdout",
     "output_type": "stream",
     "text": [
      "Requirement already satisfied: pandas in /home/gitpod/.pyenv/versions/3.8.13/lib/python3.8/site-packages (1.5.2)\n",
      "Collecting matplotlib\n",
      "  Downloading matplotlib-3.6.2-cp38-cp38-manylinux_2_12_x86_64.manylinux2010_x86_64.whl (9.4 MB)\n",
      "\u001b[2K     \u001b[90m━━━━━━━━━━━━━━━━━━━━━━━━━━━━━━━━━━━━━━━━\u001b[0m \u001b[32m9.4/9.4 MB\u001b[0m \u001b[31m79.8 MB/s\u001b[0m eta \u001b[36m0:00:00\u001b[0m:00:01\u001b[0m0:01\u001b[0m\n",
      "\u001b[?25hCollecting seaborn\n",
      "  Downloading seaborn-0.12.2-py3-none-any.whl (293 kB)\n",
      "\u001b[2K     \u001b[90m━━━━━━━━━━━━━━━━━━━━━━━━━━━━━━━━━━━━━━\u001b[0m \u001b[32m293.3/293.3 kB\u001b[0m \u001b[31m85.9 MB/s\u001b[0m eta \u001b[36m0:00:00\u001b[0m\n",
      "\u001b[?25hCollecting wordcloud\n",
      "  Downloading wordcloud-1.8.2.2-cp38-cp38-manylinux_2_17_x86_64.manylinux2014_x86_64.whl (458 kB)\n",
      "\u001b[2K     \u001b[90m━━━━━━━━━━━━━━━━━━━━━━━━━━━━━━━━━━━━━\u001b[0m \u001b[32m459.0/459.0 kB\u001b[0m \u001b[31m100.3 MB/s\u001b[0m eta \u001b[36m0:00:00\u001b[0m\n",
      "\u001b[?25hRequirement already satisfied: pytz>=2020.1 in /home/gitpod/.pyenv/versions/3.8.13/lib/python3.8/site-packages (from pandas) (2022.7)\n",
      "Requirement already satisfied: python-dateutil>=2.8.1 in /home/gitpod/.pyenv/versions/3.8.13/lib/python3.8/site-packages (from pandas) (2.8.2)\n",
      "Requirement already satisfied: numpy>=1.20.3 in /home/gitpod/.pyenv/versions/3.8.13/lib/python3.8/site-packages (from pandas) (1.24.1)\n",
      "Collecting contourpy>=1.0.1\n",
      "  Downloading contourpy-1.0.6-cp38-cp38-manylinux_2_17_x86_64.manylinux2014_x86_64.whl (295 kB)\n",
      "\u001b[2K     \u001b[90m━━━━━━━━━━━━━━━━━━━━━━━━━━━━━━━━━━━━━━\u001b[0m \u001b[32m296.0/296.0 kB\u001b[0m \u001b[31m58.0 MB/s\u001b[0m eta \u001b[36m0:00:00\u001b[0m\n",
      "\u001b[?25hCollecting cycler>=0.10\n",
      "  Downloading cycler-0.11.0-py3-none-any.whl (6.4 kB)\n",
      "Collecting pyparsing>=2.2.1\n",
      "  Downloading pyparsing-3.0.9-py3-none-any.whl (98 kB)\n",
      "\u001b[2K     \u001b[90m━━━━━━━━━━━━━━━━━━━━━━━━━━━━━━━━━━━━━━━━\u001b[0m \u001b[32m98.3/98.3 kB\u001b[0m \u001b[31m34.1 MB/s\u001b[0m eta \u001b[36m0:00:00\u001b[0m\n",
      "\u001b[?25hRequirement already satisfied: packaging>=20.0 in /home/gitpod/.pyenv/versions/3.8.13/lib/python3.8/site-packages (from matplotlib) (22.0)\n",
      "Collecting pillow>=6.2.0\n",
      "  Downloading Pillow-9.4.0-cp38-cp38-manylinux_2_28_x86_64.whl (3.4 MB)\n",
      "\u001b[2K     \u001b[90m━━━━━━━━━━━━━━━━━━━━━━━━━━━━━━━━━━━━━━━━\u001b[0m \u001b[32m3.4/3.4 MB\u001b[0m \u001b[31m138.2 MB/s\u001b[0m eta \u001b[36m0:00:00\u001b[0m\n",
      "\u001b[?25hCollecting fonttools>=4.22.0\n",
      "  Downloading fonttools-4.38.0-py3-none-any.whl (965 kB)\n",
      "\u001b[2K     \u001b[90m━━━━━━━━━━━━━━━━━━━━━━━━━━━━━━━━━━━━━\u001b[0m \u001b[32m965.4/965.4 kB\u001b[0m \u001b[31m117.8 MB/s\u001b[0m eta \u001b[36m0:00:00\u001b[0m\n",
      "\u001b[?25hCollecting kiwisolver>=1.0.1\n",
      "  Downloading kiwisolver-1.4.4-cp38-cp38-manylinux_2_5_x86_64.manylinux1_x86_64.whl (1.2 MB)\n",
      "\u001b[2K     \u001b[90m━━━━━━━━━━━━━━━━━━━━━━━━━━━━━━━━━━━━━━━━\u001b[0m \u001b[32m1.2/1.2 MB\u001b[0m \u001b[31m99.4 MB/s\u001b[0m eta \u001b[36m0:00:00\u001b[0m\n",
      "\u001b[?25hRequirement already satisfied: six>=1.5 in /home/gitpod/.pyenv/versions/3.8.13/lib/python3.8/site-packages (from python-dateutil>=2.8.1->pandas) (1.16.0)\n",
      "Installing collected packages: pyparsing, pillow, kiwisolver, fonttools, cycler, contourpy, matplotlib, wordcloud, seaborn\n",
      "Successfully installed contourpy-1.0.6 cycler-0.11.0 fonttools-4.38.0 kiwisolver-1.4.4 matplotlib-3.6.2 pillow-9.4.0 pyparsing-3.0.9 seaborn-0.12.2 wordcloud-1.8.2.2\n",
      "Note: you may need to restart the kernel to use updated packages.\n"
     ]
    }
   ],
   "source": [
    "pip install pandas matplotlib seaborn wordcloud"
   ]
  },
  {
   "cell_type": "code",
   "execution_count": 2,
   "id": "35fcfef8",
   "metadata": {},
   "outputs": [],
   "source": [
    "import pandas as pd\n",
    "import numpy as np\n",
    "import matplotlib.pyplot as plt\n",
    "import seaborn as sns\n",
    "from datetime import datetime,date, timedelta"
   ]
  },
  {
   "cell_type": "markdown",
   "id": "082e6d18",
   "metadata": {},
   "source": [
    "## Loading the data"
   ]
  },
  {
   "cell_type": "code",
   "execution_count": 4,
   "id": "bcc40632",
   "metadata": {},
   "outputs": [],
   "source": [
    "slack = pd.read_csv('../sources/support_channels.csv')\n"
   ]
  },
  {
   "cell_type": "markdown",
   "id": "15b8f817",
   "metadata": {},
   "source": [
    "## Discover"
   ]
  },
  {
   "cell_type": "code",
   "execution_count": 5,
   "id": "a8a4c433",
   "metadata": {},
   "outputs": [
    {
     "name": "stdout",
     "output_type": "stream",
     "text": [
      "Shape of slack dataframe before cleaning: (500, 14)\n"
     ]
    }
   ],
   "source": [
    "print('Shape of slack dataframe before cleaning:', slack.shape)"
   ]
  },
  {
   "cell_type": "code",
   "execution_count": 6,
   "id": "665b5ba9",
   "metadata": {},
   "outputs": [
    {
     "name": "stdout",
     "output_type": "stream",
     "text": [
      "<class 'pandas.core.frame.DataFrame'>\n",
      "RangeIndex: 500 entries, 0 to 499\n",
      "Data columns (total 14 columns):\n",
      " #   Column            Non-Null Count  Dtype \n",
      "---  ------            --------------  ----- \n",
      " 0   Channel_ID        500 non-null    object\n",
      " 1   Channel_Slug      500 non-null    object\n",
      " 2   Timestamp         500 non-null    object\n",
      " 3   Timestamp_Thread  337 non-null    object\n",
      " 4   User_ID           500 non-null    object\n",
      " 5   Full_Name         498 non-null    object\n",
      " 6   Email             500 non-null    object\n",
      " 7   Permalink         500 non-null    object\n",
      " 8   Text              500 non-null    object\n",
      " 9   Text_raw          491 non-null    object\n",
      " 10  Slack_username    500 non-null    object\n",
      " 11  Team_ID           500 non-null    object\n",
      " 12  Team_Name         500 non-null    object\n",
      " 13  Is_Bot            500 non-null    bool  \n",
      "dtypes: bool(1), object(13)\n",
      "memory usage: 51.4+ KB\n"
     ]
    }
   ],
   "source": [
    "slack.info()"
   ]
  },
  {
   "cell_type": "markdown",
   "id": "bf545910",
   "metadata": {},
   "source": [
    "**Creating 2 new columns**"
   ]
  },
  {
   "cell_type": "code",
   "execution_count": 7,
   "id": "a830e29b",
   "metadata": {},
   "outputs": [],
   "source": [
    "slack['Is_a_question'] = np.where(slack['Timestamp_Thread'].isnull(), 1, 0)"
   ]
  },
  {
   "cell_type": "code",
   "execution_count": 8,
   "id": "ad94ed98",
   "metadata": {},
   "outputs": [],
   "source": [
    "support_agent_ids = ['1','5301']\n",
    "support_agent_name = ['Alejandro Sanchez','Tomas Gonzalez']\n",
    "\n",
    "slack['Is_agent'] = np.where(slack['User_ID'].isin(support_agent_ids) | slack['Full_Name'].isin(support_agent_name), 1, 0)"
   ]
  },
  {
   "cell_type": "markdown",
   "id": "79e9f6a5",
   "metadata": {},
   "source": [
    "**Encoding necessary columns**"
   ]
  },
  {
   "cell_type": "code",
   "execution_count": 9,
   "id": "35bde503",
   "metadata": {},
   "outputs": [],
   "source": [
    "slack['Is_Bot'] = np.where(slack['Is_Bot'] == True, 1, 0)"
   ]
  },
  {
   "cell_type": "markdown",
   "id": "3ac360d0",
   "metadata": {},
   "source": [
    "**Converting timestamp columns**"
   ]
  },
  {
   "cell_type": "code",
   "execution_count": 10,
   "id": "f95f12da",
   "metadata": {},
   "outputs": [],
   "source": [
    "slack['Datetime'] = pd.to_datetime(slack['Timestamp'])\n",
    "slack['Datetime_Thread'] = pd.to_datetime(slack['Timestamp_Thread'])"
   ]
  },
  {
   "cell_type": "markdown",
   "id": "90c02532",
   "metadata": {},
   "source": [
    "**Creating 2 dataframes: questions and answers**"
   ]
  },
  {
   "cell_type": "code",
   "execution_count": 11,
   "id": "d5885f8d",
   "metadata": {},
   "outputs": [],
   "source": [
    "Q_df = slack[slack['Is_a_question'] == 1]\n",
    "A_df = slack[slack['Is_a_question'] == 0]"
   ]
  },
  {
   "cell_type": "markdown",
   "id": "9981c204",
   "metadata": {},
   "source": [
    "**Working on Answers dataframe**"
   ]
  },
  {
   "cell_type": "code",
   "execution_count": 12,
   "id": "7154600a",
   "metadata": {},
   "outputs": [],
   "source": [
    "answers = A_df.groupby(['User_ID','Datetime'])[['Text']]"
   ]
  },
  {
   "cell_type": "code",
   "execution_count": 13,
   "id": "2270b157",
   "metadata": {},
   "outputs": [],
   "source": [
    "df_answers = pd.DataFrame(answers.sum().reset_index())"
   ]
  },
  {
   "cell_type": "code",
   "execution_count": 14,
   "id": "09347ef5",
   "metadata": {},
   "outputs": [
    {
     "data": {
      "text/html": [
       "<div>\n",
       "<style scoped>\n",
       "    .dataframe tbody tr th:only-of-type {\n",
       "        vertical-align: middle;\n",
       "    }\n",
       "\n",
       "    .dataframe tbody tr th {\n",
       "        vertical-align: top;\n",
       "    }\n",
       "\n",
       "    .dataframe thead th {\n",
       "        text-align: right;\n",
       "    }\n",
       "</style>\n",
       "<table border=\"1\" class=\"dataframe\">\n",
       "  <thead>\n",
       "    <tr style=\"text-align: right;\">\n",
       "      <th></th>\n",
       "      <th>User_ID</th>\n",
       "      <th>Datetime</th>\n",
       "      <th>Text</th>\n",
       "    </tr>\n",
       "  </thead>\n",
       "  <tbody>\n",
       "    <tr>\n",
       "      <th>0</th>\n",
       "      <td>U015XDM7KRA</td>\n",
       "      <td>2022-11-25 14:32:52</td>\n",
       "      <td>no te sirve redux o el context api ? por que f...</td>\n",
       "    </tr>\n",
       "    <tr>\n",
       "      <th>1</th>\n",
       "      <td>U01GE2A7HV4</td>\n",
       "      <td>2022-12-09 22:13:54</td>\n",
       "      <td>The statement indicates that you must give val...</td>\n",
       "    </tr>\n",
       "    <tr>\n",
       "      <th>2</th>\n",
       "      <td>U01GE2A7HV4</td>\n",
       "      <td>2022-12-09 22:19:48</td>\n",
       "      <td>Hint: In line 18 you have the element that you...</td>\n",
       "    </tr>\n",
       "    <tr>\n",
       "      <th>3</th>\n",
       "      <td>U01PE4CNXN1</td>\n",
       "      <td>2022-11-30 11:33:40</td>\n",
       "      <td>Yo te recomiendo netifly, es muy fácil de usar</td>\n",
       "    </tr>\n",
       "    <tr>\n",
       "      <th>4</th>\n",
       "      <td>U01PE4CNXN1</td>\n",
       "      <td>2022-11-30 11:39:41</td>\n",
       "      <td>Creo que sí, pero ahora mismo me haces dudar...</td>\n",
       "    </tr>\n",
       "  </tbody>\n",
       "</table>\n",
       "</div>"
      ],
      "text/plain": [
       "       User_ID            Datetime  \\\n",
       "0  U015XDM7KRA 2022-11-25 14:32:52   \n",
       "1  U01GE2A7HV4 2022-12-09 22:13:54   \n",
       "2  U01GE2A7HV4 2022-12-09 22:19:48   \n",
       "3  U01PE4CNXN1 2022-11-30 11:33:40   \n",
       "4  U01PE4CNXN1 2022-11-30 11:39:41   \n",
       "\n",
       "                                                Text  \n",
       "0  no te sirve redux o el context api ? por que f...  \n",
       "1  The statement indicates that you must give val...  \n",
       "2  Hint: In line 18 you have the element that you...  \n",
       "3     Yo te recomiendo netifly, es muy fácil de usar  \n",
       "4    Creo que sí, pero ahora mismo me haces dudar...  "
      ]
     },
     "execution_count": 14,
     "metadata": {},
     "output_type": "execute_result"
    }
   ],
   "source": [
    "df_answers.head()"
   ]
  },
  {
   "cell_type": "code",
   "execution_count": 15,
   "id": "24040f57",
   "metadata": {},
   "outputs": [],
   "source": [
    "df_answers['Diff_in_Seconds'] = (df_answers.sort_values('Datetime').groupby('User_ID').Datetime.diff())"
   ]
  },
  {
   "cell_type": "code",
   "execution_count": 16,
   "id": "0f4c581a",
   "metadata": {},
   "outputs": [],
   "source": [
    "df_answers['Diff_in_Seconds'] = df_answers['Diff_in_Seconds'].fillna(pd.Timedelta(seconds=0))"
   ]
  },
  {
   "cell_type": "code",
   "execution_count": 17,
   "id": "d548992d",
   "metadata": {},
   "outputs": [],
   "source": [
    "df_answers['Diff_in_Seconds'] = df_answers['Diff_in_Seconds']/np.timedelta64(1,'s')"
   ]
  },
  {
   "cell_type": "code",
   "execution_count": 18,
   "id": "d3b83b6b",
   "metadata": {},
   "outputs": [],
   "source": [
    "df_answers['diff_abs'] = df_answers.Diff_in_Seconds.abs()"
   ]
  },
  {
   "cell_type": "code",
   "execution_count": 19,
   "id": "904d55a3",
   "metadata": {},
   "outputs": [],
   "source": [
    "df_answers['same_author'] = df_answers['User_ID'].ne(df_answers['User_ID'].shift().bfill()).astype(int)"
   ]
  },
  {
   "cell_type": "code",
   "execution_count": 20,
   "id": "a03117b2",
   "metadata": {},
   "outputs": [
    {
     "name": "stderr",
     "output_type": "stream",
     "text": [
      "/tmp/ipykernel_1324/3464986642.py:2: FutureWarning: In a future version of pandas, a length 1 tuple will be returned when iterating over a groupby with a grouper equal to a list of length 1. Don't supply a list with a single grouper to avoid this warning.\n",
      "  for group in df.groupby(['User_ID']):\n"
     ]
    },
    {
     "data": {
      "text/html": [
       "<div>\n",
       "<style scoped>\n",
       "    .dataframe tbody tr th:only-of-type {\n",
       "        vertical-align: middle;\n",
       "    }\n",
       "\n",
       "    .dataframe tbody tr th {\n",
       "        vertical-align: top;\n",
       "    }\n",
       "\n",
       "    .dataframe thead th {\n",
       "        text-align: right;\n",
       "    }\n",
       "</style>\n",
       "<table border=\"1\" class=\"dataframe\">\n",
       "  <thead>\n",
       "    <tr style=\"text-align: right;\">\n",
       "      <th></th>\n",
       "      <th>User_ID</th>\n",
       "      <th>Datetime</th>\n",
       "      <th>Text</th>\n",
       "      <th>Diff_in_Seconds</th>\n",
       "      <th>diff_abs</th>\n",
       "      <th>same_author</th>\n",
       "      <th>messageId</th>\n",
       "    </tr>\n",
       "  </thead>\n",
       "  <tbody>\n",
       "    <tr>\n",
       "      <th>0</th>\n",
       "      <td>U015XDM7KRA</td>\n",
       "      <td>2022-11-25 14:32:52</td>\n",
       "      <td>no te sirve redux o el context api ? por que f...</td>\n",
       "      <td>0.0</td>\n",
       "      <td>0.0</td>\n",
       "      <td>0</td>\n",
       "      <td>1</td>\n",
       "    </tr>\n",
       "    <tr>\n",
       "      <th>1</th>\n",
       "      <td>U01GE2A7HV4</td>\n",
       "      <td>2022-12-09 22:13:54</td>\n",
       "      <td>The statement indicates that you must give val...</td>\n",
       "      <td>0.0</td>\n",
       "      <td>0.0</td>\n",
       "      <td>1</td>\n",
       "      <td>2</td>\n",
       "    </tr>\n",
       "    <tr>\n",
       "      <th>2</th>\n",
       "      <td>U01GE2A7HV4</td>\n",
       "      <td>2022-12-09 22:19:48</td>\n",
       "      <td>Hint: In line 18 you have the element that you...</td>\n",
       "      <td>354.0</td>\n",
       "      <td>354.0</td>\n",
       "      <td>0</td>\n",
       "      <td>3</td>\n",
       "    </tr>\n",
       "    <tr>\n",
       "      <th>3</th>\n",
       "      <td>U01PE4CNXN1</td>\n",
       "      <td>2022-11-30 11:33:40</td>\n",
       "      <td>Yo te recomiendo netifly, es muy fácil de usar</td>\n",
       "      <td>0.0</td>\n",
       "      <td>0.0</td>\n",
       "      <td>1</td>\n",
       "      <td>4</td>\n",
       "    </tr>\n",
       "    <tr>\n",
       "      <th>4</th>\n",
       "      <td>U01PE4CNXN1</td>\n",
       "      <td>2022-11-30 11:39:41</td>\n",
       "      <td>Creo que sí, pero ahora mismo me haces dudar...</td>\n",
       "      <td>361.0</td>\n",
       "      <td>361.0</td>\n",
       "      <td>0</td>\n",
       "      <td>5</td>\n",
       "    </tr>\n",
       "    <tr>\n",
       "      <th>...</th>\n",
       "      <td>...</td>\n",
       "      <td>...</td>\n",
       "      <td>...</td>\n",
       "      <td>...</td>\n",
       "      <td>...</td>\n",
       "      <td>...</td>\n",
       "      <td>...</td>\n",
       "    </tr>\n",
       "    <tr>\n",
       "      <th>332</th>\n",
       "      <td>UPRFXC3QE</td>\n",
       "      <td>2022-12-06 21:10:39</td>\n",
       "      <td>There should be a free version. Check the othe...</td>\n",
       "      <td>1133.0</td>\n",
       "      <td>1133.0</td>\n",
       "      <td>0</td>\n",
       "      <td>234</td>\n",
       "    </tr>\n",
       "    <tr>\n",
       "      <th>333</th>\n",
       "      <td>UPRFXC3QE</td>\n",
       "      <td>2022-12-07 16:28:05</td>\n",
       "      <td>I dont know fly that well. You would need to r...</td>\n",
       "      <td>69446.0</td>\n",
       "      <td>69446.0</td>\n",
       "      <td>0</td>\n",
       "      <td>235</td>\n",
       "    </tr>\n",
       "    <tr>\n",
       "      <th>334</th>\n",
       "      <td>UPRFXC3QE</td>\n",
       "      <td>2022-12-09 13:47:04</td>\n",
       "      <td>Hi.  So the error is showing you do not have t...</td>\n",
       "      <td>163139.0</td>\n",
       "      <td>163139.0</td>\n",
       "      <td>0</td>\n",
       "      <td>236</td>\n",
       "    </tr>\n",
       "    <tr>\n",
       "      <th>335</th>\n",
       "      <td>UU409472Q</td>\n",
       "      <td>2022-11-02 11:33:54</td>\n",
       "      <td>hay dos opciones\\ne.key o e.keycode , en ambas...</td>\n",
       "      <td>0.0</td>\n",
       "      <td>0.0</td>\n",
       "      <td>1</td>\n",
       "      <td>237</td>\n",
       "    </tr>\n",
       "    <tr>\n",
       "      <th>336</th>\n",
       "      <td>UU409472Q</td>\n",
       "      <td>2022-11-02 11:34:29</td>\n",
       "      <td>si es e.key comparas con \"Enter\" , si es e.key...</td>\n",
       "      <td>35.0</td>\n",
       "      <td>35.0</td>\n",
       "      <td>0</td>\n",
       "      <td>237</td>\n",
       "    </tr>\n",
       "  </tbody>\n",
       "</table>\n",
       "<p>337 rows × 7 columns</p>\n",
       "</div>"
      ],
      "text/plain": [
       "         User_ID            Datetime  \\\n",
       "0    U015XDM7KRA 2022-11-25 14:32:52   \n",
       "1    U01GE2A7HV4 2022-12-09 22:13:54   \n",
       "2    U01GE2A7HV4 2022-12-09 22:19:48   \n",
       "3    U01PE4CNXN1 2022-11-30 11:33:40   \n",
       "4    U01PE4CNXN1 2022-11-30 11:39:41   \n",
       "..           ...                 ...   \n",
       "332    UPRFXC3QE 2022-12-06 21:10:39   \n",
       "333    UPRFXC3QE 2022-12-07 16:28:05   \n",
       "334    UPRFXC3QE 2022-12-09 13:47:04   \n",
       "335    UU409472Q 2022-11-02 11:33:54   \n",
       "336    UU409472Q 2022-11-02 11:34:29   \n",
       "\n",
       "                                                  Text  Diff_in_Seconds  \\\n",
       "0    no te sirve redux o el context api ? por que f...              0.0   \n",
       "1    The statement indicates that you must give val...              0.0   \n",
       "2    Hint: In line 18 you have the element that you...            354.0   \n",
       "3       Yo te recomiendo netifly, es muy fácil de usar              0.0   \n",
       "4      Creo que sí, pero ahora mismo me haces dudar...            361.0   \n",
       "..                                                 ...              ...   \n",
       "332  There should be a free version. Check the othe...           1133.0   \n",
       "333  I dont know fly that well. You would need to r...          69446.0   \n",
       "334  Hi.  So the error is showing you do not have t...         163139.0   \n",
       "335  hay dos opciones\\ne.key o e.keycode , en ambas...              0.0   \n",
       "336  si es e.key comparas con \"Enter\" , si es e.key...             35.0   \n",
       "\n",
       "     diff_abs  same_author  messageId  \n",
       "0         0.0            0          1  \n",
       "1         0.0            1          2  \n",
       "2       354.0            0          3  \n",
       "3         0.0            1          4  \n",
       "4       361.0            0          5  \n",
       "..        ...          ...        ...  \n",
       "332    1133.0            0        234  \n",
       "333   69446.0            0        235  \n",
       "334  163139.0            0        236  \n",
       "335       0.0            1        237  \n",
       "336      35.0            0        237  \n",
       "\n",
       "[337 rows x 7 columns]"
      ]
     },
     "execution_count": 20,
     "metadata": {},
     "output_type": "execute_result"
    }
   ],
   "source": [
    "def create_AnswerId(df):\n",
    "    for group in df.groupby(['User_ID']):\n",
    "        df['messageId'] = df.diff_abs.gt(300).cumsum() + 1 + df.same_author.cumsum()\n",
    "    return df\n",
    "create_AnswerId(df_answers)"
   ]
  },
  {
   "cell_type": "code",
   "execution_count": 21,
   "id": "3ffa4998",
   "metadata": {},
   "outputs": [
    {
     "data": {
      "text/plain": [
       "(337, 7)"
      ]
     },
     "execution_count": 21,
     "metadata": {},
     "output_type": "execute_result"
    }
   ],
   "source": [
    "df_answers.shape"
   ]
  },
  {
   "cell_type": "code",
   "execution_count": 22,
   "id": "de15474e",
   "metadata": {},
   "outputs": [
    {
     "data": {
      "text/plain": [
       "(337, 18)"
      ]
     },
     "execution_count": 22,
     "metadata": {},
     "output_type": "execute_result"
    }
   ],
   "source": [
    "A_df.shape"
   ]
  },
  {
   "cell_type": "markdown",
   "id": "b5575007",
   "metadata": {},
   "source": [
    "**Questions dataframe**"
   ]
  },
  {
   "cell_type": "code",
   "execution_count": 26,
   "id": "a5f8b02f",
   "metadata": {},
   "outputs": [],
   "source": [
    "questions = Q_df.groupby(['User_ID','Datetime'])[['Text']]"
   ]
  },
  {
   "cell_type": "code",
   "execution_count": 27,
   "id": "4a4f7678",
   "metadata": {},
   "outputs": [],
   "source": [
    "df_questions = pd.DataFrame(questions.sum().reset_index())"
   ]
  },
  {
   "cell_type": "code",
   "execution_count": 28,
   "id": "2b578e80",
   "metadata": {},
   "outputs": [
    {
     "data": {
      "text/html": [
       "<div>\n",
       "<style scoped>\n",
       "    .dataframe tbody tr th:only-of-type {\n",
       "        vertical-align: middle;\n",
       "    }\n",
       "\n",
       "    .dataframe tbody tr th {\n",
       "        vertical-align: top;\n",
       "    }\n",
       "\n",
       "    .dataframe thead th {\n",
       "        text-align: right;\n",
       "    }\n",
       "</style>\n",
       "<table border=\"1\" class=\"dataframe\">\n",
       "  <thead>\n",
       "    <tr style=\"text-align: right;\">\n",
       "      <th></th>\n",
       "      <th>User_ID</th>\n",
       "      <th>Datetime</th>\n",
       "      <th>Text</th>\n",
       "    </tr>\n",
       "  </thead>\n",
       "  <tbody>\n",
       "    <tr>\n",
       "      <th>0</th>\n",
       "      <td>U01J1EA8JN7</td>\n",
       "      <td>2022-12-07 14:42:41</td>\n",
       "      <td>Gente alguien sabe como se le puede agregar a ...</td>\n",
       "    </tr>\n",
       "    <tr>\n",
       "      <th>1</th>\n",
       "      <td>U01SJ480RBR</td>\n",
       "      <td>2022-11-07 16:59:39</td>\n",
       "      <td>Hello</td>\n",
       "    </tr>\n",
       "    <tr>\n",
       "      <th>2</th>\n",
       "      <td>U01SM5J4MMG</td>\n",
       "      <td>2022-11-07 21:15:26</td>\n",
       "      <td>Buenas tardes, intenta poniendo solo git push</td>\n",
       "    </tr>\n",
       "    <tr>\n",
       "      <th>3</th>\n",
       "      <td>U026XFJHQPK</td>\n",
       "      <td>2022-12-14 13:34:18</td>\n",
       "      <td>Hello, good afternoon for the people in europe...</td>\n",
       "    </tr>\n",
       "    <tr>\n",
       "      <th>4</th>\n",
       "      <td>U02G5B470B1</td>\n",
       "      <td>2022-11-15 19:07:30</td>\n",
       "      <td>Hello, where do I found the webpacks options a...</td>\n",
       "    </tr>\n",
       "  </tbody>\n",
       "</table>\n",
       "</div>"
      ],
      "text/plain": [
       "       User_ID            Datetime  \\\n",
       "0  U01J1EA8JN7 2022-12-07 14:42:41   \n",
       "1  U01SJ480RBR 2022-11-07 16:59:39   \n",
       "2  U01SM5J4MMG 2022-11-07 21:15:26   \n",
       "3  U026XFJHQPK 2022-12-14 13:34:18   \n",
       "4  U02G5B470B1 2022-11-15 19:07:30   \n",
       "\n",
       "                                                Text  \n",
       "0  Gente alguien sabe como se le puede agregar a ...  \n",
       "1                                              Hello  \n",
       "2      Buenas tardes, intenta poniendo solo git push  \n",
       "3  Hello, good afternoon for the people in europe...  \n",
       "4  Hello, where do I found the webpacks options a...  "
      ]
     },
     "execution_count": 28,
     "metadata": {},
     "output_type": "execute_result"
    }
   ],
   "source": [
    "df_questions.head()"
   ]
  },
  {
   "cell_type": "code",
   "execution_count": 29,
   "id": "0aeaad33",
   "metadata": {},
   "outputs": [
    {
     "data": {
      "text/plain": [
       "(162, 3)"
      ]
     },
     "execution_count": 29,
     "metadata": {},
     "output_type": "execute_result"
    }
   ],
   "source": [
    "df_questions.shape"
   ]
  },
  {
   "cell_type": "code",
   "execution_count": 30,
   "id": "5bece850",
   "metadata": {},
   "outputs": [],
   "source": [
    "df_questions['Diff_in_Seconds'] = (df_questions.sort_values('Datetime').groupby('User_ID').Datetime.diff())"
   ]
  },
  {
   "cell_type": "code",
   "execution_count": 31,
   "id": "cf50899c",
   "metadata": {},
   "outputs": [],
   "source": [
    "df_questions['Diff_in_Seconds'] = df_questions['Diff_in_Seconds'].fillna(pd.Timedelta(seconds=0))"
   ]
  },
  {
   "cell_type": "code",
   "execution_count": 32,
   "id": "51f5bb83",
   "metadata": {},
   "outputs": [],
   "source": [
    "df_questions['Diff_in_Seconds']=df_questions['Diff_in_Seconds']/np.timedelta64(1,'s')"
   ]
  },
  {
   "cell_type": "code",
   "execution_count": 33,
   "id": "3eb622c7",
   "metadata": {},
   "outputs": [],
   "source": [
    "df_questions['diff_abs'] = df_questions.Diff_in_Seconds.abs()"
   ]
  },
  {
   "cell_type": "code",
   "execution_count": 34,
   "id": "80224f66",
   "metadata": {},
   "outputs": [],
   "source": [
    "df_questions['same_author'] = df_questions['User_ID'].ne(df_questions['User_ID'].shift().bfill()).astype(int)"
   ]
  },
  {
   "cell_type": "code",
   "execution_count": 35,
   "id": "595c2b27",
   "metadata": {},
   "outputs": [
    {
     "name": "stderr",
     "output_type": "stream",
     "text": [
      "/tmp/ipykernel_1324/2400834575.py:2: FutureWarning: In a future version of pandas, a length 1 tuple will be returned when iterating over a groupby with a grouper equal to a list of length 1. Don't supply a list with a single grouper to avoid this warning.\n",
      "  for group in df.groupby(['User_ID']):\n"
     ]
    },
    {
     "data": {
      "text/html": [
       "<div>\n",
       "<style scoped>\n",
       "    .dataframe tbody tr th:only-of-type {\n",
       "        vertical-align: middle;\n",
       "    }\n",
       "\n",
       "    .dataframe tbody tr th {\n",
       "        vertical-align: top;\n",
       "    }\n",
       "\n",
       "    .dataframe thead th {\n",
       "        text-align: right;\n",
       "    }\n",
       "</style>\n",
       "<table border=\"1\" class=\"dataframe\">\n",
       "  <thead>\n",
       "    <tr style=\"text-align: right;\">\n",
       "      <th></th>\n",
       "      <th>User_ID</th>\n",
       "      <th>Datetime</th>\n",
       "      <th>Text</th>\n",
       "      <th>Diff_in_Seconds</th>\n",
       "      <th>diff_abs</th>\n",
       "      <th>same_author</th>\n",
       "      <th>messageId</th>\n",
       "    </tr>\n",
       "  </thead>\n",
       "  <tbody>\n",
       "    <tr>\n",
       "      <th>0</th>\n",
       "      <td>U01J1EA8JN7</td>\n",
       "      <td>2022-12-07 14:42:41</td>\n",
       "      <td>Gente alguien sabe como se le puede agregar a ...</td>\n",
       "      <td>0.0</td>\n",
       "      <td>0.0</td>\n",
       "      <td>0</td>\n",
       "      <td>1</td>\n",
       "    </tr>\n",
       "    <tr>\n",
       "      <th>1</th>\n",
       "      <td>U01SJ480RBR</td>\n",
       "      <td>2022-11-07 16:59:39</td>\n",
       "      <td>Hello</td>\n",
       "      <td>0.0</td>\n",
       "      <td>0.0</td>\n",
       "      <td>1</td>\n",
       "      <td>2</td>\n",
       "    </tr>\n",
       "    <tr>\n",
       "      <th>2</th>\n",
       "      <td>U01SM5J4MMG</td>\n",
       "      <td>2022-11-07 21:15:26</td>\n",
       "      <td>Buenas tardes, intenta poniendo solo git push</td>\n",
       "      <td>0.0</td>\n",
       "      <td>0.0</td>\n",
       "      <td>1</td>\n",
       "      <td>3</td>\n",
       "    </tr>\n",
       "    <tr>\n",
       "      <th>3</th>\n",
       "      <td>U026XFJHQPK</td>\n",
       "      <td>2022-12-14 13:34:18</td>\n",
       "      <td>Hello, good afternoon for the people in europe...</td>\n",
       "      <td>0.0</td>\n",
       "      <td>0.0</td>\n",
       "      <td>1</td>\n",
       "      <td>4</td>\n",
       "    </tr>\n",
       "    <tr>\n",
       "      <th>4</th>\n",
       "      <td>U02G5B470B1</td>\n",
       "      <td>2022-11-15 19:07:30</td>\n",
       "      <td>Hello, where do I found the webpacks options a...</td>\n",
       "      <td>0.0</td>\n",
       "      <td>0.0</td>\n",
       "      <td>1</td>\n",
       "      <td>5</td>\n",
       "    </tr>\n",
       "    <tr>\n",
       "      <th>...</th>\n",
       "      <td>...</td>\n",
       "      <td>...</td>\n",
       "      <td>...</td>\n",
       "      <td>...</td>\n",
       "      <td>...</td>\n",
       "      <td>...</td>\n",
       "      <td>...</td>\n",
       "    </tr>\n",
       "    <tr>\n",
       "      <th>157</th>\n",
       "      <td>U04GCSDB561</td>\n",
       "      <td>2023-01-02 17:54:14</td>\n",
       "      <td>Hola buenas tardes a todos. Estoy en el primer...</td>\n",
       "      <td>263262.0</td>\n",
       "      <td>263262.0</td>\n",
       "      <td>0</td>\n",
       "      <td>135</td>\n",
       "    </tr>\n",
       "    <tr>\n",
       "      <th>158</th>\n",
       "      <td>U04GCSDB561</td>\n",
       "      <td>2023-01-03 15:35:26</td>\n",
       "      <td>Hola, buenos dias. Estoy tratando de que mis i...</td>\n",
       "      <td>78072.0</td>\n",
       "      <td>78072.0</td>\n",
       "      <td>0</td>\n",
       "      <td>136</td>\n",
       "    </tr>\n",
       "    <tr>\n",
       "      <th>159</th>\n",
       "      <td>U04GEJB6GBX</td>\n",
       "      <td>2023-01-02 07:47:22</td>\n",
       "      <td>Hola! Estoy teniendo problemas para hacer un c...</td>\n",
       "      <td>0.0</td>\n",
       "      <td>0.0</td>\n",
       "      <td>1</td>\n",
       "      <td>137</td>\n",
       "    </tr>\n",
       "    <tr>\n",
       "      <th>160</th>\n",
       "      <td>U6MR8LG4Q</td>\n",
       "      <td>2022-11-05 03:11:30</td>\n",
       "      <td>Hey @betomasia12 No need to make the pictures ...</td>\n",
       "      <td>0.0</td>\n",
       "      <td>0.0</td>\n",
       "      <td>1</td>\n",
       "      <td>138</td>\n",
       "    </tr>\n",
       "    <tr>\n",
       "      <th>161</th>\n",
       "      <td>UL08NNSV8</td>\n",
       "      <td>2022-11-01 18:39:22</td>\n",
       "      <td>pareciera que tienes una version de ruby muy a...</td>\n",
       "      <td>0.0</td>\n",
       "      <td>0.0</td>\n",
       "      <td>1</td>\n",
       "      <td>139</td>\n",
       "    </tr>\n",
       "  </tbody>\n",
       "</table>\n",
       "<p>162 rows × 7 columns</p>\n",
       "</div>"
      ],
      "text/plain": [
       "         User_ID            Datetime  \\\n",
       "0    U01J1EA8JN7 2022-12-07 14:42:41   \n",
       "1    U01SJ480RBR 2022-11-07 16:59:39   \n",
       "2    U01SM5J4MMG 2022-11-07 21:15:26   \n",
       "3    U026XFJHQPK 2022-12-14 13:34:18   \n",
       "4    U02G5B470B1 2022-11-15 19:07:30   \n",
       "..           ...                 ...   \n",
       "157  U04GCSDB561 2023-01-02 17:54:14   \n",
       "158  U04GCSDB561 2023-01-03 15:35:26   \n",
       "159  U04GEJB6GBX 2023-01-02 07:47:22   \n",
       "160    U6MR8LG4Q 2022-11-05 03:11:30   \n",
       "161    UL08NNSV8 2022-11-01 18:39:22   \n",
       "\n",
       "                                                  Text  Diff_in_Seconds  \\\n",
       "0    Gente alguien sabe como se le puede agregar a ...              0.0   \n",
       "1                                                Hello              0.0   \n",
       "2        Buenas tardes, intenta poniendo solo git push              0.0   \n",
       "3    Hello, good afternoon for the people in europe...              0.0   \n",
       "4    Hello, where do I found the webpacks options a...              0.0   \n",
       "..                                                 ...              ...   \n",
       "157  Hola buenas tardes a todos. Estoy en el primer...         263262.0   \n",
       "158  Hola, buenos dias. Estoy tratando de que mis i...          78072.0   \n",
       "159  Hola! Estoy teniendo problemas para hacer un c...              0.0   \n",
       "160  Hey @betomasia12 No need to make the pictures ...              0.0   \n",
       "161  pareciera que tienes una version de ruby muy a...              0.0   \n",
       "\n",
       "     diff_abs  same_author  messageId  \n",
       "0         0.0            0          1  \n",
       "1         0.0            1          2  \n",
       "2         0.0            1          3  \n",
       "3         0.0            1          4  \n",
       "4         0.0            1          5  \n",
       "..        ...          ...        ...  \n",
       "157  263262.0            0        135  \n",
       "158   78072.0            0        136  \n",
       "159       0.0            1        137  \n",
       "160       0.0            1        138  \n",
       "161       0.0            1        139  \n",
       "\n",
       "[162 rows x 7 columns]"
      ]
     },
     "execution_count": 35,
     "metadata": {},
     "output_type": "execute_result"
    }
   ],
   "source": [
    "def create_QuestionId(df):\n",
    "    for group in df.groupby(['User_ID']):\n",
    "        df['messageId'] = df['diff_abs'].gt(300).cumsum() + 1 + df.same_author.cumsum()\n",
    "    return df\n",
    "\n",
    "create_QuestionId(df_questions)"
   ]
  },
  {
   "cell_type": "code",
   "execution_count": 36,
   "id": "0e5ddb95",
   "metadata": {},
   "outputs": [
    {
     "data": {
      "text/plain": [
       "(162, 7)"
      ]
     },
     "execution_count": 36,
     "metadata": {},
     "output_type": "execute_result"
    }
   ],
   "source": [
    "df_questions.shape"
   ]
  },
  {
   "cell_type": "code",
   "execution_count": 33,
   "id": "9199309f",
   "metadata": {},
   "outputs": [
    {
     "data": {
      "text/html": [
       "<div>\n",
       "<style scoped>\n",
       "    .dataframe tbody tr th:only-of-type {\n",
       "        vertical-align: middle;\n",
       "    }\n",
       "\n",
       "    .dataframe tbody tr th {\n",
       "        vertical-align: top;\n",
       "    }\n",
       "\n",
       "    .dataframe thead th {\n",
       "        text-align: right;\n",
       "    }\n",
       "</style>\n",
       "<table border=\"1\" class=\"dataframe\">\n",
       "  <thead>\n",
       "    <tr style=\"text-align: right;\">\n",
       "      <th></th>\n",
       "      <th>User_ID</th>\n",
       "      <th>Datetime</th>\n",
       "      <th>Text</th>\n",
       "      <th>Diff_in_Seconds</th>\n",
       "      <th>diff_abs</th>\n",
       "      <th>same_author</th>\n",
       "      <th>messageId</th>\n",
       "    </tr>\n",
       "  </thead>\n",
       "  <tbody>\n",
       "    <tr>\n",
       "      <th>0</th>\n",
       "      <td>U01KGAER1TM</td>\n",
       "      <td>2022-11-04 16:14:32</td>\n",
       "      <td>Como estan, tengo un problema, ocupo subir una...</td>\n",
       "      <td>0.0</td>\n",
       "      <td>0.0</td>\n",
       "      <td>0</td>\n",
       "      <td>1</td>\n",
       "    </tr>\n",
       "    <tr>\n",
       "      <th>1</th>\n",
       "      <td>U01SJ480RBR</td>\n",
       "      <td>2022-11-07 16:59:39</td>\n",
       "      <td>Hello</td>\n",
       "      <td>0.0</td>\n",
       "      <td>0.0</td>\n",
       "      <td>1</td>\n",
       "      <td>2</td>\n",
       "    </tr>\n",
       "    <tr>\n",
       "      <th>2</th>\n",
       "      <td>U01SM5J4MMG</td>\n",
       "      <td>2022-11-07 21:15:26</td>\n",
       "      <td>Buenas tardes, intenta poniendo solo git push</td>\n",
       "      <td>0.0</td>\n",
       "      <td>0.0</td>\n",
       "      <td>1</td>\n",
       "      <td>3</td>\n",
       "    </tr>\n",
       "    <tr>\n",
       "      <th>3</th>\n",
       "      <td>U02N1P8CV6W</td>\n",
       "      <td>2022-10-31 22:55:36</td>\n",
       "      <td>Hola chicos, he estado intentando llevar a pro...</td>\n",
       "      <td>0.0</td>\n",
       "      <td>0.0</td>\n",
       "      <td>1</td>\n",
       "      <td>4</td>\n",
       "    </tr>\n",
       "    <tr>\n",
       "      <th>4</th>\n",
       "      <td>U02NE11UHNC</td>\n",
       "      <td>2022-11-03 22:28:10</td>\n",
       "      <td>have someone imported custom fonts (no google ...</td>\n",
       "      <td>0.0</td>\n",
       "      <td>0.0</td>\n",
       "      <td>1</td>\n",
       "      <td>5</td>\n",
       "    </tr>\n",
       "  </tbody>\n",
       "</table>\n",
       "</div>"
      ],
      "text/plain": [
       "       User_ID            Datetime  \\\n",
       "0  U01KGAER1TM 2022-11-04 16:14:32   \n",
       "1  U01SJ480RBR 2022-11-07 16:59:39   \n",
       "2  U01SM5J4MMG 2022-11-07 21:15:26   \n",
       "3  U02N1P8CV6W 2022-10-31 22:55:36   \n",
       "4  U02NE11UHNC 2022-11-03 22:28:10   \n",
       "\n",
       "                                                Text  Diff_in_Seconds  \\\n",
       "0  Como estan, tengo un problema, ocupo subir una...              0.0   \n",
       "1                                              Hello              0.0   \n",
       "2      Buenas tardes, intenta poniendo solo git push              0.0   \n",
       "3  Hola chicos, he estado intentando llevar a pro...              0.0   \n",
       "4  have someone imported custom fonts (no google ...              0.0   \n",
       "\n",
       "   diff_abs  same_author  messageId  \n",
       "0       0.0            0          1  \n",
       "1       0.0            1          2  \n",
       "2       0.0            1          3  \n",
       "3       0.0            1          4  \n",
       "4       0.0            1          5  "
      ]
     },
     "execution_count": 33,
     "metadata": {},
     "output_type": "execute_result"
    }
   ],
   "source": [
    "df_questions.head(5)"
   ]
  },
  {
   "cell_type": "markdown",
   "id": "7a2ff49d",
   "metadata": {},
   "source": [
    "**Merge each dataframe to its previous columns**"
   ]
  },
  {
   "cell_type": "code",
   "execution_count": 23,
   "id": "11f2d42c",
   "metadata": {},
   "outputs": [],
   "source": [
    "df_answers = df_answers.merge(A_df, how = 'left', left_on = ['User_ID', 'Datetime', 'Text'],\n",
    "    right_on = ['User_ID', 'Datetime', 'Text']).drop(['Diff_in_Seconds','diff_abs','same_author','Text_raw'], axis=1)"
   ]
  },
  {
   "cell_type": "code",
   "execution_count": 24,
   "id": "99d4f910",
   "metadata": {},
   "outputs": [],
   "source": [
    "df_answers['Response_time'] = df_answers['Datetime'] - df_answers['Datetime_Thread']"
   ]
  },
  {
   "cell_type": "code",
   "execution_count": 25,
   "id": "0e7db7ad",
   "metadata": {},
   "outputs": [
    {
     "data": {
      "text/plain": [
       "(337, 19)"
      ]
     },
     "execution_count": 25,
     "metadata": {},
     "output_type": "execute_result"
    }
   ],
   "source": [
    "df_answers.shape"
   ]
  },
  {
   "cell_type": "code",
   "execution_count": 37,
   "id": "49f64500",
   "metadata": {},
   "outputs": [],
   "source": [
    "df_questions = df_questions.merge(Q_df, how = 'left', left_on = ['User_ID', 'Datetime', 'Text'],\n",
    "    right_on = ['User_ID', 'Datetime', 'Text']).drop(['Diff_in_Seconds','diff_abs','same_author','Text_raw'], axis=1)"
   ]
  },
  {
   "cell_type": "code",
   "execution_count": 38,
   "id": "33823d6a",
   "metadata": {},
   "outputs": [
    {
     "data": {
      "text/plain": [
       "(162, 18)"
      ]
     },
     "execution_count": 38,
     "metadata": {},
     "output_type": "execute_result"
    }
   ],
   "source": [
    "df_questions.shape"
   ]
  },
  {
   "cell_type": "markdown",
   "id": "0622db25",
   "metadata": {},
   "source": [
    "**Merge text and timestamps in rows that have the same messageId**"
   ]
  },
  {
   "cell_type": "code",
   "execution_count": 39,
   "id": "e841b762",
   "metadata": {},
   "outputs": [],
   "source": [
    "df_answers['Text'] = df_answers.groupby(['messageId'])['Text'].transform(lambda x : ' '.join(x))\n",
    "df_questions['Text'] = df_questions.groupby(['messageId'])['Text'].transform(lambda x : ' '.join(x))"
   ]
  },
  {
   "cell_type": "code",
   "execution_count": 40,
   "id": "7767d088",
   "metadata": {},
   "outputs": [],
   "source": [
    "df_questions.dropna(axis=1, how='all', inplace=True)\n",
    "df_questions['Timestamp'] = df_questions.groupby(['messageId'])['Timestamp'].transform(lambda x : ','.join(map(str, x)))"
   ]
  },
  {
   "cell_type": "code",
   "execution_count": 41,
   "id": "61fa2312",
   "metadata": {},
   "outputs": [],
   "source": [
    "#rename to ids in both dataframes\n",
    "df_questions.rename(columns={\"Timestamp\": \"Question_ID\", \"Text\":\"Question_Text\"}, inplace=True)\n",
    "df_answers.rename(columns={\"Timestamp\": \"Answer_ID\", \"Timestamp_Thread\": \"Key_to_Question_ID\",\n",
    "                    \"User_ID\":\"Answer_User_ID\",\"Full_Name\":\"Answer_Full_Name\",\"Email\":\"Answer_email\",\"Text\":\"Answer_Text\",\"Is_agent\":\"Answer_from_Agent\",\n",
    "                    \"Datetime\":\"Answer_Datetime\", \"Datetime_Thread\":\"Answer_Dt_Thread\"},inplace=True)"
   ]
  },
  {
   "cell_type": "code",
   "execution_count": 42,
   "id": "9b62c724",
   "metadata": {},
   "outputs": [],
   "source": [
    "#Drop duplicates\n",
    "df_questions = df_questions.drop_duplicates(subset=[\"Question_Text\",\"Question_ID\"],keep='first')\n",
    "df_answers = df_answers.drop_duplicates(subset=[\"Answer_Text\"],keep='first')"
   ]
  },
  {
   "cell_type": "code",
   "execution_count": 43,
   "id": "846ad69f",
   "metadata": {},
   "outputs": [
    {
     "data": {
      "text/plain": [
       "(235, 19)"
      ]
     },
     "execution_count": 43,
     "metadata": {},
     "output_type": "execute_result"
    }
   ],
   "source": [
    "df_answers.shape"
   ]
  },
  {
   "cell_type": "code",
   "execution_count": 44,
   "id": "2123cecf",
   "metadata": {},
   "outputs": [
    {
     "data": {
      "text/plain": [
       "(139, 16)"
      ]
     },
     "execution_count": 44,
     "metadata": {},
     "output_type": "execute_result"
    }
   ],
   "source": [
    "df_questions.shape"
   ]
  },
  {
   "cell_type": "markdown",
   "id": "07f4006c",
   "metadata": {},
   "source": [
    "### Combining both dataframes"
   ]
  },
  {
   "cell_type": "code",
   "execution_count": 45,
   "id": "1211c002",
   "metadata": {},
   "outputs": [],
   "source": [
    "#create a list from df3 question_id column\n",
    "question_ids_list = df_questions['Question_ID'].tolist()"
   ]
  },
  {
   "cell_type": "code",
   "execution_count": 46,
   "id": "a0c4a031",
   "metadata": {},
   "outputs": [],
   "source": [
    "def id_autocompletion(search):\n",
    "    for id in question_ids_list:\n",
    "        if search in id:\n",
    "            return id\n",
    "    \n",
    "    return None"
   ]
  },
  {
   "cell_type": "code",
   "execution_count": 47,
   "id": "cd1ff7f3",
   "metadata": {},
   "outputs": [],
   "source": [
    "df_answers['Key_to_Question_ID'] =  df_answers['Key_to_Question_ID'].apply(id_autocompletion)"
   ]
  },
  {
   "cell_type": "code",
   "execution_count": 48,
   "id": "e90f3ffb",
   "metadata": {},
   "outputs": [],
   "source": [
    "df_answers['Key_to_Question_ID'] =  np.where(df_answers['Key_to_Question_ID'].isnull(), str(df_answers['Answer_Dt_Thread']), df_answers['Key_to_Question_ID'])"
   ]
  },
  {
   "cell_type": "code",
   "execution_count": 49,
   "id": "aed93e68",
   "metadata": {},
   "outputs": [
    {
     "name": "stdout",
     "output_type": "stream",
     "text": [
      "<class 'pandas.core.frame.DataFrame'>\n",
      "Int64Index: 235 entries, 0 to 335\n",
      "Data columns (total 19 columns):\n",
      " #   Column              Non-Null Count  Dtype          \n",
      "---  ------              --------------  -----          \n",
      " 0   Answer_User_ID      235 non-null    object         \n",
      " 1   Answer_Datetime     235 non-null    datetime64[ns] \n",
      " 2   Answer_Text         235 non-null    object         \n",
      " 3   messageId           235 non-null    int64          \n",
      " 4   Channel_ID          235 non-null    object         \n",
      " 5   Channel_Slug        235 non-null    object         \n",
      " 6   Answer_ID           235 non-null    object         \n",
      " 7   Key_to_Question_ID  235 non-null    object         \n",
      " 8   Answer_Full_Name    233 non-null    object         \n",
      " 9   Answer_email        235 non-null    object         \n",
      " 10  Permalink           235 non-null    object         \n",
      " 11  Slack_username      235 non-null    object         \n",
      " 12  Team_ID             235 non-null    object         \n",
      " 13  Team_Name           235 non-null    object         \n",
      " 14  Is_Bot              235 non-null    int64          \n",
      " 15  Is_a_question       235 non-null    int64          \n",
      " 16  Answer_from_Agent   235 non-null    int64          \n",
      " 17  Answer_Dt_Thread    235 non-null    datetime64[ns] \n",
      " 18  Response_time       235 non-null    timedelta64[ns]\n",
      "dtypes: datetime64[ns](2), int64(4), object(12), timedelta64[ns](1)\n",
      "memory usage: 36.7+ KB\n"
     ]
    }
   ],
   "source": [
    "df_answers.info()"
   ]
  },
  {
   "cell_type": "code",
   "execution_count": 50,
   "id": "be78a2d1",
   "metadata": {},
   "outputs": [
    {
     "data": {
      "text/html": [
       "<div>\n",
       "<style scoped>\n",
       "    .dataframe tbody tr th:only-of-type {\n",
       "        vertical-align: middle;\n",
       "    }\n",
       "\n",
       "    .dataframe tbody tr th {\n",
       "        vertical-align: top;\n",
       "    }\n",
       "\n",
       "    .dataframe thead th {\n",
       "        text-align: right;\n",
       "    }\n",
       "</style>\n",
       "<table border=\"1\" class=\"dataframe\">\n",
       "  <thead>\n",
       "    <tr style=\"text-align: right;\">\n",
       "      <th></th>\n",
       "      <th>Answer_User_ID</th>\n",
       "      <th>Answer_ID</th>\n",
       "      <th>Key_to_Question_ID</th>\n",
       "      <th>Answer_Datetime</th>\n",
       "      <th>Answer_Dt_Thread</th>\n",
       "    </tr>\n",
       "  </thead>\n",
       "  <tbody>\n",
       "    <tr>\n",
       "      <th>0</th>\n",
       "      <td>U015XDM7KRA</td>\n",
       "      <td>11/25/2022 14:32:52</td>\n",
       "      <td>0     2022-11-25 11:26:19\\n1     2022-12-09 21...</td>\n",
       "      <td>2022-11-25 14:32:52</td>\n",
       "      <td>2022-11-25 11:26:19</td>\n",
       "    </tr>\n",
       "    <tr>\n",
       "      <th>1</th>\n",
       "      <td>U01GE2A7HV4</td>\n",
       "      <td>12/9/2022 22:13:54</td>\n",
       "      <td>0     2022-11-25 11:26:19\\n1     2022-12-09 21...</td>\n",
       "      <td>2022-12-09 22:13:54</td>\n",
       "      <td>2022-12-09 21:31:44</td>\n",
       "    </tr>\n",
       "    <tr>\n",
       "      <th>2</th>\n",
       "      <td>U01GE2A7HV4</td>\n",
       "      <td>12/9/2022 22:19:48</td>\n",
       "      <td>0     2022-11-25 11:26:19\\n1     2022-12-09 21...</td>\n",
       "      <td>2022-12-09 22:19:48</td>\n",
       "      <td>2022-12-09 21:31:44</td>\n",
       "    </tr>\n",
       "    <tr>\n",
       "      <th>3</th>\n",
       "      <td>U01PE4CNXN1</td>\n",
       "      <td>11/30/2022 11:33:40</td>\n",
       "      <td>11/30/2022 10:03:47</td>\n",
       "      <td>2022-11-30 11:33:40</td>\n",
       "      <td>2022-11-30 10:03:47</td>\n",
       "    </tr>\n",
       "    <tr>\n",
       "      <th>4</th>\n",
       "      <td>U01PE4CNXN1</td>\n",
       "      <td>11/30/2022 11:39:41</td>\n",
       "      <td>11/30/2022 10:03:47</td>\n",
       "      <td>2022-11-30 11:39:41</td>\n",
       "      <td>2022-11-30 10:03:47</td>\n",
       "    </tr>\n",
       "    <tr>\n",
       "      <th>...</th>\n",
       "      <td>...</td>\n",
       "      <td>...</td>\n",
       "      <td>...</td>\n",
       "      <td>...</td>\n",
       "      <td>...</td>\n",
       "    </tr>\n",
       "    <tr>\n",
       "      <th>331</th>\n",
       "      <td>UPRFXC3QE</td>\n",
       "      <td>12/6/2022 20:51:46</td>\n",
       "      <td>12/4/2022 0:46:13</td>\n",
       "      <td>2022-12-06 20:51:46</td>\n",
       "      <td>2022-12-04 00:46:13</td>\n",
       "    </tr>\n",
       "    <tr>\n",
       "      <th>332</th>\n",
       "      <td>UPRFXC3QE</td>\n",
       "      <td>12/6/2022 21:10:39</td>\n",
       "      <td>12/4/2022 0:46:13</td>\n",
       "      <td>2022-12-06 21:10:39</td>\n",
       "      <td>2022-12-04 00:46:13</td>\n",
       "    </tr>\n",
       "    <tr>\n",
       "      <th>333</th>\n",
       "      <td>UPRFXC3QE</td>\n",
       "      <td>12/7/2022 16:28:05</td>\n",
       "      <td>12/4/2022 0:46:13</td>\n",
       "      <td>2022-12-07 16:28:05</td>\n",
       "      <td>2022-12-04 00:46:13</td>\n",
       "    </tr>\n",
       "    <tr>\n",
       "      <th>334</th>\n",
       "      <td>UPRFXC3QE</td>\n",
       "      <td>12/9/2022 13:47:04</td>\n",
       "      <td>12/9/2022 2:34:55</td>\n",
       "      <td>2022-12-09 13:47:04</td>\n",
       "      <td>2022-12-09 02:34:55</td>\n",
       "    </tr>\n",
       "    <tr>\n",
       "      <th>335</th>\n",
       "      <td>UU409472Q</td>\n",
       "      <td>11/2/2022 11:33:54</td>\n",
       "      <td>11/2/2022 11:29:17</td>\n",
       "      <td>2022-11-02 11:33:54</td>\n",
       "      <td>2022-11-02 11:29:17</td>\n",
       "    </tr>\n",
       "  </tbody>\n",
       "</table>\n",
       "<p>235 rows × 5 columns</p>\n",
       "</div>"
      ],
      "text/plain": [
       "    Answer_User_ID            Answer_ID  \\\n",
       "0      U015XDM7KRA  11/25/2022 14:32:52   \n",
       "1      U01GE2A7HV4   12/9/2022 22:13:54   \n",
       "2      U01GE2A7HV4   12/9/2022 22:19:48   \n",
       "3      U01PE4CNXN1  11/30/2022 11:33:40   \n",
       "4      U01PE4CNXN1  11/30/2022 11:39:41   \n",
       "..             ...                  ...   \n",
       "331      UPRFXC3QE   12/6/2022 20:51:46   \n",
       "332      UPRFXC3QE   12/6/2022 21:10:39   \n",
       "333      UPRFXC3QE   12/7/2022 16:28:05   \n",
       "334      UPRFXC3QE   12/9/2022 13:47:04   \n",
       "335      UU409472Q   11/2/2022 11:33:54   \n",
       "\n",
       "                                    Key_to_Question_ID     Answer_Datetime  \\\n",
       "0    0     2022-11-25 11:26:19\\n1     2022-12-09 21... 2022-11-25 14:32:52   \n",
       "1    0     2022-11-25 11:26:19\\n1     2022-12-09 21... 2022-12-09 22:13:54   \n",
       "2    0     2022-11-25 11:26:19\\n1     2022-12-09 21... 2022-12-09 22:19:48   \n",
       "3                                  11/30/2022 10:03:47 2022-11-30 11:33:40   \n",
       "4                                  11/30/2022 10:03:47 2022-11-30 11:39:41   \n",
       "..                                                 ...                 ...   \n",
       "331                                  12/4/2022 0:46:13 2022-12-06 20:51:46   \n",
       "332                                  12/4/2022 0:46:13 2022-12-06 21:10:39   \n",
       "333                                  12/4/2022 0:46:13 2022-12-07 16:28:05   \n",
       "334                                  12/9/2022 2:34:55 2022-12-09 13:47:04   \n",
       "335                                 11/2/2022 11:29:17 2022-11-02 11:33:54   \n",
       "\n",
       "       Answer_Dt_Thread  \n",
       "0   2022-11-25 11:26:19  \n",
       "1   2022-12-09 21:31:44  \n",
       "2   2022-12-09 21:31:44  \n",
       "3   2022-11-30 10:03:47  \n",
       "4   2022-11-30 10:03:47  \n",
       "..                  ...  \n",
       "331 2022-12-04 00:46:13  \n",
       "332 2022-12-04 00:46:13  \n",
       "333 2022-12-04 00:46:13  \n",
       "334 2022-12-09 02:34:55  \n",
       "335 2022-11-02 11:29:17  \n",
       "\n",
       "[235 rows x 5 columns]"
      ]
     },
     "execution_count": 50,
     "metadata": {},
     "output_type": "execute_result"
    }
   ],
   "source": [
    "#verifying it worked\n",
    "df_answers[['Answer_User_ID','Answer_ID','Key_to_Question_ID', 'Answer_Datetime', 'Answer_Dt_Thread']]"
   ]
  },
  {
   "cell_type": "code",
   "execution_count": 49,
   "id": "ca7dc45a",
   "metadata": {},
   "outputs": [],
   "source": [
    "#Saving to csv\n",
    "\n",
    "df_questions.to_csv('../output/questions.csv')\n",
    "\n",
    "df_answers.to_csv('../output/answers.csv')"
   ]
  },
  {
   "cell_type": "code",
   "execution_count": 51,
   "id": "0e90dfb1",
   "metadata": {},
   "outputs": [],
   "source": [
    "final_df = pd.merge(df_questions, df_answers[['Answer_User_ID','Answer_Full_Name','Answer_email','Answer_from_Agent','Answer_Text','Answer_ID','Key_to_Question_ID',\n",
    "            'Answer_Datetime','Answer_Dt_Thread','Response_time']], how = 'left', left_on = ['Question_ID'], right_on = ['Key_to_Question_ID'])"
   ]
  },
  {
   "cell_type": "code",
   "execution_count": 52,
   "id": "750defc6",
   "metadata": {},
   "outputs": [
    {
     "data": {
      "text/plain": [
       "(213, 26)"
      ]
     },
     "execution_count": 52,
     "metadata": {},
     "output_type": "execute_result"
    }
   ],
   "source": [
    "final_df.shape"
   ]
  },
  {
   "cell_type": "code",
   "execution_count": 53,
   "id": "89ec96dd",
   "metadata": {},
   "outputs": [
    {
     "data": {
      "text/html": [
       "<div>\n",
       "<style scoped>\n",
       "    .dataframe tbody tr th:only-of-type {\n",
       "        vertical-align: middle;\n",
       "    }\n",
       "\n",
       "    .dataframe tbody tr th {\n",
       "        vertical-align: top;\n",
       "    }\n",
       "\n",
       "    .dataframe thead th {\n",
       "        text-align: right;\n",
       "    }\n",
       "</style>\n",
       "<table border=\"1\" class=\"dataframe\">\n",
       "  <thead>\n",
       "    <tr style=\"text-align: right;\">\n",
       "      <th></th>\n",
       "      <th>User_ID</th>\n",
       "      <th>Datetime</th>\n",
       "      <th>Question_Text</th>\n",
       "      <th>messageId</th>\n",
       "      <th>Channel_ID</th>\n",
       "      <th>Channel_Slug</th>\n",
       "      <th>Question_ID</th>\n",
       "      <th>Full_Name</th>\n",
       "      <th>Email</th>\n",
       "      <th>Permalink</th>\n",
       "      <th>...</th>\n",
       "      <th>Answer_User_ID</th>\n",
       "      <th>Answer_Full_Name</th>\n",
       "      <th>Answer_email</th>\n",
       "      <th>Answer_from_Agent</th>\n",
       "      <th>Answer_Text</th>\n",
       "      <th>Answer_ID</th>\n",
       "      <th>Key_to_Question_ID</th>\n",
       "      <th>Answer_Datetime</th>\n",
       "      <th>Answer_Dt_Thread</th>\n",
       "      <th>Response_time</th>\n",
       "    </tr>\n",
       "  </thead>\n",
       "  <tbody>\n",
       "    <tr>\n",
       "      <th>0</th>\n",
       "      <td>U01J1EA8JN7</td>\n",
       "      <td>2022-12-07 14:42:41</td>\n",
       "      <td>Gente alguien sabe como se le puede agregar a ...</td>\n",
       "      <td>1</td>\n",
       "      <td>CAZ9W99U4</td>\n",
       "      <td>public-support-full-stack</td>\n",
       "      <td>12/7/2022 14:42:41</td>\n",
       "      <td>LucasVY</td>\n",
       "      <td>Lucas.varasy@gmail.com</td>\n",
       "      <td>https://4geeksacademy.slack.com/archives/CAZ9W...</td>\n",
       "      <td>...</td>\n",
       "      <td>NaN</td>\n",
       "      <td>NaN</td>\n",
       "      <td>NaN</td>\n",
       "      <td>NaN</td>\n",
       "      <td>NaN</td>\n",
       "      <td>NaN</td>\n",
       "      <td>NaN</td>\n",
       "      <td>NaT</td>\n",
       "      <td>NaT</td>\n",
       "      <td>NaT</td>\n",
       "    </tr>\n",
       "    <tr>\n",
       "      <th>1</th>\n",
       "      <td>U01SJ480RBR</td>\n",
       "      <td>2022-11-07 16:59:39</td>\n",
       "      <td>Hello</td>\n",
       "      <td>2</td>\n",
       "      <td>CAZ9W99U4</td>\n",
       "      <td>public-support-full-stack</td>\n",
       "      <td>11/7/2022 16:59:39</td>\n",
       "      <td>Maikol Moreira</td>\n",
       "      <td>Niukeitor@hotmail.com</td>\n",
       "      <td>https://4geeksacademy.slack.com/archives/CAZ9W...</td>\n",
       "      <td>...</td>\n",
       "      <td>NaN</td>\n",
       "      <td>NaN</td>\n",
       "      <td>NaN</td>\n",
       "      <td>NaN</td>\n",
       "      <td>NaN</td>\n",
       "      <td>NaN</td>\n",
       "      <td>NaN</td>\n",
       "      <td>NaT</td>\n",
       "      <td>NaT</td>\n",
       "      <td>NaT</td>\n",
       "    </tr>\n",
       "    <tr>\n",
       "      <th>2</th>\n",
       "      <td>U01SM5J4MMG</td>\n",
       "      <td>2022-11-07 21:15:26</td>\n",
       "      <td>Buenas tardes, intenta poniendo solo git push</td>\n",
       "      <td>3</td>\n",
       "      <td>CAZ9W99U4</td>\n",
       "      <td>public-support-full-stack</td>\n",
       "      <td>11/7/2022 21:15:26</td>\n",
       "      <td>Alvaro Javier Chagas Capurro</td>\n",
       "      <td>alvarojavierchagas@hotmail.com</td>\n",
       "      <td>https://4geeksacademy.slack.com/archives/CAZ9W...</td>\n",
       "      <td>...</td>\n",
       "      <td>U01SM5J4MMG</td>\n",
       "      <td>Alvaro Javier Chagas Capurro</td>\n",
       "      <td>alvarojavierchagas@hotmail.com</td>\n",
       "      <td>0.0</td>\n",
       "      <td>BUen dia pudiste solucionar?? Podrias pasarme ...</td>\n",
       "      <td>11/8/2022 14:09:39</td>\n",
       "      <td>11/7/2022 21:15:26</td>\n",
       "      <td>2022-11-08 14:09:39</td>\n",
       "      <td>2022-11-07 21:15:26</td>\n",
       "      <td>0 days 16:54:13</td>\n",
       "    </tr>\n",
       "    <tr>\n",
       "      <th>3</th>\n",
       "      <td>U026XFJHQPK</td>\n",
       "      <td>2022-12-14 13:34:18</td>\n",
       "      <td>Hello, good afternoon for the people in europe...</td>\n",
       "      <td>4</td>\n",
       "      <td>CAZ9W99U4</td>\n",
       "      <td>public-support-full-stack</td>\n",
       "      <td>12/14/2022 13:34:18</td>\n",
       "      <td>Nicola Martinez Clemente</td>\n",
       "      <td>nicoenrique_1994@hotmail.com</td>\n",
       "      <td>https://4geeksacademy.slack.com/archives/CAZ9W...</td>\n",
       "      <td>...</td>\n",
       "      <td>NaN</td>\n",
       "      <td>NaN</td>\n",
       "      <td>NaN</td>\n",
       "      <td>NaN</td>\n",
       "      <td>NaN</td>\n",
       "      <td>NaN</td>\n",
       "      <td>NaN</td>\n",
       "      <td>NaT</td>\n",
       "      <td>NaT</td>\n",
       "      <td>NaT</td>\n",
       "    </tr>\n",
       "    <tr>\n",
       "      <th>4</th>\n",
       "      <td>U02G5B470B1</td>\n",
       "      <td>2022-11-15 19:07:30</td>\n",
       "      <td>Hello, where do I found the webpacks options a...</td>\n",
       "      <td>5</td>\n",
       "      <td>CAZ9W99U4</td>\n",
       "      <td>public-support-full-stack</td>\n",
       "      <td>11/15/2022 19:07:30</td>\n",
       "      <td>Facundo Gul dos Santos</td>\n",
       "      <td>facundogds@gmail.com</td>\n",
       "      <td>https://4geeksacademy.slack.com/archives/CAZ9W...</td>\n",
       "      <td>...</td>\n",
       "      <td>U02G5B470B1</td>\n",
       "      <td>Facundo Gul dos Santos</td>\n",
       "      <td>facundogds@gmail.com</td>\n",
       "      <td>0.0</td>\n",
       "      <td>Thanks, mate, it's was so simple but I've forg...</td>\n",
       "      <td>11/15/2022 19:28:18</td>\n",
       "      <td>11/15/2022 19:07:30</td>\n",
       "      <td>2022-11-15 19:28:18</td>\n",
       "      <td>2022-11-15 19:07:30</td>\n",
       "      <td>0 days 00:20:48</td>\n",
       "    </tr>\n",
       "    <tr>\n",
       "      <th>...</th>\n",
       "      <td>...</td>\n",
       "      <td>...</td>\n",
       "      <td>...</td>\n",
       "      <td>...</td>\n",
       "      <td>...</td>\n",
       "      <td>...</td>\n",
       "      <td>...</td>\n",
       "      <td>...</td>\n",
       "      <td>...</td>\n",
       "      <td>...</td>\n",
       "      <td>...</td>\n",
       "      <td>...</td>\n",
       "      <td>...</td>\n",
       "      <td>...</td>\n",
       "      <td>...</td>\n",
       "      <td>...</td>\n",
       "      <td>...</td>\n",
       "      <td>...</td>\n",
       "      <td>...</td>\n",
       "      <td>...</td>\n",
       "      <td>...</td>\n",
       "    </tr>\n",
       "    <tr>\n",
       "      <th>208</th>\n",
       "      <td>U04GCSDB561</td>\n",
       "      <td>2023-01-03 15:35:26</td>\n",
       "      <td>Hola, buenos dias. Estoy tratando de que mis i...</td>\n",
       "      <td>136</td>\n",
       "      <td>CAZ9W99U4</td>\n",
       "      <td>public-support-full-stack</td>\n",
       "      <td>1/3/2023 15:35:26</td>\n",
       "      <td>Miguel Ramirez</td>\n",
       "      <td>miguelramirez2210@gmail.com</td>\n",
       "      <td>https://4geeksacademy.slack.com/archives/CAZ9W...</td>\n",
       "      <td>...</td>\n",
       "      <td>U04DZEKGP28</td>\n",
       "      <td>Hans Aparicio</td>\n",
       "      <td>hansaparicio@gmail.com</td>\n",
       "      <td>0.0</td>\n",
       "      <td>a tu orden avisame si necesitas mas ayuda</td>\n",
       "      <td>1/3/2023 16:04:10</td>\n",
       "      <td>1/3/2023 15:35:26</td>\n",
       "      <td>2023-01-03 16:04:10</td>\n",
       "      <td>2023-01-03 15:35:26</td>\n",
       "      <td>0 days 00:28:44</td>\n",
       "    </tr>\n",
       "    <tr>\n",
       "      <th>209</th>\n",
       "      <td>U04GCSDB561</td>\n",
       "      <td>2023-01-03 15:35:26</td>\n",
       "      <td>Hola, buenos dias. Estoy tratando de que mis i...</td>\n",
       "      <td>136</td>\n",
       "      <td>CAZ9W99U4</td>\n",
       "      <td>public-support-full-stack</td>\n",
       "      <td>1/3/2023 15:35:26</td>\n",
       "      <td>Miguel Ramirez</td>\n",
       "      <td>miguelramirez2210@gmail.com</td>\n",
       "      <td>https://4geeksacademy.slack.com/archives/CAZ9W...</td>\n",
       "      <td>...</td>\n",
       "      <td>U04GCSDB561</td>\n",
       "      <td>Miguel Ramirez</td>\n",
       "      <td>miguelramirez2210@gmail.com</td>\n",
       "      <td>0.0</td>\n",
       "      <td>Gracias Hans!</td>\n",
       "      <td>1/3/2023 16:03:06</td>\n",
       "      <td>1/3/2023 15:35:26</td>\n",
       "      <td>2023-01-03 16:03:06</td>\n",
       "      <td>2023-01-03 15:35:26</td>\n",
       "      <td>0 days 00:27:40</td>\n",
       "    </tr>\n",
       "    <tr>\n",
       "      <th>210</th>\n",
       "      <td>U04GEJB6GBX</td>\n",
       "      <td>2023-01-02 07:47:22</td>\n",
       "      <td>Hola! Estoy teniendo problemas para hacer un c...</td>\n",
       "      <td>137</td>\n",
       "      <td>CAZ9W99U4</td>\n",
       "      <td>public-support-full-stack</td>\n",
       "      <td>1/2/2023 7:47:22</td>\n",
       "      <td>Eduardo Andrade</td>\n",
       "      <td>edu2andrade@gmail.com</td>\n",
       "      <td>https://4geeksacademy.slack.com/archives/CAZ9W...</td>\n",
       "      <td>...</td>\n",
       "      <td>U04GEJB6GBX</td>\n",
       "      <td>Eduardo Andrade</td>\n",
       "      <td>edu2andrade@gmail.com</td>\n",
       "      <td>0.0</td>\n",
       "      <td>Ya esta arreglado :man-facepalming: jaja</td>\n",
       "      <td>1/2/2023 10:47:50</td>\n",
       "      <td>1/2/2023 7:47:22</td>\n",
       "      <td>2023-01-02 10:47:50</td>\n",
       "      <td>2023-01-02 07:47:22</td>\n",
       "      <td>0 days 03:00:28</td>\n",
       "    </tr>\n",
       "    <tr>\n",
       "      <th>211</th>\n",
       "      <td>U6MR8LG4Q</td>\n",
       "      <td>2022-11-05 03:11:30</td>\n",
       "      <td>Hey @betomasia12 No need to make the pictures ...</td>\n",
       "      <td>138</td>\n",
       "      <td>CAZ9W99U4</td>\n",
       "      <td>public-support-full-stack</td>\n",
       "      <td>11/5/2022 3:11:30</td>\n",
       "      <td>Marcelo Ricigliano</td>\n",
       "      <td>mricigliano@4geeksacademy.com</td>\n",
       "      <td>https://4geeksacademy.slack.com/archives/CAZ9W...</td>\n",
       "      <td>...</td>\n",
       "      <td>NaN</td>\n",
       "      <td>NaN</td>\n",
       "      <td>NaN</td>\n",
       "      <td>NaN</td>\n",
       "      <td>NaN</td>\n",
       "      <td>NaN</td>\n",
       "      <td>NaN</td>\n",
       "      <td>NaT</td>\n",
       "      <td>NaT</td>\n",
       "      <td>NaT</td>\n",
       "    </tr>\n",
       "    <tr>\n",
       "      <th>212</th>\n",
       "      <td>UL08NNSV8</td>\n",
       "      <td>2022-11-01 18:39:22</td>\n",
       "      <td>pareciera que tienes una version de ruby muy a...</td>\n",
       "      <td>139</td>\n",
       "      <td>CAZ9W99U4</td>\n",
       "      <td>public-support-full-stack</td>\n",
       "      <td>11/1/2022 18:39:22</td>\n",
       "      <td>Alejandro Sanchez</td>\n",
       "      <td>aalejo@gmail.com</td>\n",
       "      <td>https://4geeksacademy.slack.com/archives/CAZ9W...</td>\n",
       "      <td>...</td>\n",
       "      <td>NaN</td>\n",
       "      <td>NaN</td>\n",
       "      <td>NaN</td>\n",
       "      <td>NaN</td>\n",
       "      <td>NaN</td>\n",
       "      <td>NaN</td>\n",
       "      <td>NaN</td>\n",
       "      <td>NaT</td>\n",
       "      <td>NaT</td>\n",
       "      <td>NaT</td>\n",
       "    </tr>\n",
       "  </tbody>\n",
       "</table>\n",
       "<p>213 rows × 26 columns</p>\n",
       "</div>"
      ],
      "text/plain": [
       "         User_ID            Datetime  \\\n",
       "0    U01J1EA8JN7 2022-12-07 14:42:41   \n",
       "1    U01SJ480RBR 2022-11-07 16:59:39   \n",
       "2    U01SM5J4MMG 2022-11-07 21:15:26   \n",
       "3    U026XFJHQPK 2022-12-14 13:34:18   \n",
       "4    U02G5B470B1 2022-11-15 19:07:30   \n",
       "..           ...                 ...   \n",
       "208  U04GCSDB561 2023-01-03 15:35:26   \n",
       "209  U04GCSDB561 2023-01-03 15:35:26   \n",
       "210  U04GEJB6GBX 2023-01-02 07:47:22   \n",
       "211    U6MR8LG4Q 2022-11-05 03:11:30   \n",
       "212    UL08NNSV8 2022-11-01 18:39:22   \n",
       "\n",
       "                                         Question_Text  messageId Channel_ID  \\\n",
       "0    Gente alguien sabe como se le puede agregar a ...          1  CAZ9W99U4   \n",
       "1                                                Hello          2  CAZ9W99U4   \n",
       "2        Buenas tardes, intenta poniendo solo git push          3  CAZ9W99U4   \n",
       "3    Hello, good afternoon for the people in europe...          4  CAZ9W99U4   \n",
       "4    Hello, where do I found the webpacks options a...          5  CAZ9W99U4   \n",
       "..                                                 ...        ...        ...   \n",
       "208  Hola, buenos dias. Estoy tratando de que mis i...        136  CAZ9W99U4   \n",
       "209  Hola, buenos dias. Estoy tratando de que mis i...        136  CAZ9W99U4   \n",
       "210  Hola! Estoy teniendo problemas para hacer un c...        137  CAZ9W99U4   \n",
       "211  Hey @betomasia12 No need to make the pictures ...        138  CAZ9W99U4   \n",
       "212  pareciera que tienes una version de ruby muy a...        139  CAZ9W99U4   \n",
       "\n",
       "                  Channel_Slug          Question_ID  \\\n",
       "0    public-support-full-stack   12/7/2022 14:42:41   \n",
       "1    public-support-full-stack   11/7/2022 16:59:39   \n",
       "2    public-support-full-stack   11/7/2022 21:15:26   \n",
       "3    public-support-full-stack  12/14/2022 13:34:18   \n",
       "4    public-support-full-stack  11/15/2022 19:07:30   \n",
       "..                         ...                  ...   \n",
       "208  public-support-full-stack    1/3/2023 15:35:26   \n",
       "209  public-support-full-stack    1/3/2023 15:35:26   \n",
       "210  public-support-full-stack     1/2/2023 7:47:22   \n",
       "211  public-support-full-stack    11/5/2022 3:11:30   \n",
       "212  public-support-full-stack   11/1/2022 18:39:22   \n",
       "\n",
       "                        Full_Name                           Email  \\\n",
       "0                        LucasVY           Lucas.varasy@gmail.com   \n",
       "1                  Maikol Moreira           Niukeitor@hotmail.com   \n",
       "2    Alvaro Javier Chagas Capurro  alvarojavierchagas@hotmail.com   \n",
       "3        Nicola Martinez Clemente    nicoenrique_1994@hotmail.com   \n",
       "4          Facundo Gul dos Santos            facundogds@gmail.com   \n",
       "..                            ...                             ...   \n",
       "208                Miguel Ramirez     miguelramirez2210@gmail.com   \n",
       "209                Miguel Ramirez     miguelramirez2210@gmail.com   \n",
       "210               Eduardo Andrade           edu2andrade@gmail.com   \n",
       "211            Marcelo Ricigliano   mricigliano@4geeksacademy.com   \n",
       "212             Alejandro Sanchez                aalejo@gmail.com   \n",
       "\n",
       "                                             Permalink  ... Answer_User_ID  \\\n",
       "0    https://4geeksacademy.slack.com/archives/CAZ9W...  ...            NaN   \n",
       "1    https://4geeksacademy.slack.com/archives/CAZ9W...  ...            NaN   \n",
       "2    https://4geeksacademy.slack.com/archives/CAZ9W...  ...    U01SM5J4MMG   \n",
       "3    https://4geeksacademy.slack.com/archives/CAZ9W...  ...            NaN   \n",
       "4    https://4geeksacademy.slack.com/archives/CAZ9W...  ...    U02G5B470B1   \n",
       "..                                                 ...  ...            ...   \n",
       "208  https://4geeksacademy.slack.com/archives/CAZ9W...  ...    U04DZEKGP28   \n",
       "209  https://4geeksacademy.slack.com/archives/CAZ9W...  ...    U04GCSDB561   \n",
       "210  https://4geeksacademy.slack.com/archives/CAZ9W...  ...    U04GEJB6GBX   \n",
       "211  https://4geeksacademy.slack.com/archives/CAZ9W...  ...            NaN   \n",
       "212  https://4geeksacademy.slack.com/archives/CAZ9W...  ...            NaN   \n",
       "\n",
       "                 Answer_Full_Name                    Answer_email  \\\n",
       "0                             NaN                             NaN   \n",
       "1                             NaN                             NaN   \n",
       "2    Alvaro Javier Chagas Capurro  alvarojavierchagas@hotmail.com   \n",
       "3                             NaN                             NaN   \n",
       "4          Facundo Gul dos Santos            facundogds@gmail.com   \n",
       "..                            ...                             ...   \n",
       "208                 Hans Aparicio          hansaparicio@gmail.com   \n",
       "209                Miguel Ramirez     miguelramirez2210@gmail.com   \n",
       "210               Eduardo Andrade           edu2andrade@gmail.com   \n",
       "211                           NaN                             NaN   \n",
       "212                           NaN                             NaN   \n",
       "\n",
       "     Answer_from_Agent                                        Answer_Text  \\\n",
       "0                  NaN                                                NaN   \n",
       "1                  NaN                                                NaN   \n",
       "2                  0.0  BUen dia pudiste solucionar?? Podrias pasarme ...   \n",
       "3                  NaN                                                NaN   \n",
       "4                  0.0  Thanks, mate, it's was so simple but I've forg...   \n",
       "..                 ...                                                ...   \n",
       "208                0.0          a tu orden avisame si necesitas mas ayuda   \n",
       "209                0.0                                      Gracias Hans!   \n",
       "210                0.0           Ya esta arreglado :man-facepalming: jaja   \n",
       "211                NaN                                                NaN   \n",
       "212                NaN                                                NaN   \n",
       "\n",
       "               Answer_ID   Key_to_Question_ID     Answer_Datetime  \\\n",
       "0                    NaN                  NaN                 NaT   \n",
       "1                    NaN                  NaN                 NaT   \n",
       "2     11/8/2022 14:09:39   11/7/2022 21:15:26 2022-11-08 14:09:39   \n",
       "3                    NaN                  NaN                 NaT   \n",
       "4    11/15/2022 19:28:18  11/15/2022 19:07:30 2022-11-15 19:28:18   \n",
       "..                   ...                  ...                 ...   \n",
       "208    1/3/2023 16:04:10    1/3/2023 15:35:26 2023-01-03 16:04:10   \n",
       "209    1/3/2023 16:03:06    1/3/2023 15:35:26 2023-01-03 16:03:06   \n",
       "210    1/2/2023 10:47:50     1/2/2023 7:47:22 2023-01-02 10:47:50   \n",
       "211                  NaN                  NaN                 NaT   \n",
       "212                  NaN                  NaN                 NaT   \n",
       "\n",
       "       Answer_Dt_Thread   Response_time  \n",
       "0                   NaT             NaT  \n",
       "1                   NaT             NaT  \n",
       "2   2022-11-07 21:15:26 0 days 16:54:13  \n",
       "3                   NaT             NaT  \n",
       "4   2022-11-15 19:07:30 0 days 00:20:48  \n",
       "..                  ...             ...  \n",
       "208 2023-01-03 15:35:26 0 days 00:28:44  \n",
       "209 2023-01-03 15:35:26 0 days 00:27:40  \n",
       "210 2023-01-02 07:47:22 0 days 03:00:28  \n",
       "211                 NaT             NaT  \n",
       "212                 NaT             NaT  \n",
       "\n",
       "[213 rows x 26 columns]"
      ]
     },
     "execution_count": 53,
     "metadata": {},
     "output_type": "execute_result"
    }
   ],
   "source": [
    "final_df"
   ]
  },
  {
   "cell_type": "code",
   "execution_count": 51,
   "id": "267ecb90",
   "metadata": {},
   "outputs": [],
   "source": [
    "final_df.to_csv('../output/final_df.csv')"
   ]
  }
 ],
 "metadata": {
  "kernelspec": {
   "display_name": "Python 3",
   "language": "python",
   "name": "python3"
  },
  "language_info": {
   "codemirror_mode": {
    "name": "ipython",
    "version": 3
   },
   "file_extension": ".py",
   "mimetype": "text/x-python",
   "name": "python",
   "nbconvert_exporter": "python",
   "pygments_lexer": "ipython3",
   "version": "3.8.13 (default, Dec 30 2022, 16:12:50) \n[GCC 9.4.0]"
  },
  "vscode": {
   "interpreter": {
    "hash": "9ac03a0a6051494cc606d484d27d20fce22fb7b4d169f583271e11d5ba46a56e"
   }
  }
 },
 "nbformat": 4,
 "nbformat_minor": 5
}
