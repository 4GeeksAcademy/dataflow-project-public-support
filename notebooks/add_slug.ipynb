{
 "cells": [
  {
   "cell_type": "code",
   "execution_count": 59,
   "metadata": {},
   "outputs": [],
   "source": [
    "%%capture\n",
    "pip install numpy pandas"
   ]
  },
  {
   "cell_type": "code",
   "execution_count": 60,
   "metadata": {},
   "outputs": [],
   "source": [
    "import numpy as np\n",
    "import pandas as pd"
   ]
  },
  {
   "attachments": {},
   "cell_type": "markdown",
   "metadata": {},
   "source": [
    "#### **Add user_id to slack dataframe**"
   ]
  },
  {
   "cell_type": "code",
   "execution_count": 61,
   "metadata": {},
   "outputs": [],
   "source": [
    "df_slack = pd.read_csv('../sources/support_channels.csv')"
   ]
  },
  {
   "cell_type": "code",
   "execution_count": 62,
   "metadata": {},
   "outputs": [
    {
     "data": {
      "text/plain": [
       "Index(['Channel_ID', 'Channel_Slug', 'Timestamp', 'Timestamp_Thread',\n",
       "       'User_ID', 'Full_Name', 'Email', 'Permalink', 'Text', 'Text_raw',\n",
       "       'Slack_username', 'Team_ID', 'Team_Name', 'Is_Bot'],\n",
       "      dtype='object')"
      ]
     },
     "execution_count": 62,
     "metadata": {},
     "output_type": "execute_result"
    }
   ],
   "source": [
    "df_slack.columns"
   ]
  },
  {
   "cell_type": "code",
   "execution_count": 63,
   "metadata": {},
   "outputs": [],
   "source": [
    "auth_user = pd.read_csv('../sources/auth_user.csv')"
   ]
  },
  {
   "cell_type": "code",
   "execution_count": 64,
   "metadata": {},
   "outputs": [
    {
     "data": {
      "text/plain": [
       "Index(['id', 'first_name', 'last_name', 'email', 'date_joined'], dtype='object')"
      ]
     },
     "execution_count": 64,
     "metadata": {},
     "output_type": "execute_result"
    }
   ],
   "source": [
    "auth_user.columns"
   ]
  },
  {
   "cell_type": "code",
   "execution_count": 65,
   "metadata": {},
   "outputs": [],
   "source": [
    "# Remove unnecessary columns\n",
    "auth_user = auth_user.drop(columns=['first_name', 'last_name', 'date_joined'])"
   ]
  },
  {
   "cell_type": "code",
   "execution_count": 66,
   "metadata": {},
   "outputs": [],
   "source": [
    "slack_with_user_id = df_slack.merge(auth_user, left_on='Email', right_on='email', how='left')"
   ]
  },
  {
   "cell_type": "code",
   "execution_count": 67,
   "metadata": {},
   "outputs": [
    {
     "data": {
      "text/plain": [
       "Index(['Channel_ID', 'Channel_Slug', 'Timestamp', 'Timestamp_Thread',\n",
       "       'User_ID', 'Full_Name', 'Email', 'Permalink', 'Text', 'Text_raw',\n",
       "       'Slack_username', 'Team_ID', 'Team_Name', 'Is_Bot', 'id', 'email'],\n",
       "      dtype='object')"
      ]
     },
     "execution_count": 67,
     "metadata": {},
     "output_type": "execute_result"
    }
   ],
   "source": [
    "slack_with_user_id.columns"
   ]
  },
  {
   "attachments": {},
   "cell_type": "markdown",
   "metadata": {},
   "source": [
    "#### **Add slugs to cohort_users**"
   ]
  },
  {
   "cell_type": "code",
   "execution_count": 68,
   "metadata": {},
   "outputs": [],
   "source": [
    "cohort_users = pd.read_csv('../sources/cohort_users.csv')"
   ]
  },
  {
   "cell_type": "code",
   "execution_count": 69,
   "metadata": {},
   "outputs": [
    {
     "data": {
      "text/plain": [
       "Index(['id', 'role', 'finantial_status', 'educational_status', 'created_at',\n",
       "       'updated_at', 'cohort_id', 'user_id', 'watching'],\n",
       "      dtype='object')"
      ]
     },
     "execution_count": 69,
     "metadata": {},
     "output_type": "execute_result"
    }
   ],
   "source": [
    "cohort_users.columns"
   ]
  },
  {
   "cell_type": "code",
   "execution_count": 70,
   "metadata": {},
   "outputs": [],
   "source": [
    "# Consider only rows with student as role\n",
    "cohort_users = cohort_users[cohort_users['role'].str.lower()=='student']"
   ]
  },
  {
   "cell_type": "code",
   "execution_count": 71,
   "metadata": {},
   "outputs": [],
   "source": [
    "# Remove unnecessary columns\n",
    "cohort_users = cohort_users.drop(columns=['id', 'role', 'finantial_status', 'educational_status', 'created_at', 'updated_at', 'watching'])"
   ]
  },
  {
   "cell_type": "code",
   "execution_count": 72,
   "metadata": {},
   "outputs": [],
   "source": [
    "cohorts = pd.read_csv('../sources/cohorts.csv')"
   ]
  },
  {
   "cell_type": "code",
   "execution_count": 73,
   "metadata": {},
   "outputs": [
    {
     "data": {
      "text/plain": [
       "Index(['id', 'slug', 'name', 'kickoff_date', 'ending_date', 'current_day',\n",
       "       'stage', 'language', 'created_at', 'updated_at', 'academy_id',\n",
       "       'timezone', 'private', 'never_ends', 'schedule_id',\n",
       "       'syllabus_version_id', 'online_meeting_url', 'remote_available',\n",
       "       'current_module', 'history_log', 'is_hidden_on_prework'],\n",
       "      dtype='object')"
      ]
     },
     "execution_count": 73,
     "metadata": {},
     "output_type": "execute_result"
    }
   ],
   "source": [
    "cohorts.columns"
   ]
  },
  {
   "cell_type": "code",
   "execution_count": 74,
   "metadata": {},
   "outputs": [],
   "source": [
    "# Remove unnecessary columns\n",
    "cohorts = cohorts.drop(columns=['name', 'kickoff_date', 'ending_date', 'current_day', 'language', \n",
    "       'created_at', 'updated_at', 'academy_id', 'timezone', 'private', 'schedule_id',\n",
    "       'syllabus_version_id', 'online_meeting_url', 'remote_available', 'current_module', \n",
    "       'history_log', 'is_hidden_on_prework'])"
   ]
  },
  {
   "cell_type": "code",
   "execution_count": 75,
   "metadata": {},
   "outputs": [],
   "source": [
    "# Consider only cohorts with stage ACTIVE ¿¿¿¿¿¿¿¿or STARTED????????\n",
    "cohorts = cohorts[cohorts['stage'].isin(['ACTIVE', 'STARTED'])]"
   ]
  },
  {
   "cell_type": "code",
   "execution_count": 76,
   "metadata": {},
   "outputs": [],
   "source": [
    "# Consider only cohorts that end\n",
    "cohorts = cohorts[cohorts['never_ends']==False]"
   ]
  },
  {
   "cell_type": "code",
   "execution_count": 77,
   "metadata": {},
   "outputs": [],
   "source": [
    "cohort_users_with_slug = cohort_users.merge(cohorts, left_on='cohort_id', right_on='id', how='left')"
   ]
  },
  {
   "cell_type": "code",
   "execution_count": 78,
   "metadata": {},
   "outputs": [
    {
     "data": {
      "text/html": [
       "<div>\n",
       "<style scoped>\n",
       "    .dataframe tbody tr th:only-of-type {\n",
       "        vertical-align: middle;\n",
       "    }\n",
       "\n",
       "    .dataframe tbody tr th {\n",
       "        vertical-align: top;\n",
       "    }\n",
       "\n",
       "    .dataframe thead th {\n",
       "        text-align: right;\n",
       "    }\n",
       "</style>\n",
       "<table border=\"1\" class=\"dataframe\">\n",
       "  <thead>\n",
       "    <tr style=\"text-align: right;\">\n",
       "      <th></th>\n",
       "      <th>cohort_id</th>\n",
       "      <th>user_id</th>\n",
       "      <th>id</th>\n",
       "      <th>slug</th>\n",
       "      <th>stage</th>\n",
       "      <th>never_ends</th>\n",
       "    </tr>\n",
       "  </thead>\n",
       "  <tbody>\n",
       "    <tr>\n",
       "      <th>0</th>\n",
       "      <td>9</td>\n",
       "      <td>14</td>\n",
       "      <td>NaN</td>\n",
       "      <td>NaN</td>\n",
       "      <td>NaN</td>\n",
       "      <td>NaN</td>\n",
       "    </tr>\n",
       "    <tr>\n",
       "      <th>1</th>\n",
       "      <td>31</td>\n",
       "      <td>14</td>\n",
       "      <td>NaN</td>\n",
       "      <td>NaN</td>\n",
       "      <td>NaN</td>\n",
       "      <td>NaN</td>\n",
       "    </tr>\n",
       "    <tr>\n",
       "      <th>2</th>\n",
       "      <td>4</td>\n",
       "      <td>14</td>\n",
       "      <td>NaN</td>\n",
       "      <td>NaN</td>\n",
       "      <td>NaN</td>\n",
       "      <td>NaN</td>\n",
       "    </tr>\n",
       "    <tr>\n",
       "      <th>3</th>\n",
       "      <td>9</td>\n",
       "      <td>15</td>\n",
       "      <td>NaN</td>\n",
       "      <td>NaN</td>\n",
       "      <td>NaN</td>\n",
       "      <td>NaN</td>\n",
       "    </tr>\n",
       "    <tr>\n",
       "      <th>4</th>\n",
       "      <td>9</td>\n",
       "      <td>16</td>\n",
       "      <td>NaN</td>\n",
       "      <td>NaN</td>\n",
       "      <td>NaN</td>\n",
       "      <td>NaN</td>\n",
       "    </tr>\n",
       "    <tr>\n",
       "      <th>...</th>\n",
       "      <td>...</td>\n",
       "      <td>...</td>\n",
       "      <td>...</td>\n",
       "      <td>...</td>\n",
       "      <td>...</td>\n",
       "      <td>...</td>\n",
       "    </tr>\n",
       "    <tr>\n",
       "      <th>6887</th>\n",
       "      <td>397</td>\n",
       "      <td>5545</td>\n",
       "      <td>397.0</td>\n",
       "      <td>miami-45</td>\n",
       "      <td>STARTED</td>\n",
       "      <td>False</td>\n",
       "    </tr>\n",
       "    <tr>\n",
       "      <th>6888</th>\n",
       "      <td>61</td>\n",
       "      <td>6004</td>\n",
       "      <td>NaN</td>\n",
       "      <td>NaN</td>\n",
       "      <td>NaN</td>\n",
       "      <td>NaN</td>\n",
       "    </tr>\n",
       "    <tr>\n",
       "      <th>6889</th>\n",
       "      <td>523</td>\n",
       "      <td>3617</td>\n",
       "      <td>NaN</td>\n",
       "      <td>NaN</td>\n",
       "      <td>NaN</td>\n",
       "      <td>NaN</td>\n",
       "    </tr>\n",
       "    <tr>\n",
       "      <th>6890</th>\n",
       "      <td>61</td>\n",
       "      <td>6005</td>\n",
       "      <td>NaN</td>\n",
       "      <td>NaN</td>\n",
       "      <td>NaN</td>\n",
       "      <td>NaN</td>\n",
       "    </tr>\n",
       "    <tr>\n",
       "      <th>6891</th>\n",
       "      <td>61</td>\n",
       "      <td>6006</td>\n",
       "      <td>NaN</td>\n",
       "      <td>NaN</td>\n",
       "      <td>NaN</td>\n",
       "      <td>NaN</td>\n",
       "    </tr>\n",
       "  </tbody>\n",
       "</table>\n",
       "<p>6892 rows × 6 columns</p>\n",
       "</div>"
      ],
      "text/plain": [
       "      cohort_id  user_id     id      slug    stage never_ends\n",
       "0             9       14    NaN       NaN      NaN        NaN\n",
       "1            31       14    NaN       NaN      NaN        NaN\n",
       "2             4       14    NaN       NaN      NaN        NaN\n",
       "3             9       15    NaN       NaN      NaN        NaN\n",
       "4             9       16    NaN       NaN      NaN        NaN\n",
       "...         ...      ...    ...       ...      ...        ...\n",
       "6887        397     5545  397.0  miami-45  STARTED      False\n",
       "6888         61     6004    NaN       NaN      NaN        NaN\n",
       "6889        523     3617    NaN       NaN      NaN        NaN\n",
       "6890         61     6005    NaN       NaN      NaN        NaN\n",
       "6891         61     6006    NaN       NaN      NaN        NaN\n",
       "\n",
       "[6892 rows x 6 columns]"
      ]
     },
     "execution_count": 78,
     "metadata": {},
     "output_type": "execute_result"
    }
   ],
   "source": [
    "cohort_users_with_slug"
   ]
  },
  {
   "cell_type": "code",
   "execution_count": 79,
   "metadata": {},
   "outputs": [],
   "source": [
    "# Concatenate all slugs associated with the same user_id\n",
    "cohort_users_with_slug['slug'] = cohort_users_with_slug['slug'].replace({np.nan: None})\n",
    "grouped_df = cohort_users_with_slug.groupby('user_id').agg({'slug': lambda x: ', '.join([str(i) for i in x if i is not None])}).reset_index()\n",
    "grouped_df['slug'] = grouped_df['slug'].replace({'':np.nan})"
   ]
  },
  {
   "cell_type": "code",
   "execution_count": 80,
   "metadata": {},
   "outputs": [],
   "source": [
    "# Add suffixes when merging for easy identification\n",
    "cohort_users_with_slug = cohort_users_with_slug.merge(grouped_df, on='user_id', suffixes=('_simple', '_concatenated'))"
   ]
  },
  {
   "cell_type": "code",
   "execution_count": 81,
   "metadata": {},
   "outputs": [],
   "source": [
    "# Remove unnecessary columns\n",
    "cohort_users_with_slug = cohort_users_with_slug.drop(columns=['cohort_id', 'id', 'stage', 'never_ends', 'slug_simple'])"
   ]
  },
  {
   "cell_type": "code",
   "execution_count": 82,
   "metadata": {},
   "outputs": [],
   "source": [
    "# Rename column\n",
    "cohort_users_with_slug = cohort_users_with_slug.rename(columns={'slug_concatenated':'slug'})"
   ]
  },
  {
   "cell_type": "code",
   "execution_count": 83,
   "metadata": {},
   "outputs": [],
   "source": [
    "# Remove duplicates, so there is a single row per user_id, containing all slugs associated with each user_id\n",
    "cohort_users_with_slug = cohort_users_with_slug.drop_duplicates()"
   ]
  },
  {
   "attachments": {},
   "cell_type": "markdown",
   "metadata": {},
   "source": [
    "#### **Merge both dataframes so each message has the cohorts slugs associated to the student**"
   ]
  },
  {
   "cell_type": "code",
   "execution_count": 84,
   "metadata": {},
   "outputs": [],
   "source": [
    "slack_with_slug = slack_with_user_id.merge(cohort_users_with_slug, left_on='id', right_on='user_id', how='left')"
   ]
  },
  {
   "cell_type": "code",
   "execution_count": 85,
   "metadata": {},
   "outputs": [],
   "source": [
    "# Remove unnecessary columns\n",
    "slack_with_slug = slack_with_slug.drop(columns=['id', 'email', 'user_id'])"
   ]
  },
  {
   "cell_type": "code",
   "execution_count": 86,
   "metadata": {},
   "outputs": [
    {
     "data": {
      "text/plain": [
       "Index(['Channel_ID', 'Channel_Slug', 'Timestamp', 'Timestamp_Thread',\n",
       "       'User_ID', 'Full_Name', 'Email', 'Permalink', 'Text', 'Text_raw',\n",
       "       'Slack_username', 'Team_ID', 'Team_Name', 'Is_Bot', 'slug'],\n",
       "      dtype='object')"
      ]
     },
     "execution_count": 86,
     "metadata": {},
     "output_type": "execute_result"
    }
   ],
   "source": [
    "slack_with_slug.columns"
   ]
  },
  {
   "cell_type": "code",
   "execution_count": 87,
   "metadata": {},
   "outputs": [
    {
     "data": {
      "text/html": [
       "<div>\n",
       "<style scoped>\n",
       "    .dataframe tbody tr th:only-of-type {\n",
       "        vertical-align: middle;\n",
       "    }\n",
       "\n",
       "    .dataframe tbody tr th {\n",
       "        vertical-align: top;\n",
       "    }\n",
       "\n",
       "    .dataframe thead th {\n",
       "        text-align: right;\n",
       "    }\n",
       "</style>\n",
       "<table border=\"1\" class=\"dataframe\">\n",
       "  <thead>\n",
       "    <tr style=\"text-align: right;\">\n",
       "      <th></th>\n",
       "      <th>Channel_ID</th>\n",
       "      <th>Channel_Slug</th>\n",
       "      <th>Timestamp</th>\n",
       "      <th>Timestamp_Thread</th>\n",
       "      <th>User_ID</th>\n",
       "      <th>Full_Name</th>\n",
       "      <th>Email</th>\n",
       "      <th>Permalink</th>\n",
       "      <th>Text</th>\n",
       "      <th>Text_raw</th>\n",
       "      <th>Slack_username</th>\n",
       "      <th>Team_ID</th>\n",
       "      <th>Team_Name</th>\n",
       "      <th>Is_Bot</th>\n",
       "      <th>slug</th>\n",
       "    </tr>\n",
       "  </thead>\n",
       "  <tbody>\n",
       "    <tr>\n",
       "      <th>14</th>\n",
       "      <td>CAZ9W99U4</td>\n",
       "      <td>public-support-full-stack</td>\n",
       "      <td>11/7/2022 21:15:26</td>\n",
       "      <td>NaN</td>\n",
       "      <td>U01SM5J4MMG</td>\n",
       "      <td>Alvaro Javier Chagas Capurro</td>\n",
       "      <td>alvarojavierchagas@hotmail.com</td>\n",
       "      <td>https://4geeksacademy.slack.com/archives/CAZ9W...</td>\n",
       "      <td>Buenas tardes, intenta poniendo solo git push</td>\n",
       "      <td>Buenas tardes, intenta poniendo solo git push</td>\n",
       "      <td>alvarojavierchagas</td>\n",
       "      <td>T0BFXMWMV</td>\n",
       "      <td>4Geeks Academy</td>\n",
       "      <td>False</td>\n",
       "      <td>pre-work-latam, latam-pt-12</td>\n",
       "    </tr>\n",
       "    <tr>\n",
       "      <th>15</th>\n",
       "      <td>CAZ9W99U4</td>\n",
       "      <td>public-support-full-stack</td>\n",
       "      <td>11/8/2022 14:09:39</td>\n",
       "      <td>11/7/2022 21:15:26</td>\n",
       "      <td>U01SM5J4MMG</td>\n",
       "      <td>Alvaro Javier Chagas Capurro</td>\n",
       "      <td>alvarojavierchagas@hotmail.com</td>\n",
       "      <td>https://4geeksacademy.slack.com/archives/CAZ9W...</td>\n",
       "      <td>BUen dia pudiste solucionar??</td>\n",
       "      <td>BUen dia pudiste solucionar??</td>\n",
       "      <td>alvarojavierchagas</td>\n",
       "      <td>T0BFXMWMV</td>\n",
       "      <td>4Geeks Academy</td>\n",
       "      <td>False</td>\n",
       "      <td>pre-work-latam, latam-pt-12</td>\n",
       "    </tr>\n",
       "    <tr>\n",
       "      <th>16</th>\n",
       "      <td>CAZ9W99U4</td>\n",
       "      <td>public-support-full-stack</td>\n",
       "      <td>11/8/2022 14:12:03</td>\n",
       "      <td>11/7/2022 21:15:26</td>\n",
       "      <td>U01SM5J4MMG</td>\n",
       "      <td>Alvaro Javier Chagas Capurro</td>\n",
       "      <td>alvarojavierchagas@hotmail.com</td>\n",
       "      <td>https://4geeksacademy.slack.com/archives/CAZ9W...</td>\n",
       "      <td>Podrias pasarme la captura de nuevo que no me ...</td>\n",
       "      <td>Podrias pasarme la captura de nuevo que no me ...</td>\n",
       "      <td>alvarojavierchagas</td>\n",
       "      <td>T0BFXMWMV</td>\n",
       "      <td>4Geeks Academy</td>\n",
       "      <td>False</td>\n",
       "      <td>pre-work-latam, latam-pt-12</td>\n",
       "    </tr>\n",
       "    <tr>\n",
       "      <th>20</th>\n",
       "      <td>CAZ9W99U4</td>\n",
       "      <td>public-support-full-stack</td>\n",
       "      <td>11/15/2022 19:07:30</td>\n",
       "      <td>NaN</td>\n",
       "      <td>U02G5B470B1</td>\n",
       "      <td>Facundo Gul dos Santos</td>\n",
       "      <td>facundogds@gmail.com</td>\n",
       "      <td>https://4geeksacademy.slack.com/archives/CAZ9W...</td>\n",
       "      <td>Hello, where do I found the webpacks options a...</td>\n",
       "      <td>Hello, where do I found the webpacks options a...</td>\n",
       "      <td>facundogds</td>\n",
       "      <td>T0BFXMWMV</td>\n",
       "      <td>4Geeks Academy</td>\n",
       "      <td>False</td>\n",
       "      <td>pre-work-latam</td>\n",
       "    </tr>\n",
       "    <tr>\n",
       "      <th>21</th>\n",
       "      <td>CAZ9W99U4</td>\n",
       "      <td>public-support-full-stack</td>\n",
       "      <td>11/15/2022 19:28:18</td>\n",
       "      <td>11/15/2022 19:07:30</td>\n",
       "      <td>U02G5B470B1</td>\n",
       "      <td>Facundo Gul dos Santos</td>\n",
       "      <td>facundogds@gmail.com</td>\n",
       "      <td>https://4geeksacademy.slack.com/archives/CAZ9W...</td>\n",
       "      <td>Thanks, mate, it's was so simple but I've forg...</td>\n",
       "      <td>Thanks, mate, it's was so simple but I've forg...</td>\n",
       "      <td>facundogds</td>\n",
       "      <td>T0BFXMWMV</td>\n",
       "      <td>4Geeks Academy</td>\n",
       "      <td>False</td>\n",
       "      <td>pre-work-latam</td>\n",
       "    </tr>\n",
       "    <tr>\n",
       "      <th>...</th>\n",
       "      <td>...</td>\n",
       "      <td>...</td>\n",
       "      <td>...</td>\n",
       "      <td>...</td>\n",
       "      <td>...</td>\n",
       "      <td>...</td>\n",
       "      <td>...</td>\n",
       "      <td>...</td>\n",
       "      <td>...</td>\n",
       "      <td>...</td>\n",
       "      <td>...</td>\n",
       "      <td>...</td>\n",
       "      <td>...</td>\n",
       "      <td>...</td>\n",
       "      <td>...</td>\n",
       "    </tr>\n",
       "    <tr>\n",
       "      <th>408</th>\n",
       "      <td>CAZ9W99U4</td>\n",
       "      <td>public-support-full-stack</td>\n",
       "      <td>12/29/2022 9:05:46</td>\n",
       "      <td>12/28/2022 13:01:35</td>\n",
       "      <td>UMQH1S494</td>\n",
       "      <td>Marco Gonzalo Gómez Pérez</td>\n",
       "      <td>mgomez@4geeks.co</td>\n",
       "      <td>https://4geeksacademy.slack.com/archives/CAZ9W...</td>\n",
       "      <td>@aalejo Could you help us here?</td>\n",
       "      <td>&lt;@UL08NNSV8&gt; Could you help us here?</td>\n",
       "      <td>marcogonzalo</td>\n",
       "      <td>T0BFXMWMV</td>\n",
       "      <td>4Geeks Academy</td>\n",
       "      <td>False</td>\n",
       "      <td>fake-ml-cohort</td>\n",
       "    </tr>\n",
       "    <tr>\n",
       "      <th>409</th>\n",
       "      <td>CAZ9W99U4</td>\n",
       "      <td>public-support-full-stack</td>\n",
       "      <td>12/29/2022 17:53:58</td>\n",
       "      <td>12/28/2022 13:01:35</td>\n",
       "      <td>UMQH1S494</td>\n",
       "      <td>Marco Gonzalo Gómez Pérez</td>\n",
       "      <td>mgomez@4geeks.co</td>\n",
       "      <td>https://4geeksacademy.slack.com/archives/CAZ9W...</td>\n",
       "      <td>@juanrepeto this is a message, it is not the s...</td>\n",
       "      <td>&lt;@U03DP0YAHHV&gt; this is a message, it is not th...</td>\n",
       "      <td>marcogonzalo</td>\n",
       "      <td>T0BFXMWMV</td>\n",
       "      <td>4Geeks Academy</td>\n",
       "      <td>False</td>\n",
       "      <td>fake-ml-cohort</td>\n",
       "    </tr>\n",
       "    <tr>\n",
       "      <th>410</th>\n",
       "      <td>CAZ9W99U4</td>\n",
       "      <td>public-support-full-stack</td>\n",
       "      <td>12/29/2022 19:24:35</td>\n",
       "      <td>12/28/2022 13:01:35</td>\n",
       "      <td>UMQH1S494</td>\n",
       "      <td>Marco Gonzalo Gómez Pérez</td>\n",
       "      <td>mgomez@4geeks.co</td>\n",
       "      <td>https://4geeksacademy.slack.com/archives/CAZ9W...</td>\n",
       "      <td>It seems you are not pointing your entrypoint ...</td>\n",
       "      <td>It seems you are not pointing your entrypoint ...</td>\n",
       "      <td>marcogonzalo</td>\n",
       "      <td>T0BFXMWMV</td>\n",
       "      <td>4Geeks Academy</td>\n",
       "      <td>False</td>\n",
       "      <td>fake-ml-cohort</td>\n",
       "    </tr>\n",
       "    <tr>\n",
       "      <th>411</th>\n",
       "      <td>CAZ9W99U4</td>\n",
       "      <td>public-support-full-stack</td>\n",
       "      <td>12/29/2022 19:43:25</td>\n",
       "      <td>12/29/2022 17:52:20</td>\n",
       "      <td>UMQH1S494</td>\n",
       "      <td>Marco Gonzalo Gómez Pérez</td>\n",
       "      <td>mgomez@4geeks.co</td>\n",
       "      <td>https://4geeksacademy.slack.com/archives/CAZ9W...</td>\n",
       "      <td>Lo que necesitas está en el contenido de la pl...</td>\n",
       "      <td>Lo que necesitas está en el contenido de la pl...</td>\n",
       "      <td>marcogonzalo</td>\n",
       "      <td>T0BFXMWMV</td>\n",
       "      <td>4Geeks Academy</td>\n",
       "      <td>False</td>\n",
       "      <td>fake-ml-cohort</td>\n",
       "    </tr>\n",
       "    <tr>\n",
       "      <th>412</th>\n",
       "      <td>CAZ9W99U4</td>\n",
       "      <td>public-support-full-stack</td>\n",
       "      <td>12/31/2022 8:33:22</td>\n",
       "      <td>12/29/2022 17:52:20</td>\n",
       "      <td>UMQH1S494</td>\n",
       "      <td>Marco Gonzalo Gómez Pérez</td>\n",
       "      <td>mgomez@4geeks.co</td>\n",
       "      <td>https://4geeksacademy.slack.com/archives/CAZ9W...</td>\n",
       "      <td>No estás aplicando todos los conceptos: paráme...</td>\n",
       "      <td>No estás aplicando todos los conceptos: paráme...</td>\n",
       "      <td>marcogonzalo</td>\n",
       "      <td>T0BFXMWMV</td>\n",
       "      <td>4Geeks Academy</td>\n",
       "      <td>False</td>\n",
       "      <td>fake-ml-cohort</td>\n",
       "    </tr>\n",
       "  </tbody>\n",
       "</table>\n",
       "<p>233 rows × 15 columns</p>\n",
       "</div>"
      ],
      "text/plain": [
       "    Channel_ID               Channel_Slug            Timestamp  \\\n",
       "14   CAZ9W99U4  public-support-full-stack   11/7/2022 21:15:26   \n",
       "15   CAZ9W99U4  public-support-full-stack   11/8/2022 14:09:39   \n",
       "16   CAZ9W99U4  public-support-full-stack   11/8/2022 14:12:03   \n",
       "20   CAZ9W99U4  public-support-full-stack  11/15/2022 19:07:30   \n",
       "21   CAZ9W99U4  public-support-full-stack  11/15/2022 19:28:18   \n",
       "..         ...                        ...                  ...   \n",
       "408  CAZ9W99U4  public-support-full-stack   12/29/2022 9:05:46   \n",
       "409  CAZ9W99U4  public-support-full-stack  12/29/2022 17:53:58   \n",
       "410  CAZ9W99U4  public-support-full-stack  12/29/2022 19:24:35   \n",
       "411  CAZ9W99U4  public-support-full-stack  12/29/2022 19:43:25   \n",
       "412  CAZ9W99U4  public-support-full-stack   12/31/2022 8:33:22   \n",
       "\n",
       "        Timestamp_Thread      User_ID                     Full_Name  \\\n",
       "14                   NaN  U01SM5J4MMG  Alvaro Javier Chagas Capurro   \n",
       "15    11/7/2022 21:15:26  U01SM5J4MMG  Alvaro Javier Chagas Capurro   \n",
       "16    11/7/2022 21:15:26  U01SM5J4MMG  Alvaro Javier Chagas Capurro   \n",
       "20                   NaN  U02G5B470B1        Facundo Gul dos Santos   \n",
       "21   11/15/2022 19:07:30  U02G5B470B1        Facundo Gul dos Santos   \n",
       "..                   ...          ...                           ...   \n",
       "408  12/28/2022 13:01:35    UMQH1S494     Marco Gonzalo Gómez Pérez   \n",
       "409  12/28/2022 13:01:35    UMQH1S494     Marco Gonzalo Gómez Pérez   \n",
       "410  12/28/2022 13:01:35    UMQH1S494     Marco Gonzalo Gómez Pérez   \n",
       "411  12/29/2022 17:52:20    UMQH1S494     Marco Gonzalo Gómez Pérez   \n",
       "412  12/29/2022 17:52:20    UMQH1S494     Marco Gonzalo Gómez Pérez   \n",
       "\n",
       "                              Email  \\\n",
       "14   alvarojavierchagas@hotmail.com   \n",
       "15   alvarojavierchagas@hotmail.com   \n",
       "16   alvarojavierchagas@hotmail.com   \n",
       "20             facundogds@gmail.com   \n",
       "21             facundogds@gmail.com   \n",
       "..                              ...   \n",
       "408                mgomez@4geeks.co   \n",
       "409                mgomez@4geeks.co   \n",
       "410                mgomez@4geeks.co   \n",
       "411                mgomez@4geeks.co   \n",
       "412                mgomez@4geeks.co   \n",
       "\n",
       "                                             Permalink  \\\n",
       "14   https://4geeksacademy.slack.com/archives/CAZ9W...   \n",
       "15   https://4geeksacademy.slack.com/archives/CAZ9W...   \n",
       "16   https://4geeksacademy.slack.com/archives/CAZ9W...   \n",
       "20   https://4geeksacademy.slack.com/archives/CAZ9W...   \n",
       "21   https://4geeksacademy.slack.com/archives/CAZ9W...   \n",
       "..                                                 ...   \n",
       "408  https://4geeksacademy.slack.com/archives/CAZ9W...   \n",
       "409  https://4geeksacademy.slack.com/archives/CAZ9W...   \n",
       "410  https://4geeksacademy.slack.com/archives/CAZ9W...   \n",
       "411  https://4geeksacademy.slack.com/archives/CAZ9W...   \n",
       "412  https://4geeksacademy.slack.com/archives/CAZ9W...   \n",
       "\n",
       "                                                  Text  \\\n",
       "14       Buenas tardes, intenta poniendo solo git push   \n",
       "15                       BUen dia pudiste solucionar??   \n",
       "16   Podrias pasarme la captura de nuevo que no me ...   \n",
       "20   Hello, where do I found the webpacks options a...   \n",
       "21   Thanks, mate, it's was so simple but I've forg...   \n",
       "..                                                 ...   \n",
       "408                    @aalejo Could you help us here?   \n",
       "409  @juanrepeto this is a message, it is not the s...   \n",
       "410  It seems you are not pointing your entrypoint ...   \n",
       "411  Lo que necesitas está en el contenido de la pl...   \n",
       "412  No estás aplicando todos los conceptos: paráme...   \n",
       "\n",
       "                                              Text_raw      Slack_username  \\\n",
       "14       Buenas tardes, intenta poniendo solo git push  alvarojavierchagas   \n",
       "15                       BUen dia pudiste solucionar??  alvarojavierchagas   \n",
       "16   Podrias pasarme la captura de nuevo que no me ...  alvarojavierchagas   \n",
       "20   Hello, where do I found the webpacks options a...          facundogds   \n",
       "21   Thanks, mate, it's was so simple but I've forg...          facundogds   \n",
       "..                                                 ...                 ...   \n",
       "408               <@UL08NNSV8> Could you help us here?        marcogonzalo   \n",
       "409  <@U03DP0YAHHV> this is a message, it is not th...        marcogonzalo   \n",
       "410  It seems you are not pointing your entrypoint ...        marcogonzalo   \n",
       "411  Lo que necesitas está en el contenido de la pl...        marcogonzalo   \n",
       "412  No estás aplicando todos los conceptos: paráme...        marcogonzalo   \n",
       "\n",
       "       Team_ID       Team_Name  Is_Bot                         slug  \n",
       "14   T0BFXMWMV  4Geeks Academy   False  pre-work-latam, latam-pt-12  \n",
       "15   T0BFXMWMV  4Geeks Academy   False  pre-work-latam, latam-pt-12  \n",
       "16   T0BFXMWMV  4Geeks Academy   False  pre-work-latam, latam-pt-12  \n",
       "20   T0BFXMWMV  4Geeks Academy   False               pre-work-latam  \n",
       "21   T0BFXMWMV  4Geeks Academy   False               pre-work-latam  \n",
       "..         ...             ...     ...                          ...  \n",
       "408  T0BFXMWMV  4Geeks Academy   False               fake-ml-cohort  \n",
       "409  T0BFXMWMV  4Geeks Academy   False               fake-ml-cohort  \n",
       "410  T0BFXMWMV  4Geeks Academy   False               fake-ml-cohort  \n",
       "411  T0BFXMWMV  4Geeks Academy   False               fake-ml-cohort  \n",
       "412  T0BFXMWMV  4Geeks Academy   False               fake-ml-cohort  \n",
       "\n",
       "[233 rows x 15 columns]"
      ]
     },
     "execution_count": 87,
     "metadata": {},
     "output_type": "execute_result"
    }
   ],
   "source": [
    "slack_with_slug[slack_with_slug['slug'].notnull()]"
   ]
  }
 ],
 "metadata": {
  "kernelspec": {
   "display_name": "Python 3",
   "language": "python",
   "name": "python3"
  },
  "language_info": {
   "codemirror_mode": {
    "name": "ipython",
    "version": 3
   },
   "file_extension": ".py",
   "mimetype": "text/x-python",
   "name": "python",
   "nbconvert_exporter": "python",
   "pygments_lexer": "ipython3",
   "version": "3.8.16"
  },
  "orig_nbformat": 4
 },
 "nbformat": 4,
 "nbformat_minor": 2
}
