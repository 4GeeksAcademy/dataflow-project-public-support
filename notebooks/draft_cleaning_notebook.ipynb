{
 "cells": [
  {
   "cell_type": "markdown",
   "id": "75c6fedd",
   "metadata": {},
   "source": [
    "# Cleaning Public Support data"
   ]
  },
  {
   "cell_type": "markdown",
   "id": "85701093",
   "metadata": {},
   "source": [
    "## Importing necessary libraries"
   ]
  },
  {
   "cell_type": "code",
   "execution_count": 1,
   "id": "ce727954",
   "metadata": {},
   "outputs": [
    {
     "name": "stdout",
     "output_type": "stream",
     "text": [
      "Requirement already satisfied: pandas in /home/gitpod/.pyenv/versions/3.8.13/lib/python3.8/site-packages (1.5.1)\n",
      "Requirement already satisfied: matplotlib in /home/gitpod/.pyenv/versions/3.8.13/lib/python3.8/site-packages (3.6.2)\n",
      "Requirement already satisfied: seaborn in /home/gitpod/.pyenv/versions/3.8.13/lib/python3.8/site-packages (0.12.1)\n",
      "Requirement already satisfied: wordcloud in /home/gitpod/.pyenv/versions/3.8.13/lib/python3.8/site-packages (1.8.2.2)\n",
      "Requirement already satisfied: python-dateutil>=2.8.1 in /home/gitpod/.pyenv/versions/3.8.13/lib/python3.8/site-packages (from pandas) (2.8.2)\n",
      "Requirement already satisfied: pytz>=2020.1 in /home/gitpod/.pyenv/versions/3.8.13/lib/python3.8/site-packages (from pandas) (2022.6)\n",
      "Requirement already satisfied: numpy>=1.20.3 in /home/gitpod/.pyenv/versions/3.8.13/lib/python3.8/site-packages (from pandas) (1.23.4)\n",
      "Requirement already satisfied: kiwisolver>=1.0.1 in /home/gitpod/.pyenv/versions/3.8.13/lib/python3.8/site-packages (from matplotlib) (1.4.4)\n",
      "Requirement already satisfied: pyparsing>=2.2.1 in /home/gitpod/.pyenv/versions/3.8.13/lib/python3.8/site-packages (from matplotlib) (3.0.9)\n",
      "Requirement already satisfied: pillow>=6.2.0 in /home/gitpod/.pyenv/versions/3.8.13/lib/python3.8/site-packages (from matplotlib) (9.3.0)\n",
      "Requirement already satisfied: cycler>=0.10 in /home/gitpod/.pyenv/versions/3.8.13/lib/python3.8/site-packages (from matplotlib) (0.11.0)\n",
      "Requirement already satisfied: fonttools>=4.22.0 in /home/gitpod/.pyenv/versions/3.8.13/lib/python3.8/site-packages (from matplotlib) (4.38.0)\n",
      "Requirement already satisfied: packaging>=20.0 in /home/gitpod/.pyenv/versions/3.8.13/lib/python3.8/site-packages (from matplotlib) (21.3)\n",
      "Requirement already satisfied: contourpy>=1.0.1 in /home/gitpod/.pyenv/versions/3.8.13/lib/python3.8/site-packages (from matplotlib) (1.0.6)\n",
      "Requirement already satisfied: six>=1.5 in /home/gitpod/.pyenv/versions/3.8.13/lib/python3.8/site-packages (from python-dateutil>=2.8.1->pandas) (1.16.0)\n",
      "\n",
      "\u001b[1m[\u001b[0m\u001b[34;49mnotice\u001b[0m\u001b[1;39;49m]\u001b[0m\u001b[39;49m A new release of pip available: \u001b[0m\u001b[31;49m22.2.2\u001b[0m\u001b[39;49m -> \u001b[0m\u001b[32;49m22.3.1\u001b[0m\n",
      "\u001b[1m[\u001b[0m\u001b[34;49mnotice\u001b[0m\u001b[1;39;49m]\u001b[0m\u001b[39;49m To update, run: \u001b[0m\u001b[32;49mpip install --upgrade pip\u001b[0m\n",
      "Note: you may need to restart the kernel to use updated packages.\n"
     ]
    }
   ],
   "source": [
    "pip install pandas matplotlib seaborn wordcloud"
   ]
  },
  {
   "cell_type": "code",
   "execution_count": 2,
   "id": "35fcfef8",
   "metadata": {},
   "outputs": [],
   "source": [
    "import pandas as pd\n",
    "import numpy as np\n",
    "import matplotlib.pyplot as plt\n",
    "import seaborn as sns\n",
    "from datetime import datetime,date, timedelta"
   ]
  },
  {
   "cell_type": "markdown",
   "id": "082e6d18",
   "metadata": {},
   "source": [
    "## Loading the data"
   ]
  },
  {
   "cell_type": "code",
   "execution_count": 3,
   "id": "bcc40632",
   "metadata": {},
   "outputs": [],
   "source": [
    "slack = pd.read_csv('../sources/support-channels.csv')\n"
   ]
  },
  {
   "cell_type": "markdown",
   "id": "15b8f817",
   "metadata": {},
   "source": [
    "## Discover"
   ]
  },
  {
   "cell_type": "code",
   "execution_count": 4,
   "id": "a8a4c433",
   "metadata": {},
   "outputs": [
    {
     "name": "stdout",
     "output_type": "stream",
     "text": [
      "Shape of slack dataframe before cleaning: (481, 14)\n"
     ]
    }
   ],
   "source": [
    "print('Shape of slack dataframe before cleaning:', slack.shape)"
   ]
  },
  {
   "cell_type": "code",
   "execution_count": 5,
   "id": "665b5ba9",
   "metadata": {},
   "outputs": [
    {
     "name": "stdout",
     "output_type": "stream",
     "text": [
      "<class 'pandas.core.frame.DataFrame'>\n",
      "RangeIndex: 481 entries, 0 to 480\n",
      "Data columns (total 14 columns):\n",
      " #   Column            Non-Null Count  Dtype \n",
      "---  ------            --------------  ----- \n",
      " 0   Channel_ID        481 non-null    object\n",
      " 1   Channel_Slug      481 non-null    object\n",
      " 2   Timestamp         481 non-null    object\n",
      " 3   Timestamp_Thread  368 non-null    object\n",
      " 4   User_ID           481 non-null    object\n",
      " 5   Full_Name         470 non-null    object\n",
      " 6   Email             481 non-null    object\n",
      " 7   Permalink         481 non-null    object\n",
      " 8   Text              481 non-null    object\n",
      " 9   Text_raw          481 non-null    object\n",
      " 10  Slack_username    481 non-null    object\n",
      " 11  Team_ID           481 non-null    object\n",
      " 12  Team_Name         481 non-null    object\n",
      " 13  Is_Bot            481 non-null    bool  \n",
      "dtypes: bool(1), object(13)\n",
      "memory usage: 49.4+ KB\n"
     ]
    }
   ],
   "source": [
    "slack.info()"
   ]
  },
  {
   "cell_type": "markdown",
   "id": "bf545910",
   "metadata": {},
   "source": [
    "**Creating 2 new columns**"
   ]
  },
  {
   "cell_type": "code",
   "execution_count": 6,
   "id": "a830e29b",
   "metadata": {},
   "outputs": [],
   "source": [
    "slack['Is_a_question'] = np.where(slack['Timestamp_Thread'].isnull(), 1, 0)"
   ]
  },
  {
   "cell_type": "code",
   "execution_count": 7,
   "id": "ad94ed98",
   "metadata": {},
   "outputs": [],
   "source": [
    "support_agents = ['1','5301']\n",
    "\n",
    "slack['Is_agent'] = np.where(slack['User_ID'].isin(support_agents), 1, 0)"
   ]
  },
  {
   "cell_type": "markdown",
   "id": "79e9f6a5",
   "metadata": {},
   "source": [
    "**Encoding necessary columns**"
   ]
  },
  {
   "cell_type": "code",
   "execution_count": 8,
   "id": "35bde503",
   "metadata": {},
   "outputs": [],
   "source": [
    "slack['Is_Bot'] = np.where(slack['Is_Bot'] == True, 1, 0)"
   ]
  },
  {
   "cell_type": "markdown",
   "id": "3ac360d0",
   "metadata": {},
   "source": [
    "**Converting timestamp columns**"
   ]
  },
  {
   "cell_type": "code",
   "execution_count": 9,
   "id": "f95f12da",
   "metadata": {},
   "outputs": [],
   "source": [
    "slack['Datetime'] = pd.to_datetime(slack['Timestamp'])\n",
    "slack['Datetime_Thread'] = pd.to_datetime(slack['Timestamp_Thread'])"
   ]
  },
  {
   "cell_type": "markdown",
   "id": "90c02532",
   "metadata": {},
   "source": [
    "**Creating 2 dataframes: questions and answers**"
   ]
  },
  {
   "cell_type": "code",
   "execution_count": 10,
   "id": "d5885f8d",
   "metadata": {},
   "outputs": [],
   "source": [
    "questions_df = slack[slack['Is_a_question'] == 1]\n",
    "answers_df = slack[slack['Is_a_question'] == 0]"
   ]
  },
  {
   "cell_type": "markdown",
   "id": "9981c204",
   "metadata": {},
   "source": [
    "**Working on Answers dataframe**"
   ]
  },
  {
   "cell_type": "code",
   "execution_count": 11,
   "id": "7154600a",
   "metadata": {},
   "outputs": [],
   "source": [
    "answers = answers_df.groupby(['User_ID','Datetime'])[['Text']]"
   ]
  },
  {
   "cell_type": "code",
   "execution_count": 12,
   "id": "2270b157",
   "metadata": {},
   "outputs": [],
   "source": [
    "df2 = pd.DataFrame(answers.sum().reset_index())"
   ]
  },
  {
   "cell_type": "code",
   "execution_count": 13,
   "id": "772e87b0",
   "metadata": {},
   "outputs": [
    {
     "data": {
      "text/html": [
       "<div>\n",
       "<style scoped>\n",
       "    .dataframe tbody tr th:only-of-type {\n",
       "        vertical-align: middle;\n",
       "    }\n",
       "\n",
       "    .dataframe tbody tr th {\n",
       "        vertical-align: top;\n",
       "    }\n",
       "\n",
       "    .dataframe thead th {\n",
       "        text-align: right;\n",
       "    }\n",
       "</style>\n",
       "<table border=\"1\" class=\"dataframe\">\n",
       "  <thead>\n",
       "    <tr style=\"text-align: right;\">\n",
       "      <th></th>\n",
       "      <th>User_ID</th>\n",
       "      <th>Datetime</th>\n",
       "      <th>Text</th>\n",
       "    </tr>\n",
       "  </thead>\n",
       "  <tbody>\n",
       "    <tr>\n",
       "      <th>0</th>\n",
       "      <td>U01KGAER1TM</td>\n",
       "      <td>2022-11-04 17:02:51</td>\n",
       "      <td>No se quiere usar un tercero para las fotos</td>\n",
       "    </tr>\n",
       "    <tr>\n",
       "      <th>1</th>\n",
       "      <td>U01KGAER1TM</td>\n",
       "      <td>2022-11-04 17:04:57</td>\n",
       "      <td>digamos que son imagenes de usuarios en donde ...</td>\n",
       "    </tr>\n",
       "    <tr>\n",
       "      <th>2</th>\n",
       "      <td>U01KGAER1TM</td>\n",
       "      <td>2022-11-04 17:05:02</td>\n",
       "      <td>comentarios y likes</td>\n",
       "    </tr>\n",
       "    <tr>\n",
       "      <th>3</th>\n",
       "      <td>U01KGAER1TM</td>\n",
       "      <td>2022-11-04 17:06:30</td>\n",
       "      <td>y la base de datos no solo contiene las imagen...</td>\n",
       "    </tr>\n",
       "    <tr>\n",
       "      <th>4</th>\n",
       "      <td>U01KGAER1TM</td>\n",
       "      <td>2022-11-04 17:26:59</td>\n",
       "      <td>https://isn365.com/</td>\n",
       "    </tr>\n",
       "  </tbody>\n",
       "</table>\n",
       "</div>"
      ],
      "text/plain": [
       "       User_ID            Datetime  \\\n",
       "0  U01KGAER1TM 2022-11-04 17:02:51   \n",
       "1  U01KGAER1TM 2022-11-04 17:04:57   \n",
       "2  U01KGAER1TM 2022-11-04 17:05:02   \n",
       "3  U01KGAER1TM 2022-11-04 17:06:30   \n",
       "4  U01KGAER1TM 2022-11-04 17:26:59   \n",
       "\n",
       "                                                Text  \n",
       "0        No se quiere usar un tercero para las fotos  \n",
       "1  digamos que son imagenes de usuarios en donde ...  \n",
       "2                                comentarios y likes  \n",
       "3  y la base de datos no solo contiene las imagen...  \n",
       "4                                https://isn365.com/  "
      ]
     },
     "execution_count": 13,
     "metadata": {},
     "output_type": "execute_result"
    }
   ],
   "source": [
    "df2.head()"
   ]
  },
  {
   "cell_type": "code",
   "execution_count": 14,
   "id": "24040f57",
   "metadata": {},
   "outputs": [],
   "source": [
    "df2['Diff_in_Seconds'] = (df2.sort_values('Datetime').groupby('User_ID').Datetime.diff())"
   ]
  },
  {
   "cell_type": "code",
   "execution_count": 15,
   "id": "0f4c581a",
   "metadata": {},
   "outputs": [],
   "source": [
    "df2['Diff_in_Seconds'] = df2['Diff_in_Seconds'].fillna(pd.Timedelta(seconds=0))"
   ]
  },
  {
   "cell_type": "code",
   "execution_count": 16,
   "id": "d548992d",
   "metadata": {},
   "outputs": [],
   "source": [
    "df2['Diff_in_Seconds'] = df2['Diff_in_Seconds']/np.timedelta64(1,'s')"
   ]
  },
  {
   "cell_type": "code",
   "execution_count": 17,
   "id": "d3b83b6b",
   "metadata": {},
   "outputs": [],
   "source": [
    "df2 = df2.assign(diff_abs = df2.Diff_in_Seconds.abs())"
   ]
  },
  {
   "cell_type": "code",
   "execution_count": 18,
   "id": "904d55a3",
   "metadata": {},
   "outputs": [],
   "source": [
    "df2['same_author'] = df2['User_ID'].ne(df2['User_ID'].shift().bfill()).astype(int)"
   ]
  },
  {
   "cell_type": "code",
   "execution_count": 19,
   "id": "a03117b2",
   "metadata": {},
   "outputs": [
    {
     "name": "stderr",
     "output_type": "stream",
     "text": [
      "/tmp/ipykernel_2786/1656535140.py:2: FutureWarning: In a future version of pandas, a length 1 tuple will be returned when iterating over a groupby with a grouper equal to a list of length 1. Don't supply a list with a single grouper to avoid this warning.\n",
      "  for group in df2.groupby(['User_ID']):\n"
     ]
    }
   ],
   "source": [
    "def create_AnswerId():\n",
    "    for group in df2.groupby(['User_ID']):\n",
    "        df2['messageId'] = df2.diff_abs.diff().gt(300).cumsum() + 1 + df2.same_author.cumsum()\n",
    "\n",
    "create_AnswerId()"
   ]
  },
  {
   "cell_type": "code",
   "execution_count": 20,
   "id": "5a11500e",
   "metadata": {},
   "outputs": [
    {
     "data": {
      "text/plain": [
       "(368, 7)"
      ]
     },
     "execution_count": 20,
     "metadata": {},
     "output_type": "execute_result"
    }
   ],
   "source": [
    "df2.shape"
   ]
  },
  {
   "cell_type": "code",
   "execution_count": 21,
   "id": "be13fb7f",
   "metadata": {},
   "outputs": [
    {
     "data": {
      "text/html": [
       "<div>\n",
       "<style scoped>\n",
       "    .dataframe tbody tr th:only-of-type {\n",
       "        vertical-align: middle;\n",
       "    }\n",
       "\n",
       "    .dataframe tbody tr th {\n",
       "        vertical-align: top;\n",
       "    }\n",
       "\n",
       "    .dataframe thead th {\n",
       "        text-align: right;\n",
       "    }\n",
       "</style>\n",
       "<table border=\"1\" class=\"dataframe\">\n",
       "  <thead>\n",
       "    <tr style=\"text-align: right;\">\n",
       "      <th></th>\n",
       "      <th>User_ID</th>\n",
       "      <th>Datetime</th>\n",
       "      <th>Text</th>\n",
       "      <th>Diff_in_Seconds</th>\n",
       "      <th>diff_abs</th>\n",
       "      <th>same_author</th>\n",
       "      <th>messageId</th>\n",
       "    </tr>\n",
       "  </thead>\n",
       "  <tbody>\n",
       "    <tr>\n",
       "      <th>0</th>\n",
       "      <td>U01KGAER1TM</td>\n",
       "      <td>2022-11-04 17:02:51</td>\n",
       "      <td>No se quiere usar un tercero para las fotos</td>\n",
       "      <td>0.0</td>\n",
       "      <td>0.0</td>\n",
       "      <td>0</td>\n",
       "      <td>1</td>\n",
       "    </tr>\n",
       "    <tr>\n",
       "      <th>1</th>\n",
       "      <td>U01KGAER1TM</td>\n",
       "      <td>2022-11-04 17:04:57</td>\n",
       "      <td>digamos que son imagenes de usuarios en donde ...</td>\n",
       "      <td>126.0</td>\n",
       "      <td>126.0</td>\n",
       "      <td>0</td>\n",
       "      <td>1</td>\n",
       "    </tr>\n",
       "  </tbody>\n",
       "</table>\n",
       "</div>"
      ],
      "text/plain": [
       "       User_ID            Datetime  \\\n",
       "0  U01KGAER1TM 2022-11-04 17:02:51   \n",
       "1  U01KGAER1TM 2022-11-04 17:04:57   \n",
       "\n",
       "                                                Text  Diff_in_Seconds  \\\n",
       "0        No se quiere usar un tercero para las fotos              0.0   \n",
       "1  digamos que son imagenes de usuarios en donde ...            126.0   \n",
       "\n",
       "   diff_abs  same_author  messageId  \n",
       "0       0.0            0          1  \n",
       "1     126.0            0          1  "
      ]
     },
     "execution_count": 21,
     "metadata": {},
     "output_type": "execute_result"
    }
   ],
   "source": [
    "df2.head(2)"
   ]
  },
  {
   "cell_type": "markdown",
   "id": "b5575007",
   "metadata": {},
   "source": [
    "**Questions dataframe**"
   ]
  },
  {
   "cell_type": "code",
   "execution_count": 22,
   "id": "a5f8b02f",
   "metadata": {},
   "outputs": [],
   "source": [
    "questions = questions_df.groupby(['User_ID','Datetime'])[['Text']]"
   ]
  },
  {
   "cell_type": "code",
   "execution_count": 23,
   "id": "4a4f7678",
   "metadata": {},
   "outputs": [],
   "source": [
    "df3 = pd.DataFrame(questions.sum().reset_index())"
   ]
  },
  {
   "cell_type": "code",
   "execution_count": 24,
   "id": "5bece850",
   "metadata": {},
   "outputs": [],
   "source": [
    "df3['Diff_in_Seconds'] = (df3.sort_values('Datetime').groupby('User_ID').Datetime.diff())"
   ]
  },
  {
   "cell_type": "code",
   "execution_count": 25,
   "id": "cf50899c",
   "metadata": {},
   "outputs": [],
   "source": [
    "df3['Diff_in_Seconds'] = df3['Diff_in_Seconds'].fillna(pd.Timedelta(seconds=0))"
   ]
  },
  {
   "cell_type": "code",
   "execution_count": 26,
   "id": "51f5bb83",
   "metadata": {},
   "outputs": [],
   "source": [
    "df3['Diff_in_Seconds']=df3['Diff_in_Seconds']/np.timedelta64(1,'s')"
   ]
  },
  {
   "cell_type": "code",
   "execution_count": 27,
   "id": "3eb622c7",
   "metadata": {},
   "outputs": [],
   "source": [
    "df3 = df3.assign(diff_abs = df3.Diff_in_Seconds.abs())"
   ]
  },
  {
   "cell_type": "code",
   "execution_count": 28,
   "id": "80224f66",
   "metadata": {},
   "outputs": [],
   "source": [
    "df3['same_author'] = df3['User_ID'].ne(df3['User_ID'].shift().bfill()).astype(int)"
   ]
  },
  {
   "cell_type": "code",
   "execution_count": 29,
   "metadata": {},
   "outputs": [
    {
     "name": "stderr",
     "output_type": "stream",
     "text": [
      "/tmp/ipykernel_2786/3021882850.py:2: FutureWarning: In a future version of pandas, a length 1 tuple will be returned when iterating over a groupby with a grouper equal to a list of length 1. Don't supply a list with a single grouper to avoid this warning.\n",
      "  for group in df3.groupby(['User_ID']):\n"
     ]
    }
   ],
   "source": [
    "def create_QuestionId():\n",
    "    for group in df3.groupby(['User_ID']):\n",
    "        df3['messageId'] = df3.diff_abs.diff().gt(300).cumsum() + 1 + df3.same_author.cumsum()\n",
    "\n",
    "create_QuestionId()"
   ]
  },
  {
   "cell_type": "code",
   "execution_count": 30,
   "id": "0e5ddb95",
   "metadata": {},
   "outputs": [
    {
     "data": {
      "text/plain": [
       "(112, 7)"
      ]
     },
     "execution_count": 30,
     "metadata": {},
     "output_type": "execute_result"
    }
   ],
   "source": [
    "df3.shape"
   ]
  },
  {
   "cell_type": "code",
   "execution_count": 31,
   "id": "a9c1be8b",
   "metadata": {},
   "outputs": [
    {
     "data": {
      "text/html": [
       "<div>\n",
       "<style scoped>\n",
       "    .dataframe tbody tr th:only-of-type {\n",
       "        vertical-align: middle;\n",
       "    }\n",
       "\n",
       "    .dataframe tbody tr th {\n",
       "        vertical-align: top;\n",
       "    }\n",
       "\n",
       "    .dataframe thead th {\n",
       "        text-align: right;\n",
       "    }\n",
       "</style>\n",
       "<table border=\"1\" class=\"dataframe\">\n",
       "  <thead>\n",
       "    <tr style=\"text-align: right;\">\n",
       "      <th></th>\n",
       "      <th>User_ID</th>\n",
       "      <th>Datetime</th>\n",
       "      <th>Text</th>\n",
       "      <th>Diff_in_Seconds</th>\n",
       "      <th>diff_abs</th>\n",
       "      <th>same_author</th>\n",
       "      <th>messageId</th>\n",
       "    </tr>\n",
       "  </thead>\n",
       "  <tbody>\n",
       "    <tr>\n",
       "      <th>0</th>\n",
       "      <td>U01KGAER1TM</td>\n",
       "      <td>2022-11-04 16:14:32</td>\n",
       "      <td>Como estan, tengo un problema, ocupo subir una...</td>\n",
       "      <td>0.0</td>\n",
       "      <td>0.0</td>\n",
       "      <td>0</td>\n",
       "      <td>1</td>\n",
       "    </tr>\n",
       "    <tr>\n",
       "      <th>1</th>\n",
       "      <td>U01SJ480RBR</td>\n",
       "      <td>2022-11-07 16:59:39</td>\n",
       "      <td>Hello</td>\n",
       "      <td>0.0</td>\n",
       "      <td>0.0</td>\n",
       "      <td>1</td>\n",
       "      <td>2</td>\n",
       "    </tr>\n",
       "    <tr>\n",
       "      <th>2</th>\n",
       "      <td>U01SM5J4MMG</td>\n",
       "      <td>2022-11-07 21:15:26</td>\n",
       "      <td>Buenas tardes, intenta poniendo solo git push</td>\n",
       "      <td>0.0</td>\n",
       "      <td>0.0</td>\n",
       "      <td>1</td>\n",
       "      <td>3</td>\n",
       "    </tr>\n",
       "    <tr>\n",
       "      <th>3</th>\n",
       "      <td>U02N1P8CV6W</td>\n",
       "      <td>2022-10-31 22:55:36</td>\n",
       "      <td>Hola chicos, he estado intentando llevar a pro...</td>\n",
       "      <td>0.0</td>\n",
       "      <td>0.0</td>\n",
       "      <td>1</td>\n",
       "      <td>4</td>\n",
       "    </tr>\n",
       "    <tr>\n",
       "      <th>4</th>\n",
       "      <td>U02NE11UHNC</td>\n",
       "      <td>2022-11-03 22:28:10</td>\n",
       "      <td>have someone imported custom fonts (no google ...</td>\n",
       "      <td>0.0</td>\n",
       "      <td>0.0</td>\n",
       "      <td>1</td>\n",
       "      <td>5</td>\n",
       "    </tr>\n",
       "    <tr>\n",
       "      <th>5</th>\n",
       "      <td>U02NE11UHNC</td>\n",
       "      <td>2022-11-03 22:29:25</td>\n",
       "      <td>i know this path is not correct but i have tri...</td>\n",
       "      <td>75.0</td>\n",
       "      <td>75.0</td>\n",
       "      <td>0</td>\n",
       "      <td>5</td>\n",
       "    </tr>\n",
       "    <tr>\n",
       "      <th>6</th>\n",
       "      <td>U02PQKM7VQF</td>\n",
       "      <td>2022-10-29 01:14:41</td>\n",
       "      <td>hey everyone, I am trying to pass the input in...</td>\n",
       "      <td>0.0</td>\n",
       "      <td>0.0</td>\n",
       "      <td>1</td>\n",
       "      <td>6</td>\n",
       "    </tr>\n",
       "    <tr>\n",
       "      <th>7</th>\n",
       "      <td>U02PQKM7VQF</td>\n",
       "      <td>2022-10-30 03:31:44</td>\n",
       "      <td>Hey everyone! I am trying to style the validat...</td>\n",
       "      <td>94623.0</td>\n",
       "      <td>94623.0</td>\n",
       "      <td>0</td>\n",
       "      <td>7</td>\n",
       "    </tr>\n",
       "    <tr>\n",
       "      <th>8</th>\n",
       "      <td>U02PQKM7VQF</td>\n",
       "      <td>2022-10-30 22:42:02</td>\n",
       "      <td>hey everyone, trying to deploy to heroku, push...</td>\n",
       "      <td>69018.0</td>\n",
       "      <td>69018.0</td>\n",
       "      <td>0</td>\n",
       "      <td>7</td>\n",
       "    </tr>\n",
       "    <tr>\n",
       "      <th>9</th>\n",
       "      <td>U02PQKM7VQF</td>\n",
       "      <td>2022-10-30 22:46:20</td>\n",
       "      <td>hey everyone, trying to deploy to heroku, push...</td>\n",
       "      <td>258.0</td>\n",
       "      <td>258.0</td>\n",
       "      <td>0</td>\n",
       "      <td>7</td>\n",
       "    </tr>\n",
       "    <tr>\n",
       "      <th>10</th>\n",
       "      <td>U02TNKBLUGY</td>\n",
       "      <td>2022-11-04 14:16:15</td>\n",
       "      <td>Buenos días, estoy haciendo un ejercicio y est...</td>\n",
       "      <td>0.0</td>\n",
       "      <td>0.0</td>\n",
       "      <td>1</td>\n",
       "      <td>8</td>\n",
       "    </tr>\n",
       "    <tr>\n",
       "      <th>11</th>\n",
       "      <td>U02TNKBLUGY</td>\n",
       "      <td>2022-11-07 21:19:34</td>\n",
       "      <td>Hola, estoy tratando de hacer un deploy de mi ...</td>\n",
       "      <td>284599.0</td>\n",
       "      <td>284599.0</td>\n",
       "      <td>0</td>\n",
       "      <td>9</td>\n",
       "    </tr>\n",
       "    <tr>\n",
       "      <th>12</th>\n",
       "      <td>U02TNKBLUGY</td>\n",
       "      <td>2022-11-09 15:38:15</td>\n",
       "      <td>Holaaa, estoy haciendo el tic tac toe, pero me...</td>\n",
       "      <td>152321.0</td>\n",
       "      <td>152321.0</td>\n",
       "      <td>0</td>\n",
       "      <td>9</td>\n",
       "    </tr>\n",
       "    <tr>\n",
       "      <th>13</th>\n",
       "      <td>U02TNKBLUGY</td>\n",
       "      <td>2022-11-09 15:41:12</td>\n",
       "      <td>Holaaa, estoy haciendo el tic tac toe, pero me...</td>\n",
       "      <td>177.0</td>\n",
       "      <td>177.0</td>\n",
       "      <td>0</td>\n",
       "      <td>9</td>\n",
       "    </tr>\n",
       "    <tr>\n",
       "      <th>14</th>\n",
       "      <td>U035H42J88N</td>\n",
       "      <td>2022-11-04 12:51:24</td>\n",
       "      <td>buenos días! esperando que se encuentren bien,...</td>\n",
       "      <td>0.0</td>\n",
       "      <td>0.0</td>\n",
       "      <td>1</td>\n",
       "      <td>10</td>\n",
       "    </tr>\n",
       "    <tr>\n",
       "      <th>15</th>\n",
       "      <td>U035R4P7Q4R</td>\n",
       "      <td>2022-11-11 01:06:40</td>\n",
       "      <td>what are the commands to something from gitpod...</td>\n",
       "      <td>0.0</td>\n",
       "      <td>0.0</td>\n",
       "      <td>1</td>\n",
       "      <td>11</td>\n",
       "    </tr>\n",
       "    <tr>\n",
       "      <th>16</th>\n",
       "      <td>U035YA2SV4N</td>\n",
       "      <td>2022-11-03 19:38:53</td>\n",
       "      <td>Hey everyone. Does anybody know how to make Ta...</td>\n",
       "      <td>0.0</td>\n",
       "      <td>0.0</td>\n",
       "      <td>1</td>\n",
       "      <td>12</td>\n",
       "    </tr>\n",
       "    <tr>\n",
       "      <th>17</th>\n",
       "      <td>U037GJJHKNZ</td>\n",
       "      <td>2022-11-10 22:34:28</td>\n",
       "      <td>Estimados! tengo el siguiente error en el codi...</td>\n",
       "      <td>0.0</td>\n",
       "      <td>0.0</td>\n",
       "      <td>1</td>\n",
       "      <td>13</td>\n",
       "    </tr>\n",
       "    <tr>\n",
       "      <th>18</th>\n",
       "      <td>U037GJJHKNZ</td>\n",
       "      <td>2022-11-10 22:34:56</td>\n",
       "      <td>Estimados! tengo el siguiente error en un tare...</td>\n",
       "      <td>28.0</td>\n",
       "      <td>28.0</td>\n",
       "      <td>0</td>\n",
       "      <td>13</td>\n",
       "    </tr>\n",
       "    <tr>\n",
       "      <th>19</th>\n",
       "      <td>U039FA775EC</td>\n",
       "      <td>2022-10-31 17:03:10</td>\n",
       "      <td>Hi there! There is someone around who knows ho...</td>\n",
       "      <td>0.0</td>\n",
       "      <td>0.0</td>\n",
       "      <td>1</td>\n",
       "      <td>14</td>\n",
       "    </tr>\n",
       "    <tr>\n",
       "      <th>20</th>\n",
       "      <td>U039HGNJHDK</td>\n",
       "      <td>2022-11-04 19:07:07</td>\n",
       "      <td>So i am trying to deploy my website but i keep...</td>\n",
       "      <td>0.0</td>\n",
       "      <td>0.0</td>\n",
       "      <td>1</td>\n",
       "      <td>15</td>\n",
       "    </tr>\n",
       "    <tr>\n",
       "      <th>21</th>\n",
       "      <td>U03A7FCVDMW</td>\n",
       "      <td>2022-11-11 16:12:26</td>\n",
       "      <td>Hello. Please, I require guidance regarding th...</td>\n",
       "      <td>0.0</td>\n",
       "      <td>0.0</td>\n",
       "      <td>1</td>\n",
       "      <td>16</td>\n",
       "    </tr>\n",
       "    <tr>\n",
       "      <th>22</th>\n",
       "      <td>U03DP0YAHHV</td>\n",
       "      <td>2022-11-08 18:24:50</td>\n",
       "      <td>Hi there! I'm trying to deploy my final projec...</td>\n",
       "      <td>0.0</td>\n",
       "      <td>0.0</td>\n",
       "      <td>1</td>\n",
       "      <td>17</td>\n",
       "    </tr>\n",
       "    <tr>\n",
       "      <th>23</th>\n",
       "      <td>U03F8RRA9TR</td>\n",
       "      <td>2022-11-12 22:13:32</td>\n",
       "      <td>hola estoy en el codigo de jwt tengo un proble...</td>\n",
       "      <td>0.0</td>\n",
       "      <td>0.0</td>\n",
       "      <td>1</td>\n",
       "      <td>18</td>\n",
       "    </tr>\n",
       "    <tr>\n",
       "      <th>24</th>\n",
       "      <td>U03FLJJJC6A</td>\n",
       "      <td>2022-11-07 12:10:36</td>\n",
       "      <td>Buenos días! Me encuentro supes atascada ahora...</td>\n",
       "      <td>0.0</td>\n",
       "      <td>0.0</td>\n",
       "      <td>1</td>\n",
       "      <td>19</td>\n",
       "    </tr>\n",
       "    <tr>\n",
       "      <th>25</th>\n",
       "      <td>U03FLJJJC6A</td>\n",
       "      <td>2022-11-10 11:37:16</td>\n",
       "      <td>Buenos días!\\nQuiero implementar en mi log in\\...</td>\n",
       "      <td>257200.0</td>\n",
       "      <td>257200.0</td>\n",
       "      <td>0</td>\n",
       "      <td>20</td>\n",
       "    </tr>\n",
       "    <tr>\n",
       "      <th>26</th>\n",
       "      <td>U03G0GQNAUS</td>\n",
       "      <td>2022-10-29 13:01:25</td>\n",
       "      <td>Hello everybody!! I am having issues developin...</td>\n",
       "      <td>0.0</td>\n",
       "      <td>0.0</td>\n",
       "      <td>1</td>\n",
       "      <td>21</td>\n",
       "    </tr>\n",
       "    <tr>\n",
       "      <th>27</th>\n",
       "      <td>U03G0GQNAUS</td>\n",
       "      <td>2022-11-07 11:18:25</td>\n",
       "      <td>Hi team, I am having issues creating the Insta...</td>\n",
       "      <td>771420.0</td>\n",
       "      <td>771420.0</td>\n",
       "      <td>0</td>\n",
       "      <td>22</td>\n",
       "    </tr>\n",
       "    <tr>\n",
       "      <th>28</th>\n",
       "      <td>U03G5QB3B5M</td>\n",
       "      <td>2022-10-29 10:06:58</td>\n",
       "      <td>Hola! Porque no me deja instalar sql alchemy? ...</td>\n",
       "      <td>0.0</td>\n",
       "      <td>0.0</td>\n",
       "      <td>1</td>\n",
       "      <td>23</td>\n",
       "    </tr>\n",
       "    <tr>\n",
       "      <th>29</th>\n",
       "      <td>U03G5QB3B5M</td>\n",
       "      <td>2022-11-01 16:56:42</td>\n",
       "      <td>Good evening! I've been trying to set up a gal...</td>\n",
       "      <td>283784.0</td>\n",
       "      <td>283784.0</td>\n",
       "      <td>0</td>\n",
       "      <td>24</td>\n",
       "    </tr>\n",
       "  </tbody>\n",
       "</table>\n",
       "</div>"
      ],
      "text/plain": [
       "        User_ID            Datetime  \\\n",
       "0   U01KGAER1TM 2022-11-04 16:14:32   \n",
       "1   U01SJ480RBR 2022-11-07 16:59:39   \n",
       "2   U01SM5J4MMG 2022-11-07 21:15:26   \n",
       "3   U02N1P8CV6W 2022-10-31 22:55:36   \n",
       "4   U02NE11UHNC 2022-11-03 22:28:10   \n",
       "5   U02NE11UHNC 2022-11-03 22:29:25   \n",
       "6   U02PQKM7VQF 2022-10-29 01:14:41   \n",
       "7   U02PQKM7VQF 2022-10-30 03:31:44   \n",
       "8   U02PQKM7VQF 2022-10-30 22:42:02   \n",
       "9   U02PQKM7VQF 2022-10-30 22:46:20   \n",
       "10  U02TNKBLUGY 2022-11-04 14:16:15   \n",
       "11  U02TNKBLUGY 2022-11-07 21:19:34   \n",
       "12  U02TNKBLUGY 2022-11-09 15:38:15   \n",
       "13  U02TNKBLUGY 2022-11-09 15:41:12   \n",
       "14  U035H42J88N 2022-11-04 12:51:24   \n",
       "15  U035R4P7Q4R 2022-11-11 01:06:40   \n",
       "16  U035YA2SV4N 2022-11-03 19:38:53   \n",
       "17  U037GJJHKNZ 2022-11-10 22:34:28   \n",
       "18  U037GJJHKNZ 2022-11-10 22:34:56   \n",
       "19  U039FA775EC 2022-10-31 17:03:10   \n",
       "20  U039HGNJHDK 2022-11-04 19:07:07   \n",
       "21  U03A7FCVDMW 2022-11-11 16:12:26   \n",
       "22  U03DP0YAHHV 2022-11-08 18:24:50   \n",
       "23  U03F8RRA9TR 2022-11-12 22:13:32   \n",
       "24  U03FLJJJC6A 2022-11-07 12:10:36   \n",
       "25  U03FLJJJC6A 2022-11-10 11:37:16   \n",
       "26  U03G0GQNAUS 2022-10-29 13:01:25   \n",
       "27  U03G0GQNAUS 2022-11-07 11:18:25   \n",
       "28  U03G5QB3B5M 2022-10-29 10:06:58   \n",
       "29  U03G5QB3B5M 2022-11-01 16:56:42   \n",
       "\n",
       "                                                 Text  Diff_in_Seconds  \\\n",
       "0   Como estan, tengo un problema, ocupo subir una...              0.0   \n",
       "1                                               Hello              0.0   \n",
       "2       Buenas tardes, intenta poniendo solo git push              0.0   \n",
       "3   Hola chicos, he estado intentando llevar a pro...              0.0   \n",
       "4   have someone imported custom fonts (no google ...              0.0   \n",
       "5   i know this path is not correct but i have tri...             75.0   \n",
       "6   hey everyone, I am trying to pass the input in...              0.0   \n",
       "7   Hey everyone! I am trying to style the validat...          94623.0   \n",
       "8   hey everyone, trying to deploy to heroku, push...          69018.0   \n",
       "9   hey everyone, trying to deploy to heroku, push...            258.0   \n",
       "10  Buenos días, estoy haciendo un ejercicio y est...              0.0   \n",
       "11  Hola, estoy tratando de hacer un deploy de mi ...         284599.0   \n",
       "12  Holaaa, estoy haciendo el tic tac toe, pero me...         152321.0   \n",
       "13  Holaaa, estoy haciendo el tic tac toe, pero me...            177.0   \n",
       "14  buenos días! esperando que se encuentren bien,...              0.0   \n",
       "15  what are the commands to something from gitpod...              0.0   \n",
       "16  Hey everyone. Does anybody know how to make Ta...              0.0   \n",
       "17  Estimados! tengo el siguiente error en el codi...              0.0   \n",
       "18  Estimados! tengo el siguiente error en un tare...             28.0   \n",
       "19  Hi there! There is someone around who knows ho...              0.0   \n",
       "20  So i am trying to deploy my website but i keep...              0.0   \n",
       "21  Hello. Please, I require guidance regarding th...              0.0   \n",
       "22  Hi there! I'm trying to deploy my final projec...              0.0   \n",
       "23  hola estoy en el codigo de jwt tengo un proble...              0.0   \n",
       "24  Buenos días! Me encuentro supes atascada ahora...              0.0   \n",
       "25  Buenos días!\\nQuiero implementar en mi log in\\...         257200.0   \n",
       "26  Hello everybody!! I am having issues developin...              0.0   \n",
       "27  Hi team, I am having issues creating the Insta...         771420.0   \n",
       "28  Hola! Porque no me deja instalar sql alchemy? ...              0.0   \n",
       "29  Good evening! I've been trying to set up a gal...         283784.0   \n",
       "\n",
       "    diff_abs  same_author  messageId  \n",
       "0        0.0            0          1  \n",
       "1        0.0            1          2  \n",
       "2        0.0            1          3  \n",
       "3        0.0            1          4  \n",
       "4        0.0            1          5  \n",
       "5       75.0            0          5  \n",
       "6        0.0            1          6  \n",
       "7    94623.0            0          7  \n",
       "8    69018.0            0          7  \n",
       "9      258.0            0          7  \n",
       "10       0.0            1          8  \n",
       "11  284599.0            0          9  \n",
       "12  152321.0            0          9  \n",
       "13     177.0            0          9  \n",
       "14       0.0            1         10  \n",
       "15       0.0            1         11  \n",
       "16       0.0            1         12  \n",
       "17       0.0            1         13  \n",
       "18      28.0            0         13  \n",
       "19       0.0            1         14  \n",
       "20       0.0            1         15  \n",
       "21       0.0            1         16  \n",
       "22       0.0            1         17  \n",
       "23       0.0            1         18  \n",
       "24       0.0            1         19  \n",
       "25  257200.0            0         20  \n",
       "26       0.0            1         21  \n",
       "27  771420.0            0         22  \n",
       "28       0.0            1         23  \n",
       "29  283784.0            0         24  "
      ]
     },
     "execution_count": 31,
     "metadata": {},
     "output_type": "execute_result"
    }
   ],
   "source": [
    "df3.head(30)"
   ]
  },
  {
   "cell_type": "code",
   "execution_count": null,
   "id": "fb1bbebe",
   "metadata": {},
   "outputs": [],
   "source": []
  },
  {
   "cell_type": "code",
   "execution_count": 32,
   "id": "c974a2b0",
   "metadata": {},
   "outputs": [
    {
     "data": {
      "text/plain": [
       "\"\\nfor i in range(len(df3)):\\n    for x in df3['User_ID]:\\n        if (df3['diff_in_seconds'][i] > 0 AND df3['diff_in_seconds'][i] < 300) :\\n            df3['Text'][i-1] + ' ' + df3['Text'][i]) \\n\""
      ]
     },
     "execution_count": 32,
     "metadata": {},
     "output_type": "execute_result"
    }
   ],
   "source": [
    "# Timestamps satisfying given condition\n",
    "'''\n",
    "for i in range(len(df3)):\n",
    "    for x in df3['User_ID]:\n",
    "        if (df3['diff_in_seconds'][i] > 0 AND df3['diff_in_seconds'][i] < 300) :\n",
    "            df3['Text'][i-1] + ' ' + df3['Text'][i]) \n",
    "'''"
   ]
  },
  {
   "cell_type": "code",
   "execution_count": 33,
   "id": "5c16d0bf",
   "metadata": {},
   "outputs": [
    {
     "data": {
      "text/plain": [
       "\"\\ndef create_Message_ID():\\n    for group in df3.groupby(['User_ID']):\\n\\n        threshold = pd.Timedelta(seconds=300)\\n\\n        df3['Message_ID'] = [df3.loc[(df3['Datetime'] - t).abs() < threshold, ''].sum()\\n                            for t in df3['Datetime']]\\n\""
      ]
     },
     "execution_count": 33,
     "metadata": {},
     "output_type": "execute_result"
    }
   ],
   "source": [
    "'''\n",
    "def create_Message_ID():\n",
    "    for group in df3.groupby(['User_ID']):\n",
    "\n",
    "        threshold = pd.Timedelta(seconds=300)\n",
    "\n",
    "        df3['Message_ID'] = [df3.loc[(df3['Datetime'] - t).abs() < threshold, ''].sum()\n",
    "                            for t in df3['Datetime']]\n",
    "'''"
   ]
  },
  {
   "cell_type": "markdown",
   "id": "20ff3f34",
   "metadata": {},
   "source": [
    "## Data Cleaning"
   ]
  },
  {
   "cell_type": "markdown",
   "id": "d9fd66a4",
   "metadata": {},
   "source": [
    "**Cleaning joined dataframe**"
   ]
  }
 ],
 "metadata": {
  "kernelspec": {
   "display_name": "Python 3",
   "language": "python",
   "name": "python3"
  },
  "language_info": {
   "codemirror_mode": {
    "name": "ipython",
    "version": 3
   },
   "file_extension": ".py",
   "mimetype": "text/x-python",
   "name": "python",
   "nbconvert_exporter": "python",
   "pygments_lexer": "ipython3",
   "version": "3.8.13"
  },
  "vscode": {
   "interpreter": {
    "hash": "9ac03a0a6051494cc606d484d27d20fce22fb7b4d169f583271e11d5ba46a56e"
   }
  }
 },
 "nbformat": 4,
 "nbformat_minor": 5
}
