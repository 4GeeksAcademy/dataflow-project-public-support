{
 "cells": [
  {
   "cell_type": "markdown",
   "id": "75c6fedd",
   "metadata": {},
   "source": [
    "# Cleaning Public Support data"
   ]
  },
  {
   "cell_type": "markdown",
   "id": "85701093",
   "metadata": {},
   "source": [
    "## Importing necessary libraries"
   ]
  },
  {
   "cell_type": "code",
   "execution_count": 1,
   "id": "ce727954",
   "metadata": {},
   "outputs": [
    {
     "name": "stdout",
     "output_type": "stream",
     "text": [
      "Requirement already satisfied: pandas in /home/gitpod/.pyenv/versions/3.8.13/lib/python3.8/site-packages (1.5.1)\n",
      "Requirement already satisfied: matplotlib in /home/gitpod/.pyenv/versions/3.8.13/lib/python3.8/site-packages (3.6.2)\n",
      "Requirement already satisfied: seaborn in /home/gitpod/.pyenv/versions/3.8.13/lib/python3.8/site-packages (0.12.1)\n",
      "Requirement already satisfied: wordcloud in /home/gitpod/.pyenv/versions/3.8.13/lib/python3.8/site-packages (1.8.2.2)\n",
      "Requirement already satisfied: numpy>=1.20.3 in /home/gitpod/.pyenv/versions/3.8.13/lib/python3.8/site-packages (from pandas) (1.23.4)\n",
      "Requirement already satisfied: pytz>=2020.1 in /home/gitpod/.pyenv/versions/3.8.13/lib/python3.8/site-packages (from pandas) (2022.6)\n",
      "Requirement already satisfied: python-dateutil>=2.8.1 in /home/gitpod/.pyenv/versions/3.8.13/lib/python3.8/site-packages (from pandas) (2.8.2)\n",
      "Requirement already satisfied: pillow>=6.2.0 in /home/gitpod/.pyenv/versions/3.8.13/lib/python3.8/site-packages (from matplotlib) (9.3.0)\n",
      "Requirement already satisfied: pyparsing>=2.2.1 in /home/gitpod/.pyenv/versions/3.8.13/lib/python3.8/site-packages (from matplotlib) (3.0.9)\n",
      "Requirement already satisfied: packaging>=20.0 in /home/gitpod/.pyenv/versions/3.8.13/lib/python3.8/site-packages (from matplotlib) (21.3)\n",
      "Requirement already satisfied: kiwisolver>=1.0.1 in /home/gitpod/.pyenv/versions/3.8.13/lib/python3.8/site-packages (from matplotlib) (1.4.4)\n",
      "Requirement already satisfied: contourpy>=1.0.1 in /home/gitpod/.pyenv/versions/3.8.13/lib/python3.8/site-packages (from matplotlib) (1.0.6)\n",
      "Requirement already satisfied: cycler>=0.10 in /home/gitpod/.pyenv/versions/3.8.13/lib/python3.8/site-packages (from matplotlib) (0.11.0)\n",
      "Requirement already satisfied: fonttools>=4.22.0 in /home/gitpod/.pyenv/versions/3.8.13/lib/python3.8/site-packages (from matplotlib) (4.38.0)\n",
      "Requirement already satisfied: six>=1.5 in /home/gitpod/.pyenv/versions/3.8.13/lib/python3.8/site-packages (from python-dateutil>=2.8.1->pandas) (1.16.0)\n",
      "\n",
      "\u001b[1m[\u001b[0m\u001b[34;49mnotice\u001b[0m\u001b[1;39;49m]\u001b[0m\u001b[39;49m A new release of pip available: \u001b[0m\u001b[31;49m22.2.2\u001b[0m\u001b[39;49m -> \u001b[0m\u001b[32;49m22.3.1\u001b[0m\n",
      "\u001b[1m[\u001b[0m\u001b[34;49mnotice\u001b[0m\u001b[1;39;49m]\u001b[0m\u001b[39;49m To update, run: \u001b[0m\u001b[32;49mpip install --upgrade pip\u001b[0m\n",
      "Note: you may need to restart the kernel to use updated packages.\n"
     ]
    }
   ],
   "source": [
    "pip install pandas matplotlib seaborn wordcloud"
   ]
  },
  {
   "cell_type": "code",
   "execution_count": 1,
   "id": "35fcfef8",
   "metadata": {},
   "outputs": [],
   "source": [
    "import pandas as pd\n",
    "import numpy as np\n",
    "import matplotlib.pyplot as plt\n",
    "import seaborn as sns\n",
    "from datetime import datetime,date, timedelta"
   ]
  },
  {
   "cell_type": "markdown",
   "id": "082e6d18",
   "metadata": {},
   "source": [
    "## Loading the data"
   ]
  },
  {
   "cell_type": "code",
   "execution_count": 2,
   "id": "bcc40632",
   "metadata": {},
   "outputs": [],
   "source": [
    "slack = pd.read_csv('../sources/support-channels.csv')\n"
   ]
  },
  {
   "cell_type": "markdown",
   "id": "15b8f817",
   "metadata": {},
   "source": [
    "## Discover"
   ]
  },
  {
   "cell_type": "code",
   "execution_count": 4,
   "id": "a8a4c433",
   "metadata": {},
   "outputs": [
    {
     "name": "stdout",
     "output_type": "stream",
     "text": [
      "Shape of slack dataframe before cleaning: (481, 14)\n"
     ]
    }
   ],
   "source": [
    "print('Shape of slack dataframe before cleaning:', slack.shape)"
   ]
  },
  {
   "cell_type": "code",
   "execution_count": 5,
   "id": "665b5ba9",
   "metadata": {},
   "outputs": [
    {
     "name": "stdout",
     "output_type": "stream",
     "text": [
      "<class 'pandas.core.frame.DataFrame'>\n",
      "RangeIndex: 481 entries, 0 to 480\n",
      "Data columns (total 14 columns):\n",
      " #   Column            Non-Null Count  Dtype \n",
      "---  ------            --------------  ----- \n",
      " 0   Channel_ID        481 non-null    object\n",
      " 1   Channel_Slug      481 non-null    object\n",
      " 2   Timestamp         481 non-null    object\n",
      " 3   Timestamp_Thread  368 non-null    object\n",
      " 4   User_ID           481 non-null    object\n",
      " 5   Full_Name         470 non-null    object\n",
      " 6   Email             481 non-null    object\n",
      " 7   Permalink         481 non-null    object\n",
      " 8   Text              481 non-null    object\n",
      " 9   Text_raw          481 non-null    object\n",
      " 10  Slack_username    481 non-null    object\n",
      " 11  Team_ID           481 non-null    object\n",
      " 12  Team_Name         481 non-null    object\n",
      " 13  Is_Bot            481 non-null    bool  \n",
      "dtypes: bool(1), object(13)\n",
      "memory usage: 49.4+ KB\n"
     ]
    }
   ],
   "source": [
    "slack.info()"
   ]
  },
  {
   "cell_type": "markdown",
   "id": "bf545910",
   "metadata": {},
   "source": [
    "**Creating 2 new columns**"
   ]
  },
  {
   "cell_type": "code",
   "execution_count": 3,
   "id": "a830e29b",
   "metadata": {},
   "outputs": [],
   "source": [
    "slack['Is_a_question'] = np.where(slack['Timestamp_Thread'].isnull(), 1, 0)"
   ]
  },
  {
   "cell_type": "code",
   "execution_count": 4,
   "id": "ad94ed98",
   "metadata": {},
   "outputs": [],
   "source": [
    "support_agents = ['1','5301']\n",
    "\n",
    "slack['Is_agent'] = np.where(slack['User_ID'].isin(support_agents), 1, 0)"
   ]
  },
  {
   "cell_type": "markdown",
   "id": "79e9f6a5",
   "metadata": {},
   "source": [
    "**Encoding necessary columns**"
   ]
  },
  {
   "cell_type": "code",
   "execution_count": 6,
   "id": "35bde503",
   "metadata": {},
   "outputs": [],
   "source": [
    "slack['Is_Bot'] = np.where(slack['Is_Bot'] == True, 1, 0)"
   ]
  },
  {
   "cell_type": "markdown",
   "id": "3ac360d0",
   "metadata": {},
   "source": [
    "**Converting timestamp columns**"
   ]
  },
  {
   "cell_type": "code",
   "execution_count": 7,
   "id": "f95f12da",
   "metadata": {},
   "outputs": [],
   "source": [
    "slack['Datetime'] = pd.to_datetime(slack['Timestamp'])\n",
    "slack['Datetime_Thread'] = pd.to_datetime(slack['Timestamp_Thread'])"
   ]
  },
  {
   "cell_type": "markdown",
   "id": "90c02532",
   "metadata": {},
   "source": [
    "**Creating 2 dataframes: questions and answers**"
   ]
  },
  {
   "cell_type": "code",
   "execution_count": 8,
   "id": "d5885f8d",
   "metadata": {},
   "outputs": [],
   "source": [
    "questions_df = slack[slack['Is_a_question'] == 1]\n",
    "answers_df = slack[slack['Is_a_question'] == 0]"
   ]
  },
  {
   "cell_type": "markdown",
   "id": "9981c204",
   "metadata": {},
   "source": [
    "**Working on Answers dataframe**"
   ]
  },
  {
   "cell_type": "code",
   "execution_count": 8,
   "id": "7154600a",
   "metadata": {},
   "outputs": [],
   "source": [
    "answers = answers_df.groupby(['User_ID','Datetime'])[['Text']]"
   ]
  },
  {
   "cell_type": "code",
   "execution_count": 12,
   "id": "2270b157",
   "metadata": {},
   "outputs": [],
   "source": [
    "df2 = pd.DataFrame(answers.sum().reset_index())"
   ]
  },
  {
   "cell_type": "code",
   "execution_count": 13,
   "id": "772e87b0",
   "metadata": {},
   "outputs": [
    {
     "data": {
      "text/html": [
       "<div>\n",
       "<style scoped>\n",
       "    .dataframe tbody tr th:only-of-type {\n",
       "        vertical-align: middle;\n",
       "    }\n",
       "\n",
       "    .dataframe tbody tr th {\n",
       "        vertical-align: top;\n",
       "    }\n",
       "\n",
       "    .dataframe thead th {\n",
       "        text-align: right;\n",
       "    }\n",
       "</style>\n",
       "<table border=\"1\" class=\"dataframe\">\n",
       "  <thead>\n",
       "    <tr style=\"text-align: right;\">\n",
       "      <th></th>\n",
       "      <th>User_ID</th>\n",
       "      <th>Datetime</th>\n",
       "      <th>Text</th>\n",
       "    </tr>\n",
       "  </thead>\n",
       "  <tbody>\n",
       "    <tr>\n",
       "      <th>0</th>\n",
       "      <td>U01KGAER1TM</td>\n",
       "      <td>2022-11-04 17:02:51</td>\n",
       "      <td>No se quiere usar un tercero para las fotos</td>\n",
       "    </tr>\n",
       "    <tr>\n",
       "      <th>1</th>\n",
       "      <td>U01KGAER1TM</td>\n",
       "      <td>2022-11-04 17:04:57</td>\n",
       "      <td>digamos que son imagenes de usuarios en donde ...</td>\n",
       "    </tr>\n",
       "    <tr>\n",
       "      <th>2</th>\n",
       "      <td>U01KGAER1TM</td>\n",
       "      <td>2022-11-04 17:05:02</td>\n",
       "      <td>comentarios y likes</td>\n",
       "    </tr>\n",
       "    <tr>\n",
       "      <th>3</th>\n",
       "      <td>U01KGAER1TM</td>\n",
       "      <td>2022-11-04 17:06:30</td>\n",
       "      <td>y la base de datos no solo contiene las imagen...</td>\n",
       "    </tr>\n",
       "    <tr>\n",
       "      <th>4</th>\n",
       "      <td>U01KGAER1TM</td>\n",
       "      <td>2022-11-04 17:26:59</td>\n",
       "      <td>https://isn365.com/</td>\n",
       "    </tr>\n",
       "  </tbody>\n",
       "</table>\n",
       "</div>"
      ],
      "text/plain": [
       "       User_ID            Datetime  \\\n",
       "0  U01KGAER1TM 2022-11-04 17:02:51   \n",
       "1  U01KGAER1TM 2022-11-04 17:04:57   \n",
       "2  U01KGAER1TM 2022-11-04 17:05:02   \n",
       "3  U01KGAER1TM 2022-11-04 17:06:30   \n",
       "4  U01KGAER1TM 2022-11-04 17:26:59   \n",
       "\n",
       "                                                Text  \n",
       "0        No se quiere usar un tercero para las fotos  \n",
       "1  digamos que son imagenes de usuarios en donde ...  \n",
       "2                                comentarios y likes  \n",
       "3  y la base de datos no solo contiene las imagen...  \n",
       "4                                https://isn365.com/  "
      ]
     },
     "execution_count": 13,
     "metadata": {},
     "output_type": "execute_result"
    }
   ],
   "source": [
    "df2.head()"
   ]
  },
  {
   "cell_type": "code",
   "execution_count": 14,
   "id": "24040f57",
   "metadata": {},
   "outputs": [],
   "source": [
    "df2['Diff_in_Seconds'] = (df2.sort_values('Datetime').groupby('User_ID').Datetime.diff())"
   ]
  },
  {
   "cell_type": "code",
   "execution_count": 15,
   "id": "0f4c581a",
   "metadata": {},
   "outputs": [],
   "source": [
    "df2['Diff_in_Seconds'] = df2['Diff_in_Seconds'].fillna(pd.Timedelta(seconds=0))"
   ]
  },
  {
   "cell_type": "code",
   "execution_count": 16,
   "id": "d548992d",
   "metadata": {},
   "outputs": [],
   "source": [
    "df2['Diff_in_Seconds'] = df2['Diff_in_Seconds']/np.timedelta64(1,'s')"
   ]
  },
  {
   "cell_type": "code",
   "execution_count": 17,
   "id": "d3b83b6b",
   "metadata": {},
   "outputs": [],
   "source": [
    "df2['diff_abs'] = df2.Diff_in_Seconds.abs()"
   ]
  },
  {
   "cell_type": "code",
   "execution_count": 18,
   "id": "904d55a3",
   "metadata": {},
   "outputs": [],
   "source": [
    "df2['same_author'] = df2['User_ID'].ne(df2['User_ID'].shift().bfill()).astype(int)"
   ]
  },
  {
   "cell_type": "code",
   "execution_count": 19,
   "id": "a03117b2",
   "metadata": {},
   "outputs": [
    {
     "name": "stderr",
     "output_type": "stream",
     "text": [
      "/tmp/ipykernel_2008/749061550.py:2: FutureWarning: In a future version of pandas, a length 1 tuple will be returned when iterating over a groupby with a grouper equal to a list of length 1. Don't supply a list with a single grouper to avoid this warning.\n",
      "  for group in df2.groupby(['User_ID']):\n"
     ]
    }
   ],
   "source": [
    "def create_AnswerId():\n",
    "    for group in df2.groupby(['User_ID']):\n",
    "        df2['messageId'] = df2.diff_abs.gt(300).cumsum() + 1 + df2.same_author.cumsum()\n",
    "\n",
    "create_AnswerId()"
   ]
  },
  {
   "cell_type": "code",
   "execution_count": 20,
   "id": "5a11500e",
   "metadata": {},
   "outputs": [
    {
     "data": {
      "text/plain": [
       "(368, 7)"
      ]
     },
     "execution_count": 20,
     "metadata": {},
     "output_type": "execute_result"
    }
   ],
   "source": [
    "df2.shape"
   ]
  },
  {
   "cell_type": "code",
   "execution_count": 21,
   "id": "be13fb7f",
   "metadata": {},
   "outputs": [
    {
     "data": {
      "text/html": [
       "<div>\n",
       "<style scoped>\n",
       "    .dataframe tbody tr th:only-of-type {\n",
       "        vertical-align: middle;\n",
       "    }\n",
       "\n",
       "    .dataframe tbody tr th {\n",
       "        vertical-align: top;\n",
       "    }\n",
       "\n",
       "    .dataframe thead th {\n",
       "        text-align: right;\n",
       "    }\n",
       "</style>\n",
       "<table border=\"1\" class=\"dataframe\">\n",
       "  <thead>\n",
       "    <tr style=\"text-align: right;\">\n",
       "      <th></th>\n",
       "      <th>User_ID</th>\n",
       "      <th>Datetime</th>\n",
       "      <th>Text</th>\n",
       "      <th>Diff_in_Seconds</th>\n",
       "      <th>diff_abs</th>\n",
       "      <th>same_author</th>\n",
       "      <th>messageId</th>\n",
       "    </tr>\n",
       "  </thead>\n",
       "  <tbody>\n",
       "    <tr>\n",
       "      <th>0</th>\n",
       "      <td>U01KGAER1TM</td>\n",
       "      <td>2022-11-04 17:02:51</td>\n",
       "      <td>No se quiere usar un tercero para las fotos</td>\n",
       "      <td>0.0</td>\n",
       "      <td>0.0</td>\n",
       "      <td>0</td>\n",
       "      <td>1</td>\n",
       "    </tr>\n",
       "    <tr>\n",
       "      <th>1</th>\n",
       "      <td>U01KGAER1TM</td>\n",
       "      <td>2022-11-04 17:04:57</td>\n",
       "      <td>digamos que son imagenes de usuarios en donde ...</td>\n",
       "      <td>126.0</td>\n",
       "      <td>126.0</td>\n",
       "      <td>0</td>\n",
       "      <td>1</td>\n",
       "    </tr>\n",
       "  </tbody>\n",
       "</table>\n",
       "</div>"
      ],
      "text/plain": [
       "       User_ID            Datetime  \\\n",
       "0  U01KGAER1TM 2022-11-04 17:02:51   \n",
       "1  U01KGAER1TM 2022-11-04 17:04:57   \n",
       "\n",
       "                                                Text  Diff_in_Seconds  \\\n",
       "0        No se quiere usar un tercero para las fotos              0.0   \n",
       "1  digamos que son imagenes de usuarios en donde ...            126.0   \n",
       "\n",
       "   diff_abs  same_author  messageId  \n",
       "0       0.0            0          1  \n",
       "1     126.0            0          1  "
      ]
     },
     "execution_count": 21,
     "metadata": {},
     "output_type": "execute_result"
    }
   ],
   "source": [
    "df2.head(2)"
   ]
  },
  {
   "cell_type": "markdown",
   "id": "b5575007",
   "metadata": {},
   "source": [
    "**Questions dataframe**"
   ]
  },
  {
   "cell_type": "code",
   "execution_count": 10,
   "id": "a5f8b02f",
   "metadata": {},
   "outputs": [],
   "source": [
    "questions = questions_df.groupby(['User_ID','Datetime'])[['Text']]"
   ]
  },
  {
   "cell_type": "code",
   "execution_count": 11,
   "id": "4a4f7678",
   "metadata": {},
   "outputs": [],
   "source": [
    "df3 = pd.DataFrame(questions.sum().reset_index())"
   ]
  },
  {
   "cell_type": "code",
   "execution_count": 12,
   "id": "0aeaad33",
   "metadata": {},
   "outputs": [
    {
     "data": {
      "text/plain": [
       "(112, 3)"
      ]
     },
     "execution_count": 12,
     "metadata": {},
     "output_type": "execute_result"
    }
   ],
   "source": [
    "df3.shape"
   ]
  },
  {
   "cell_type": "code",
   "execution_count": 25,
   "id": "5bece850",
   "metadata": {},
   "outputs": [],
   "source": [
    "df3['Diff_in_Seconds'] = (df3.sort_values('Datetime').groupby('User_ID').Datetime.diff())"
   ]
  },
  {
   "cell_type": "code",
   "execution_count": 25,
   "id": "cf50899c",
   "metadata": {},
   "outputs": [],
   "source": [
    "df3['Diff_in_Seconds'] = df3['Diff_in_Seconds'].fillna(pd.Timedelta(seconds=0))"
   ]
  },
  {
   "cell_type": "code",
   "execution_count": 26,
   "id": "51f5bb83",
   "metadata": {},
   "outputs": [],
   "source": [
    "df3['Diff_in_Seconds']=df3['Diff_in_Seconds']/np.timedelta64(1,'s')"
   ]
  },
  {
   "cell_type": "code",
   "execution_count": 28,
   "id": "3eb622c7",
   "metadata": {},
   "outputs": [],
   "source": [
    "df3['diff_abs'] = df3.Diff_in_Seconds.abs()"
   ]
  },
  {
   "cell_type": "code",
   "execution_count": 29,
   "id": "80224f66",
   "metadata": {},
   "outputs": [],
   "source": [
    "df3['same_author'] = df3['User_ID'].ne(df3['User_ID'].shift().bfill()).astype(int)"
   ]
  },
  {
   "cell_type": "code",
   "execution_count": 30,
   "id": "595c2b27",
   "metadata": {},
   "outputs": [
    {
     "name": "stderr",
     "output_type": "stream",
     "text": [
      "/tmp/ipykernel_2008/706305890.py:2: FutureWarning: In a future version of pandas, a length 1 tuple will be returned when iterating over a groupby with a grouper equal to a list of length 1. Don't supply a list with a single grouper to avoid this warning.\n",
      "  for group in df3.groupby(['User_ID']):\n"
     ]
    }
   ],
   "source": [
    "def create_QuestionId():\n",
    "    for group in df3.groupby(['User_ID']):\n",
    "        df3['messageId'] = df3['diff_abs'].gt(300).cumsum() + 1 + df3.same_author.cumsum()\n",
    "\n",
    "create_QuestionId()"
   ]
  },
  {
   "cell_type": "code",
   "execution_count": 31,
   "id": "0e5ddb95",
   "metadata": {},
   "outputs": [
    {
     "data": {
      "text/plain": [
       "(112, 7)"
      ]
     },
     "execution_count": 31,
     "metadata": {},
     "output_type": "execute_result"
    }
   ],
   "source": [
    "df3.shape"
   ]
  },
  {
   "cell_type": "code",
   "execution_count": 32,
   "id": "a9c1be8b",
   "metadata": {},
   "outputs": [
    {
     "data": {
      "text/html": [
       "<div>\n",
       "<style scoped>\n",
       "    .dataframe tbody tr th:only-of-type {\n",
       "        vertical-align: middle;\n",
       "    }\n",
       "\n",
       "    .dataframe tbody tr th {\n",
       "        vertical-align: top;\n",
       "    }\n",
       "\n",
       "    .dataframe thead th {\n",
       "        text-align: right;\n",
       "    }\n",
       "</style>\n",
       "<table border=\"1\" class=\"dataframe\">\n",
       "  <thead>\n",
       "    <tr style=\"text-align: right;\">\n",
       "      <th></th>\n",
       "      <th>User_ID</th>\n",
       "      <th>Datetime</th>\n",
       "      <th>Text</th>\n",
       "      <th>Diff_in_Seconds</th>\n",
       "      <th>diff_abs</th>\n",
       "      <th>same_author</th>\n",
       "      <th>messageId</th>\n",
       "    </tr>\n",
       "  </thead>\n",
       "  <tbody>\n",
       "    <tr>\n",
       "      <th>107</th>\n",
       "      <td>U04A6KV066M</td>\n",
       "      <td>2022-11-08 20:08:45</td>\n",
       "      <td>Hi all,</td>\n",
       "      <td>NaN</td>\n",
       "      <td>NaN</td>\n",
       "      <td>1</td>\n",
       "      <td>89</td>\n",
       "    </tr>\n",
       "    <tr>\n",
       "      <th>108</th>\n",
       "      <td>U04A6KV066M</td>\n",
       "      <td>2022-11-08 20:13:24</td>\n",
       "      <td>Hi all. I am trying to split my view to where ...</td>\n",
       "      <td>279.0</td>\n",
       "      <td>279.0</td>\n",
       "      <td>0</td>\n",
       "      <td>89</td>\n",
       "    </tr>\n",
       "    <tr>\n",
       "      <th>109</th>\n",
       "      <td>U04A6KV066M</td>\n",
       "      <td>2022-11-08 21:58:27</td>\n",
       "      <td>Should we be doing anything with “commit” and ...</td>\n",
       "      <td>6303.0</td>\n",
       "      <td>6303.0</td>\n",
       "      <td>0</td>\n",
       "      <td>90</td>\n",
       "    </tr>\n",
       "    <tr>\n",
       "      <th>110</th>\n",
       "      <td>U6MR8LG4Q</td>\n",
       "      <td>2022-11-05 03:11:30</td>\n",
       "      <td>Hey @betomasia12 No need to make the pictures ...</td>\n",
       "      <td>NaN</td>\n",
       "      <td>NaN</td>\n",
       "      <td>1</td>\n",
       "      <td>91</td>\n",
       "    </tr>\n",
       "    <tr>\n",
       "      <th>111</th>\n",
       "      <td>UL08NNSV8</td>\n",
       "      <td>2022-11-01 18:39:22</td>\n",
       "      <td>pareciera que tienes una version de ruby muy a...</td>\n",
       "      <td>NaN</td>\n",
       "      <td>NaN</td>\n",
       "      <td>1</td>\n",
       "      <td>92</td>\n",
       "    </tr>\n",
       "  </tbody>\n",
       "</table>\n",
       "</div>"
      ],
      "text/plain": [
       "         User_ID            Datetime  \\\n",
       "107  U04A6KV066M 2022-11-08 20:08:45   \n",
       "108  U04A6KV066M 2022-11-08 20:13:24   \n",
       "109  U04A6KV066M 2022-11-08 21:58:27   \n",
       "110    U6MR8LG4Q 2022-11-05 03:11:30   \n",
       "111    UL08NNSV8 2022-11-01 18:39:22   \n",
       "\n",
       "                                                  Text  Diff_in_Seconds  \\\n",
       "107                                            Hi all,              NaN   \n",
       "108  Hi all. I am trying to split my view to where ...            279.0   \n",
       "109  Should we be doing anything with “commit” and ...           6303.0   \n",
       "110  Hey @betomasia12 No need to make the pictures ...              NaN   \n",
       "111  pareciera que tienes una version de ruby muy a...              NaN   \n",
       "\n",
       "     diff_abs  same_author  messageId  \n",
       "107       NaN            1         89  \n",
       "108     279.0            0         89  \n",
       "109    6303.0            0         90  \n",
       "110       NaN            1         91  \n",
       "111       NaN            1         92  "
      ]
     },
     "execution_count": 32,
     "metadata": {},
     "output_type": "execute_result"
    }
   ],
   "source": [
    "df3.tail()"
   ]
  },
  {
   "cell_type": "code",
   "execution_count": 13,
   "id": "9199309f",
   "metadata": {},
   "outputs": [
    {
     "data": {
      "text/html": [
       "<div>\n",
       "<style scoped>\n",
       "    .dataframe tbody tr th:only-of-type {\n",
       "        vertical-align: middle;\n",
       "    }\n",
       "\n",
       "    .dataframe tbody tr th {\n",
       "        vertical-align: top;\n",
       "    }\n",
       "\n",
       "    .dataframe thead th {\n",
       "        text-align: right;\n",
       "    }\n",
       "</style>\n",
       "<table border=\"1\" class=\"dataframe\">\n",
       "  <thead>\n",
       "    <tr style=\"text-align: right;\">\n",
       "      <th></th>\n",
       "      <th>User_ID</th>\n",
       "      <th>Datetime</th>\n",
       "      <th>Text</th>\n",
       "    </tr>\n",
       "  </thead>\n",
       "  <tbody>\n",
       "    <tr>\n",
       "      <th>0</th>\n",
       "      <td>U01KGAER1TM</td>\n",
       "      <td>2022-11-04 16:14:32</td>\n",
       "      <td>Como estan, tengo un problema, ocupo subir una...</td>\n",
       "    </tr>\n",
       "    <tr>\n",
       "      <th>1</th>\n",
       "      <td>U01SJ480RBR</td>\n",
       "      <td>2022-11-07 16:59:39</td>\n",
       "      <td>Hello</td>\n",
       "    </tr>\n",
       "    <tr>\n",
       "      <th>2</th>\n",
       "      <td>U01SM5J4MMG</td>\n",
       "      <td>2022-11-07 21:15:26</td>\n",
       "      <td>Buenas tardes, intenta poniendo solo git push</td>\n",
       "    </tr>\n",
       "    <tr>\n",
       "      <th>3</th>\n",
       "      <td>U02N1P8CV6W</td>\n",
       "      <td>2022-10-31 22:55:36</td>\n",
       "      <td>Hola chicos, he estado intentando llevar a pro...</td>\n",
       "    </tr>\n",
       "    <tr>\n",
       "      <th>4</th>\n",
       "      <td>U02NE11UHNC</td>\n",
       "      <td>2022-11-03 22:28:10</td>\n",
       "      <td>have someone imported custom fonts (no google ...</td>\n",
       "    </tr>\n",
       "  </tbody>\n",
       "</table>\n",
       "</div>"
      ],
      "text/plain": [
       "       User_ID            Datetime  \\\n",
       "0  U01KGAER1TM 2022-11-04 16:14:32   \n",
       "1  U01SJ480RBR 2022-11-07 16:59:39   \n",
       "2  U01SM5J4MMG 2022-11-07 21:15:26   \n",
       "3  U02N1P8CV6W 2022-10-31 22:55:36   \n",
       "4  U02NE11UHNC 2022-11-03 22:28:10   \n",
       "\n",
       "                                                Text  \n",
       "0  Como estan, tengo un problema, ocupo subir una...  \n",
       "1                                              Hello  \n",
       "2      Buenas tardes, intenta poniendo solo git push  \n",
       "3  Hola chicos, he estado intentando llevar a pro...  \n",
       "4  have someone imported custom fonts (no google ...  "
      ]
     },
     "execution_count": 13,
     "metadata": {},
     "output_type": "execute_result"
    }
   ],
   "source": [
    "df3.head(5)"
   ]
  },
  {
   "cell_type": "code",
   "execution_count": 16,
   "id": "ad097995",
   "metadata": {},
   "outputs": [
    {
     "data": {
      "text/plain": [
       "<pandas.core.groupby.generic.DataFrameGroupBy object at 0x7f9437f9f490>"
      ]
     },
     "execution_count": 16,
     "metadata": {},
     "output_type": "execute_result"
    }
   ],
   "source": [
    "answers_df.groupby(['User_ID','Datetime'])[['Text']]"
   ]
  },
  {
   "cell_type": "markdown",
   "id": "7a2ff49d",
   "metadata": {},
   "source": [
    "**Merge each dataframe to its previous columns**"
   ]
  },
  {
   "cell_type": "code",
   "execution_count": null,
   "id": "1340ce05",
   "metadata": {},
   "outputs": [],
   "source": [
    "#next steps: \n",
    "# \n",
    "# 1.verify in questions_df that they match exactly with df3 (as shape has chenged by 1 row)---->randomly verify some questions\n",
    "# 2.merge df2 oand df3 to some of the columns of its previous df. (https://stackoverflow.com/questions/17978133/python-pandas-merge-only-certain-columns)\n",
    "# 3. concat text values according to this:\n",
    "# https://www.statology.org/pandas-combine-rows-with-same-column-value/\n",
    "# 4. download both datasets and take to Looker to verify they are ok to build graphs"
   ]
  },
  {
   "cell_type": "code",
   "execution_count": 37,
   "id": "11f2d42c",
   "metadata": {},
   "outputs": [
    {
     "data": {
      "text/plain": [
       "(368, 7)"
      ]
     },
     "execution_count": 37,
     "metadata": {},
     "output_type": "execute_result"
    }
   ],
   "source": [
    "answers_df = answers_df.merge(df2, left_on='Text', right_on='Text')"
   ]
  },
  {
   "cell_type": "code",
   "execution_count": null,
   "id": "49f64500",
   "metadata": {},
   "outputs": [],
   "source": [
    "df3.merge(questions_df, left_on='Text', right_on='Text')"
   ]
  },
  {
   "cell_type": "markdown",
   "id": "0622db25",
   "metadata": {},
   "source": [
    "**Merge rows that have the same messageId**"
   ]
  },
  {
   "cell_type": "code",
   "execution_count": null,
   "id": "5e5b1c0a",
   "metadata": {},
   "outputs": [],
   "source": []
  },
  {
   "cell_type": "markdown",
   "id": "d9fd66a4",
   "metadata": {},
   "source": [
    "**Cleaning joined dataframe**"
   ]
  }
 ],
 "metadata": {
  "kernelspec": {
   "display_name": "Python 3",
   "language": "python",
   "name": "python3"
  },
  "language_info": {
   "codemirror_mode": {
    "name": "ipython",
    "version": 3
   },
   "file_extension": ".py",
   "mimetype": "text/x-python",
   "name": "python",
   "nbconvert_exporter": "python",
   "pygments_lexer": "ipython3",
   "version": "3.8.13"
  },
  "vscode": {
   "interpreter": {
    "hash": "9ac03a0a6051494cc606d484d27d20fce22fb7b4d169f583271e11d5ba46a56e"
   }
  }
 },
 "nbformat": 4,
 "nbformat_minor": 5
}
