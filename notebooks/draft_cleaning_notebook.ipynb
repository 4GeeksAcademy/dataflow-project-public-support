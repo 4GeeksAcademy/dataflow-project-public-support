{
 "cells": [
  {
   "cell_type": "markdown",
   "id": "75c6fedd",
   "metadata": {},
   "source": [
    "# Cleaning Public Support data"
   ]
  },
  {
   "cell_type": "markdown",
   "id": "85701093",
   "metadata": {},
   "source": [
    "## Importing necessary libraries"
   ]
  },
  {
   "cell_type": "code",
   "execution_count": 1,
   "id": "ce727954",
   "metadata": {},
   "outputs": [
    {
     "name": "stdout",
     "output_type": "stream",
     "text": [
      "Collecting pandas\n",
      "  Using cached pandas-1.5.1-cp38-cp38-manylinux_2_17_x86_64.manylinux2014_x86_64.whl (12.2 MB)\n",
      "Collecting matplotlib\n",
      "  Using cached matplotlib-3.6.2-cp38-cp38-manylinux_2_12_x86_64.manylinux2010_x86_64.whl (9.4 MB)\n",
      "Collecting seaborn\n",
      "  Using cached seaborn-0.12.1-py3-none-any.whl (288 kB)\n",
      "Collecting wordcloud\n",
      "  Using cached wordcloud-1.8.2.2-cp38-cp38-manylinux_2_17_x86_64.manylinux2014_x86_64.whl (458 kB)\n",
      "Requirement already satisfied: python-dateutil>=2.8.1 in /home/gitpod/.pyenv/versions/3.8.13/lib/python3.8/site-packages (from pandas) (2.8.2)\n",
      "Collecting numpy>=1.20.3\n",
      "  Using cached numpy-1.23.4-cp38-cp38-manylinux_2_17_x86_64.manylinux2014_x86_64.whl (17.1 MB)\n",
      "Collecting pytz>=2020.1\n",
      "  Using cached pytz-2022.6-py2.py3-none-any.whl (498 kB)\n",
      "Collecting kiwisolver>=1.0.1\n",
      "  Using cached kiwisolver-1.4.4-cp38-cp38-manylinux_2_5_x86_64.manylinux1_x86_64.whl (1.2 MB)\n",
      "Collecting fonttools>=4.22.0\n",
      "  Using cached fonttools-4.38.0-py3-none-any.whl (965 kB)\n",
      "Collecting pillow>=6.2.0\n",
      "  Using cached Pillow-9.3.0-cp38-cp38-manylinux_2_28_x86_64.whl (3.3 MB)\n",
      "Requirement already satisfied: pyparsing>=2.2.1 in /home/gitpod/.pyenv/versions/3.8.13/lib/python3.8/site-packages (from matplotlib) (3.0.9)\n",
      "Collecting cycler>=0.10\n",
      "  Using cached cycler-0.11.0-py3-none-any.whl (6.4 kB)\n",
      "Collecting contourpy>=1.0.1\n",
      "  Using cached contourpy-1.0.6-cp38-cp38-manylinux_2_17_x86_64.manylinux2014_x86_64.whl (295 kB)\n",
      "Requirement already satisfied: packaging>=20.0 in /home/gitpod/.pyenv/versions/3.8.13/lib/python3.8/site-packages (from matplotlib) (21.3)\n",
      "Requirement already satisfied: six>=1.5 in /home/gitpod/.pyenv/versions/3.8.13/lib/python3.8/site-packages (from python-dateutil>=2.8.1->pandas) (1.16.0)\n",
      "Installing collected packages: pytz, pillow, numpy, kiwisolver, fonttools, cycler, pandas, contourpy, matplotlib, wordcloud, seaborn\n",
      "Successfully installed contourpy-1.0.6 cycler-0.11.0 fonttools-4.38.0 kiwisolver-1.4.4 matplotlib-3.6.2 numpy-1.23.4 pandas-1.5.1 pillow-9.3.0 pytz-2022.6 seaborn-0.12.1 wordcloud-1.8.2.2\n",
      "\n",
      "\u001b[1m[\u001b[0m\u001b[34;49mnotice\u001b[0m\u001b[1;39;49m]\u001b[0m\u001b[39;49m A new release of pip available: \u001b[0m\u001b[31;49m22.2.2\u001b[0m\u001b[39;49m -> \u001b[0m\u001b[32;49m22.3.1\u001b[0m\n",
      "\u001b[1m[\u001b[0m\u001b[34;49mnotice\u001b[0m\u001b[1;39;49m]\u001b[0m\u001b[39;49m To update, run: \u001b[0m\u001b[32;49mpip install --upgrade pip\u001b[0m\n",
      "Note: you may need to restart the kernel to use updated packages.\n"
     ]
    }
   ],
   "source": [
    "pip install pandas matplotlib seaborn wordcloud"
   ]
  },
  {
   "cell_type": "code",
   "execution_count": 2,
   "id": "35fcfef8",
   "metadata": {},
   "outputs": [],
   "source": [
    "import pandas as pd\n",
    "import numpy as np\n",
    "import matplotlib.pyplot as plt\n",
    "import seaborn as sns\n",
    "from datetime import datetime,date, timedelta"
   ]
  },
  {
   "cell_type": "markdown",
   "id": "082e6d18",
   "metadata": {},
   "source": [
    "## Loading the data"
   ]
  },
  {
   "cell_type": "code",
   "execution_count": 3,
   "id": "bcc40632",
   "metadata": {},
   "outputs": [],
   "source": [
    "slack = pd.read_csv('../sources/support-channels.csv')\n"
   ]
  },
  {
   "cell_type": "markdown",
   "id": "15b8f817",
   "metadata": {},
   "source": [
    "## Discover"
   ]
  },
  {
   "cell_type": "code",
   "execution_count": 4,
   "id": "a8a4c433",
   "metadata": {},
   "outputs": [
    {
     "name": "stdout",
     "output_type": "stream",
     "text": [
      "Shape of slack dataframe before cleaning: (481, 14)\n"
     ]
    }
   ],
   "source": [
    "print('Shape of slack dataframe before cleaning:', slack.shape)"
   ]
  },
  {
   "cell_type": "code",
   "execution_count": 5,
   "id": "665b5ba9",
   "metadata": {},
   "outputs": [
    {
     "name": "stdout",
     "output_type": "stream",
     "text": [
      "<class 'pandas.core.frame.DataFrame'>\n",
      "RangeIndex: 481 entries, 0 to 480\n",
      "Data columns (total 14 columns):\n",
      " #   Column            Non-Null Count  Dtype \n",
      "---  ------            --------------  ----- \n",
      " 0   Channel_ID        481 non-null    object\n",
      " 1   Channel_Slug      481 non-null    object\n",
      " 2   Timestamp         481 non-null    object\n",
      " 3   Timestamp_Thread  368 non-null    object\n",
      " 4   User_ID           481 non-null    object\n",
      " 5   Full_Name         470 non-null    object\n",
      " 6   Email             481 non-null    object\n",
      " 7   Permalink         481 non-null    object\n",
      " 8   Text              481 non-null    object\n",
      " 9   Text_raw          481 non-null    object\n",
      " 10  Slack_username    481 non-null    object\n",
      " 11  Team_ID           481 non-null    object\n",
      " 12  Team_Name         481 non-null    object\n",
      " 13  Is_Bot            481 non-null    bool  \n",
      "dtypes: bool(1), object(13)\n",
      "memory usage: 49.4+ KB\n"
     ]
    }
   ],
   "source": [
    "slack.info()"
   ]
  },
  {
   "cell_type": "markdown",
   "id": "bf545910",
   "metadata": {},
   "source": [
    "**Creating 2 new columns**"
   ]
  },
  {
   "cell_type": "code",
   "execution_count": 6,
   "id": "a830e29b",
   "metadata": {},
   "outputs": [],
   "source": [
    "slack['Is_a_question'] = np.where(slack['Timestamp_Thread'].isnull(), 1, 0)"
   ]
  },
  {
   "cell_type": "code",
   "execution_count": 7,
   "id": "ad94ed98",
   "metadata": {},
   "outputs": [],
   "source": [
    "support_agents = ['1','5301']\n",
    "\n",
    "slack['Is_agent']= np.where(slack['User_ID'].isin(support_agents),1,0)"
   ]
  },
  {
   "cell_type": "markdown",
   "id": "3ac360d0",
   "metadata": {},
   "source": [
    "**Converting timestamp columns**"
   ]
  },
  {
   "cell_type": "code",
   "execution_count": 8,
   "id": "f95f12da",
   "metadata": {},
   "outputs": [],
   "source": [
    "slack['Datetime'] = pd.to_datetime(slack['Timestamp'])\n",
    "slack['Datetime_Thread'] = pd.to_datetime(slack['Timestamp_Thread'])"
   ]
  },
  {
   "cell_type": "markdown",
   "id": "90c02532",
   "metadata": {},
   "source": [
    "**Creating 2 dataframes: questions and answers**"
   ]
  },
  {
   "cell_type": "code",
   "execution_count": 9,
   "id": "d5885f8d",
   "metadata": {},
   "outputs": [],
   "source": [
    "questions_df = slack[slack['Is_a_question'] == 1]\n",
    "answers_df = slack[slack['Is_a_question'] == 0]"
   ]
  },
  {
   "cell_type": "code",
   "execution_count": 10,
   "id": "7154600a",
   "metadata": {},
   "outputs": [],
   "source": [
    "answers = answers_df.groupby(['Channel_ID','User_ID','Datetime'])[['Text']]"
   ]
  },
  {
   "cell_type": "code",
   "execution_count": 11,
   "id": "2270b157",
   "metadata": {},
   "outputs": [],
   "source": [
    "df3 = pd.DataFrame(answers.sum().reset_index())"
   ]
  },
  {
   "cell_type": "code",
   "execution_count": 12,
   "id": "772e87b0",
   "metadata": {},
   "outputs": [
    {
     "data": {
      "text/html": [
       "<div>\n",
       "<style scoped>\n",
       "    .dataframe tbody tr th:only-of-type {\n",
       "        vertical-align: middle;\n",
       "    }\n",
       "\n",
       "    .dataframe tbody tr th {\n",
       "        vertical-align: top;\n",
       "    }\n",
       "\n",
       "    .dataframe thead th {\n",
       "        text-align: right;\n",
       "    }\n",
       "</style>\n",
       "<table border=\"1\" class=\"dataframe\">\n",
       "  <thead>\n",
       "    <tr style=\"text-align: right;\">\n",
       "      <th></th>\n",
       "      <th>Channel_ID</th>\n",
       "      <th>User_ID</th>\n",
       "      <th>Datetime</th>\n",
       "      <th>Text</th>\n",
       "    </tr>\n",
       "  </thead>\n",
       "  <tbody>\n",
       "    <tr>\n",
       "      <th>0</th>\n",
       "      <td>CAZ9W99U4</td>\n",
       "      <td>U01KGAER1TM</td>\n",
       "      <td>2022-11-04 17:02:51</td>\n",
       "      <td>No se quiere usar un tercero para las fotos</td>\n",
       "    </tr>\n",
       "    <tr>\n",
       "      <th>1</th>\n",
       "      <td>CAZ9W99U4</td>\n",
       "      <td>U01KGAER1TM</td>\n",
       "      <td>2022-11-04 17:04:57</td>\n",
       "      <td>digamos que son imagenes de usuarios en donde ...</td>\n",
       "    </tr>\n",
       "    <tr>\n",
       "      <th>2</th>\n",
       "      <td>CAZ9W99U4</td>\n",
       "      <td>U01KGAER1TM</td>\n",
       "      <td>2022-11-04 17:05:02</td>\n",
       "      <td>comentarios y likes</td>\n",
       "    </tr>\n",
       "    <tr>\n",
       "      <th>3</th>\n",
       "      <td>CAZ9W99U4</td>\n",
       "      <td>U01KGAER1TM</td>\n",
       "      <td>2022-11-04 17:06:30</td>\n",
       "      <td>y la base de datos no solo contiene las imagen...</td>\n",
       "    </tr>\n",
       "    <tr>\n",
       "      <th>4</th>\n",
       "      <td>CAZ9W99U4</td>\n",
       "      <td>U01KGAER1TM</td>\n",
       "      <td>2022-11-04 17:26:59</td>\n",
       "      <td>https://isn365.com/</td>\n",
       "    </tr>\n",
       "  </tbody>\n",
       "</table>\n",
       "</div>"
      ],
      "text/plain": [
       "  Channel_ID      User_ID            Datetime  \\\n",
       "0  CAZ9W99U4  U01KGAER1TM 2022-11-04 17:02:51   \n",
       "1  CAZ9W99U4  U01KGAER1TM 2022-11-04 17:04:57   \n",
       "2  CAZ9W99U4  U01KGAER1TM 2022-11-04 17:05:02   \n",
       "3  CAZ9W99U4  U01KGAER1TM 2022-11-04 17:06:30   \n",
       "4  CAZ9W99U4  U01KGAER1TM 2022-11-04 17:26:59   \n",
       "\n",
       "                                                Text  \n",
       "0        No se quiere usar un tercero para las fotos  \n",
       "1  digamos que son imagenes de usuarios en donde ...  \n",
       "2                                comentarios y likes  \n",
       "3  y la base de datos no solo contiene las imagen...  \n",
       "4                                https://isn365.com/  "
      ]
     },
     "execution_count": 12,
     "metadata": {},
     "output_type": "execute_result"
    }
   ],
   "source": [
    "df3.head()"
   ]
  },
  {
   "cell_type": "code",
   "execution_count": 13,
   "id": "24040f57",
   "metadata": {},
   "outputs": [],
   "source": [
    "df3['difference'] = (df3.sort_values('Datetime').groupby('User_ID').Datetime.diff())"
   ]
  },
  {
   "cell_type": "code",
   "execution_count": 14,
   "id": "0f4c581a",
   "metadata": {},
   "outputs": [],
   "source": [
    "df3['difference'] = df3['difference'].fillna(pd.Timedelta(seconds=0))"
   ]
  },
  {
   "cell_type": "code",
   "execution_count": 16,
   "id": "d548992d",
   "metadata": {},
   "outputs": [],
   "source": [
    "df3['difference']=df3['difference']/np.timedelta64(1,'s')"
   ]
  },
  {
   "cell_type": "code",
   "execution_count": 19,
   "id": "b51c331b",
   "metadata": {},
   "outputs": [],
   "source": [
    "df3.rename(columns = {'difference':'diff_in_seconds'}, inplace = True)\n",
    "   "
   ]
  },
  {
   "cell_type": "code",
   "execution_count": 20,
   "id": "c338659a",
   "metadata": {},
   "outputs": [
    {
     "data": {
      "text/html": [
       "<div>\n",
       "<style scoped>\n",
       "    .dataframe tbody tr th:only-of-type {\n",
       "        vertical-align: middle;\n",
       "    }\n",
       "\n",
       "    .dataframe tbody tr th {\n",
       "        vertical-align: top;\n",
       "    }\n",
       "\n",
       "    .dataframe thead th {\n",
       "        text-align: right;\n",
       "    }\n",
       "</style>\n",
       "<table border=\"1\" class=\"dataframe\">\n",
       "  <thead>\n",
       "    <tr style=\"text-align: right;\">\n",
       "      <th></th>\n",
       "      <th>Channel_ID</th>\n",
       "      <th>User_ID</th>\n",
       "      <th>Datetime</th>\n",
       "      <th>Text</th>\n",
       "      <th>diff_in_seconds</th>\n",
       "    </tr>\n",
       "  </thead>\n",
       "  <tbody>\n",
       "    <tr>\n",
       "      <th>0</th>\n",
       "      <td>CAZ9W99U4</td>\n",
       "      <td>U01KGAER1TM</td>\n",
       "      <td>2022-11-04 17:02:51</td>\n",
       "      <td>No se quiere usar un tercero para las fotos</td>\n",
       "      <td>0.0</td>\n",
       "    </tr>\n",
       "    <tr>\n",
       "      <th>1</th>\n",
       "      <td>CAZ9W99U4</td>\n",
       "      <td>U01KGAER1TM</td>\n",
       "      <td>2022-11-04 17:04:57</td>\n",
       "      <td>digamos que son imagenes de usuarios en donde ...</td>\n",
       "      <td>126.0</td>\n",
       "    </tr>\n",
       "    <tr>\n",
       "      <th>2</th>\n",
       "      <td>CAZ9W99U4</td>\n",
       "      <td>U01KGAER1TM</td>\n",
       "      <td>2022-11-04 17:05:02</td>\n",
       "      <td>comentarios y likes</td>\n",
       "      <td>5.0</td>\n",
       "    </tr>\n",
       "    <tr>\n",
       "      <th>3</th>\n",
       "      <td>CAZ9W99U4</td>\n",
       "      <td>U01KGAER1TM</td>\n",
       "      <td>2022-11-04 17:06:30</td>\n",
       "      <td>y la base de datos no solo contiene las imagen...</td>\n",
       "      <td>88.0</td>\n",
       "    </tr>\n",
       "    <tr>\n",
       "      <th>4</th>\n",
       "      <td>CAZ9W99U4</td>\n",
       "      <td>U01KGAER1TM</td>\n",
       "      <td>2022-11-04 17:26:59</td>\n",
       "      <td>https://isn365.com/</td>\n",
       "      <td>1229.0</td>\n",
       "    </tr>\n",
       "    <tr>\n",
       "      <th>5</th>\n",
       "      <td>CAZ9W99U4</td>\n",
       "      <td>U01KGAER1TM</td>\n",
       "      <td>2022-11-04 17:27:20</td>\n",
       "      <td>este es el sitio, se quiere hacer como un wall...</td>\n",
       "      <td>21.0</td>\n",
       "    </tr>\n",
       "    <tr>\n",
       "      <th>6</th>\n",
       "      <td>CAZ9W99U4</td>\n",
       "      <td>U01KGAER1TM</td>\n",
       "      <td>2022-11-04 17:34:48</td>\n",
       "      <td>Es que lo que se quiere es tener las imagenes ...</td>\n",
       "      <td>448.0</td>\n",
       "    </tr>\n",
       "    <tr>\n",
       "      <th>7</th>\n",
       "      <td>CAZ9W99U4</td>\n",
       "      <td>U01KGAER1TM</td>\n",
       "      <td>2022-11-04 17:38:07</td>\n",
       "      <td>Voy a explorar la posibilidad de guardar las i...</td>\n",
       "      <td>199.0</td>\n",
       "    </tr>\n",
       "    <tr>\n",
       "      <th>8</th>\n",
       "      <td>CAZ9W99U4</td>\n",
       "      <td>U01KGAER1TM</td>\n",
       "      <td>2022-11-04 17:43:00</td>\n",
       "      <td>Por otro lado que es mas barato, el host o la BD</td>\n",
       "      <td>293.0</td>\n",
       "    </tr>\n",
       "    <tr>\n",
       "      <th>9</th>\n",
       "      <td>CAZ9W99U4</td>\n",
       "      <td>U01KGAER1TM</td>\n",
       "      <td>2022-11-04 17:43:39</td>\n",
       "      <td>creo que por ese lado es una buena opcion porq...</td>\n",
       "      <td>39.0</td>\n",
       "    </tr>\n",
       "    <tr>\n",
       "      <th>10</th>\n",
       "      <td>CAZ9W99U4</td>\n",
       "      <td>U01SM5J4MMG</td>\n",
       "      <td>2022-11-08 14:09:39</td>\n",
       "      <td>BUen dia pudiste solucionar??</td>\n",
       "      <td>0.0</td>\n",
       "    </tr>\n",
       "    <tr>\n",
       "      <th>11</th>\n",
       "      <td>CAZ9W99U4</td>\n",
       "      <td>U01SM5J4MMG</td>\n",
       "      <td>2022-11-08 14:12:03</td>\n",
       "      <td>Podrias pasarme la captura de nuevo que no me ...</td>\n",
       "      <td>144.0</td>\n",
       "    </tr>\n",
       "    <tr>\n",
       "      <th>12</th>\n",
       "      <td>CAZ9W99U4</td>\n",
       "      <td>U0230UQHWKS</td>\n",
       "      <td>2022-11-04 17:30:11</td>\n",
       "      <td>Hola buenas tardes, concuerdo con Arnaldo que ...</td>\n",
       "      <td>0.0</td>\n",
       "    </tr>\n",
       "    <tr>\n",
       "      <th>13</th>\n",
       "      <td>CAZ9W99U4</td>\n",
       "      <td>U024H7ZN5L7</td>\n",
       "      <td>2022-11-08 08:28:50</td>\n",
       "      <td>Estás intentando subir tus cambios al repo de ...</td>\n",
       "      <td>0.0</td>\n",
       "    </tr>\n",
       "    <tr>\n",
       "      <th>14</th>\n",
       "      <td>CAZ9W99U4</td>\n",
       "      <td>U024H7ZN5L7</td>\n",
       "      <td>2022-11-08 08:35:26</td>\n",
       "      <td>Es que en estos procesos cualquier cosa que mo...</td>\n",
       "      <td>396.0</td>\n",
       "    </tr>\n",
       "  </tbody>\n",
       "</table>\n",
       "</div>"
      ],
      "text/plain": [
       "   Channel_ID      User_ID            Datetime  \\\n",
       "0   CAZ9W99U4  U01KGAER1TM 2022-11-04 17:02:51   \n",
       "1   CAZ9W99U4  U01KGAER1TM 2022-11-04 17:04:57   \n",
       "2   CAZ9W99U4  U01KGAER1TM 2022-11-04 17:05:02   \n",
       "3   CAZ9W99U4  U01KGAER1TM 2022-11-04 17:06:30   \n",
       "4   CAZ9W99U4  U01KGAER1TM 2022-11-04 17:26:59   \n",
       "5   CAZ9W99U4  U01KGAER1TM 2022-11-04 17:27:20   \n",
       "6   CAZ9W99U4  U01KGAER1TM 2022-11-04 17:34:48   \n",
       "7   CAZ9W99U4  U01KGAER1TM 2022-11-04 17:38:07   \n",
       "8   CAZ9W99U4  U01KGAER1TM 2022-11-04 17:43:00   \n",
       "9   CAZ9W99U4  U01KGAER1TM 2022-11-04 17:43:39   \n",
       "10  CAZ9W99U4  U01SM5J4MMG 2022-11-08 14:09:39   \n",
       "11  CAZ9W99U4  U01SM5J4MMG 2022-11-08 14:12:03   \n",
       "12  CAZ9W99U4  U0230UQHWKS 2022-11-04 17:30:11   \n",
       "13  CAZ9W99U4  U024H7ZN5L7 2022-11-08 08:28:50   \n",
       "14  CAZ9W99U4  U024H7ZN5L7 2022-11-08 08:35:26   \n",
       "\n",
       "                                                 Text  diff_in_seconds  \n",
       "0         No se quiere usar un tercero para las fotos              0.0  \n",
       "1   digamos que son imagenes de usuarios en donde ...            126.0  \n",
       "2                                 comentarios y likes              5.0  \n",
       "3   y la base de datos no solo contiene las imagen...             88.0  \n",
       "4                                 https://isn365.com/           1229.0  \n",
       "5   este es el sitio, se quiere hacer como un wall...             21.0  \n",
       "6   Es que lo que se quiere es tener las imagenes ...            448.0  \n",
       "7   Voy a explorar la posibilidad de guardar las i...            199.0  \n",
       "8    Por otro lado que es mas barato, el host o la BD            293.0  \n",
       "9   creo que por ese lado es una buena opcion porq...             39.0  \n",
       "10                      BUen dia pudiste solucionar??              0.0  \n",
       "11  Podrias pasarme la captura de nuevo que no me ...            144.0  \n",
       "12  Hola buenas tardes, concuerdo con Arnaldo que ...              0.0  \n",
       "13  Estás intentando subir tus cambios al repo de ...              0.0  \n",
       "14  Es que en estos procesos cualquier cosa que mo...            396.0  "
      ]
     },
     "execution_count": 20,
     "metadata": {},
     "output_type": "execute_result"
    }
   ],
   "source": [
    "df3.head(15)"
   ]
  },
  {
   "cell_type": "code",
   "execution_count": 17,
   "id": "c974a2b0",
   "metadata": {},
   "outputs": [
    {
     "data": {
      "text/plain": [
       "\"\\nfor i in range(len(df3['User_ID'])):\\n    if (df3['difference'][i+1] - df3['difference'][i])<\\n        print(df['new_time'][i])\\n\""
      ]
     },
     "execution_count": 17,
     "metadata": {},
     "output_type": "execute_result"
    }
   ],
   "source": [
    "# Timestamps satisfying given condition\n",
    "'''\n",
    "for i in range(len(df3)):\n",
    "    for x in df3['User_ID]:\n",
    "        if (df3['diff_in_seconds'][i] < 300\n",
    "            df3['Text'][i-1] + ' ' + df3['Text'][i]) \n",
    "'''"
   ]
  },
  {
   "cell_type": "markdown",
   "id": "5bc734cd",
   "metadata": {},
   "source": [
    "**Number of interactions per student**"
   ]
  },
  {
   "cell_type": "markdown",
   "id": "08701659",
   "metadata": {},
   "source": [
    "**Number of questions per student**"
   ]
  },
  {
   "cell_type": "markdown",
   "id": "20ff3f34",
   "metadata": {},
   "source": [
    "## Data Cleaning"
   ]
  },
  {
   "cell_type": "markdown",
   "id": "8f4f3ab5",
   "metadata": {},
   "source": [
    "**Encoding boolean column**"
   ]
  },
  {
   "cell_type": "markdown",
   "id": "d9fd66a4",
   "metadata": {},
   "source": [
    "**Cleaning joined dataframe**"
   ]
  }
 ],
 "metadata": {
  "kernelspec": {
   "display_name": "Python 3",
   "language": "python",
   "name": "python3"
  },
  "language_info": {
   "codemirror_mode": {
    "name": "ipython",
    "version": 3
   },
   "file_extension": ".py",
   "mimetype": "text/x-python",
   "name": "python",
   "nbconvert_exporter": "python",
   "pygments_lexer": "ipython3",
   "version": "3.8.13"
  },
  "vscode": {
   "interpreter": {
    "hash": "9ac03a0a6051494cc606d484d27d20fce22fb7b4d169f583271e11d5ba46a56e"
   }
  }
 },
 "nbformat": 4,
 "nbformat_minor": 5
}
