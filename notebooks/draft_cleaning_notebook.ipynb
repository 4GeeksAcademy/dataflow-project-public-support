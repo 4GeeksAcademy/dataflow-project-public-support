{
 "cells": [
  {
   "cell_type": "markdown",
   "id": "75c6fedd",
   "metadata": {},
   "source": [
    "# Cleaning Public Support data"
   ]
  },
  {
   "cell_type": "markdown",
   "id": "85701093",
   "metadata": {},
   "source": [
    "## Importing necessary libraries"
   ]
  },
  {
   "cell_type": "code",
   "execution_count": 47,
   "id": "ce727954",
   "metadata": {},
   "outputs": [
    {
     "name": "stdout",
     "output_type": "stream",
     "text": [
      "Requirement already satisfied: pandas in /home/gitpod/.pyenv/versions/3.8.13/lib/python3.8/site-packages (1.5.2)\n",
      "Requirement already satisfied: matplotlib in /home/gitpod/.pyenv/versions/3.8.13/lib/python3.8/site-packages (3.6.2)\n",
      "Requirement already satisfied: seaborn in /home/gitpod/.pyenv/versions/3.8.13/lib/python3.8/site-packages (0.12.1)\n",
      "Requirement already satisfied: wordcloud in /home/gitpod/.pyenv/versions/3.8.13/lib/python3.8/site-packages (1.8.2.2)\n",
      "Requirement already satisfied: numpy>=1.20.3 in /home/gitpod/.pyenv/versions/3.8.13/lib/python3.8/site-packages (from pandas) (1.23.5)\n",
      "Requirement already satisfied: python-dateutil>=2.8.1 in /home/gitpod/.pyenv/versions/3.8.13/lib/python3.8/site-packages (from pandas) (2.8.2)\n",
      "Requirement already satisfied: pytz>=2020.1 in /home/gitpod/.pyenv/versions/3.8.13/lib/python3.8/site-packages (from pandas) (2022.6)\n",
      "Requirement already satisfied: pyparsing>=2.2.1 in /home/gitpod/.pyenv/versions/3.8.13/lib/python3.8/site-packages (from matplotlib) (3.0.9)\n",
      "Requirement already satisfied: pillow>=6.2.0 in /home/gitpod/.pyenv/versions/3.8.13/lib/python3.8/site-packages (from matplotlib) (9.3.0)\n",
      "Requirement already satisfied: fonttools>=4.22.0 in /home/gitpod/.pyenv/versions/3.8.13/lib/python3.8/site-packages (from matplotlib) (4.38.0)\n",
      "Requirement already satisfied: contourpy>=1.0.1 in /home/gitpod/.pyenv/versions/3.8.13/lib/python3.8/site-packages (from matplotlib) (1.0.6)\n",
      "Requirement already satisfied: cycler>=0.10 in /home/gitpod/.pyenv/versions/3.8.13/lib/python3.8/site-packages (from matplotlib) (0.11.0)\n",
      "Requirement already satisfied: packaging>=20.0 in /home/gitpod/.pyenv/versions/3.8.13/lib/python3.8/site-packages (from matplotlib) (21.3)\n",
      "Requirement already satisfied: kiwisolver>=1.0.1 in /home/gitpod/.pyenv/versions/3.8.13/lib/python3.8/site-packages (from matplotlib) (1.4.4)\n",
      "Requirement already satisfied: six>=1.5 in /home/gitpod/.pyenv/versions/3.8.13/lib/python3.8/site-packages (from python-dateutil>=2.8.1->pandas) (1.16.0)\n",
      "\n",
      "\u001b[1m[\u001b[0m\u001b[34;49mnotice\u001b[0m\u001b[1;39;49m]\u001b[0m\u001b[39;49m A new release of pip available: \u001b[0m\u001b[31;49m22.2.2\u001b[0m\u001b[39;49m -> \u001b[0m\u001b[32;49m22.3.1\u001b[0m\n",
      "\u001b[1m[\u001b[0m\u001b[34;49mnotice\u001b[0m\u001b[1;39;49m]\u001b[0m\u001b[39;49m To update, run: \u001b[0m\u001b[32;49mpip install --upgrade pip\u001b[0m\n",
      "Note: you may need to restart the kernel to use updated packages.\n"
     ]
    }
   ],
   "source": [
    "pip install pandas matplotlib seaborn wordcloud"
   ]
  },
  {
   "cell_type": "code",
   "execution_count": 48,
   "id": "35fcfef8",
   "metadata": {},
   "outputs": [],
   "source": [
    "import pandas as pd\n",
    "import numpy as np\n",
    "import matplotlib.pyplot as plt\n",
    "import seaborn as sns\n",
    "from datetime import datetime,date, timedelta"
   ]
  },
  {
   "cell_type": "markdown",
   "id": "082e6d18",
   "metadata": {},
   "source": [
    "## Loading the data"
   ]
  },
  {
   "cell_type": "code",
   "execution_count": 49,
   "id": "bcc40632",
   "metadata": {},
   "outputs": [],
   "source": [
    "slack = pd.read_csv('../sources/support-channels.csv')\n"
   ]
  },
  {
   "cell_type": "markdown",
   "id": "15b8f817",
   "metadata": {},
   "source": [
    "## Discover"
   ]
  },
  {
   "cell_type": "code",
   "execution_count": 50,
   "id": "a8a4c433",
   "metadata": {},
   "outputs": [
    {
     "name": "stdout",
     "output_type": "stream",
     "text": [
      "Shape of slack dataframe before cleaning: (481, 14)\n"
     ]
    }
   ],
   "source": [
    "print('Shape of slack dataframe before cleaning:', slack.shape)"
   ]
  },
  {
   "cell_type": "code",
   "execution_count": 51,
   "id": "665b5ba9",
   "metadata": {},
   "outputs": [
    {
     "name": "stdout",
     "output_type": "stream",
     "text": [
      "<class 'pandas.core.frame.DataFrame'>\n",
      "RangeIndex: 481 entries, 0 to 480\n",
      "Data columns (total 14 columns):\n",
      " #   Column            Non-Null Count  Dtype \n",
      "---  ------            --------------  ----- \n",
      " 0   Channel_ID        481 non-null    object\n",
      " 1   Channel_Slug      481 non-null    object\n",
      " 2   Timestamp         481 non-null    object\n",
      " 3   Timestamp_Thread  368 non-null    object\n",
      " 4   User_ID           481 non-null    object\n",
      " 5   Full_Name         470 non-null    object\n",
      " 6   Email             481 non-null    object\n",
      " 7   Permalink         481 non-null    object\n",
      " 8   Text              481 non-null    object\n",
      " 9   Text_raw          481 non-null    object\n",
      " 10  Slack_username    481 non-null    object\n",
      " 11  Team_ID           481 non-null    object\n",
      " 12  Team_Name         481 non-null    object\n",
      " 13  Is_Bot            481 non-null    bool  \n",
      "dtypes: bool(1), object(13)\n",
      "memory usage: 49.4+ KB\n"
     ]
    }
   ],
   "source": [
    "slack.info()"
   ]
  },
  {
   "cell_type": "markdown",
   "id": "bf545910",
   "metadata": {},
   "source": [
    "**Creating 2 new columns**"
   ]
  },
  {
   "cell_type": "code",
   "execution_count": 52,
   "id": "a830e29b",
   "metadata": {},
   "outputs": [],
   "source": [
    "slack['Is_a_question'] = np.where(slack['Timestamp_Thread'].isnull(), 1, 0)"
   ]
  },
  {
   "cell_type": "code",
   "execution_count": 53,
   "id": "ad94ed98",
   "metadata": {},
   "outputs": [],
   "source": [
    "support_agents = ['1','5301']\n",
    "\n",
    "slack['Is_agent'] = np.where(slack['User_ID'].isin(support_agents), 1, 0)"
   ]
  },
  {
   "cell_type": "markdown",
   "id": "79e9f6a5",
   "metadata": {},
   "source": [
    "**Encoding necessary columns**"
   ]
  },
  {
   "cell_type": "code",
   "execution_count": 54,
   "id": "35bde503",
   "metadata": {},
   "outputs": [],
   "source": [
    "slack['Is_Bot'] = np.where(slack['Is_Bot'] == True, 1, 0)"
   ]
  },
  {
   "cell_type": "markdown",
   "id": "3ac360d0",
   "metadata": {},
   "source": [
    "**Converting timestamp columns**"
   ]
  },
  {
   "cell_type": "code",
   "execution_count": 55,
   "id": "f95f12da",
   "metadata": {},
   "outputs": [],
   "source": [
    "slack['Datetime'] = pd.to_datetime(slack['Timestamp'])\n",
    "slack['Datetime_Thread'] = pd.to_datetime(slack['Timestamp_Thread'])"
   ]
  },
  {
   "cell_type": "markdown",
   "id": "90c02532",
   "metadata": {},
   "source": [
    "**Creating 2 dataframes: questions and answers**"
   ]
  },
  {
   "cell_type": "code",
   "execution_count": 56,
   "id": "d5885f8d",
   "metadata": {},
   "outputs": [],
   "source": [
    "Q_df = slack[slack['Is_a_question'] == 1]\n",
    "A_df = slack[slack['Is_a_question'] == 0]"
   ]
  },
  {
   "cell_type": "markdown",
   "id": "9981c204",
   "metadata": {},
   "source": [
    "**Working on Answers dataframe**"
   ]
  },
  {
   "cell_type": "code",
   "execution_count": 57,
   "id": "7154600a",
   "metadata": {},
   "outputs": [],
   "source": [
    "answers = A_df.groupby(['User_ID','Datetime'])[['Text']]"
   ]
  },
  {
   "cell_type": "code",
   "execution_count": 58,
   "id": "2270b157",
   "metadata": {},
   "outputs": [],
   "source": [
    "df_answers = pd.DataFrame(answers.sum().reset_index())"
   ]
  },
  {
   "cell_type": "code",
   "execution_count": 59,
   "id": "09347ef5",
   "metadata": {},
   "outputs": [
    {
     "data": {
      "text/html": [
       "<div>\n",
       "<style scoped>\n",
       "    .dataframe tbody tr th:only-of-type {\n",
       "        vertical-align: middle;\n",
       "    }\n",
       "\n",
       "    .dataframe tbody tr th {\n",
       "        vertical-align: top;\n",
       "    }\n",
       "\n",
       "    .dataframe thead th {\n",
       "        text-align: right;\n",
       "    }\n",
       "</style>\n",
       "<table border=\"1\" class=\"dataframe\">\n",
       "  <thead>\n",
       "    <tr style=\"text-align: right;\">\n",
       "      <th></th>\n",
       "      <th>User_ID</th>\n",
       "      <th>Datetime</th>\n",
       "      <th>Text</th>\n",
       "    </tr>\n",
       "  </thead>\n",
       "  <tbody>\n",
       "    <tr>\n",
       "      <th>0</th>\n",
       "      <td>U01KGAER1TM</td>\n",
       "      <td>2022-11-04 17:02:51</td>\n",
       "      <td>No se quiere usar un tercero para las fotos</td>\n",
       "    </tr>\n",
       "    <tr>\n",
       "      <th>1</th>\n",
       "      <td>U01KGAER1TM</td>\n",
       "      <td>2022-11-04 17:04:57</td>\n",
       "      <td>digamos que son imagenes de usuarios en donde ...</td>\n",
       "    </tr>\n",
       "    <tr>\n",
       "      <th>2</th>\n",
       "      <td>U01KGAER1TM</td>\n",
       "      <td>2022-11-04 17:05:02</td>\n",
       "      <td>comentarios y likes</td>\n",
       "    </tr>\n",
       "    <tr>\n",
       "      <th>3</th>\n",
       "      <td>U01KGAER1TM</td>\n",
       "      <td>2022-11-04 17:06:30</td>\n",
       "      <td>y la base de datos no solo contiene las imagen...</td>\n",
       "    </tr>\n",
       "    <tr>\n",
       "      <th>4</th>\n",
       "      <td>U01KGAER1TM</td>\n",
       "      <td>2022-11-04 17:26:59</td>\n",
       "      <td>https://isn365.com/</td>\n",
       "    </tr>\n",
       "  </tbody>\n",
       "</table>\n",
       "</div>"
      ],
      "text/plain": [
       "       User_ID            Datetime  \\\n",
       "0  U01KGAER1TM 2022-11-04 17:02:51   \n",
       "1  U01KGAER1TM 2022-11-04 17:04:57   \n",
       "2  U01KGAER1TM 2022-11-04 17:05:02   \n",
       "3  U01KGAER1TM 2022-11-04 17:06:30   \n",
       "4  U01KGAER1TM 2022-11-04 17:26:59   \n",
       "\n",
       "                                                Text  \n",
       "0        No se quiere usar un tercero para las fotos  \n",
       "1  digamos que son imagenes de usuarios en donde ...  \n",
       "2                                comentarios y likes  \n",
       "3  y la base de datos no solo contiene las imagen...  \n",
       "4                                https://isn365.com/  "
      ]
     },
     "execution_count": 59,
     "metadata": {},
     "output_type": "execute_result"
    }
   ],
   "source": [
    "df_answers.head()"
   ]
  },
  {
   "cell_type": "code",
   "execution_count": 60,
   "id": "24040f57",
   "metadata": {},
   "outputs": [],
   "source": [
    "df_answers['Diff_in_Seconds'] = (df_answers.sort_values('Datetime').groupby('User_ID').Datetime.diff())"
   ]
  },
  {
   "cell_type": "code",
   "execution_count": 61,
   "id": "0f4c581a",
   "metadata": {},
   "outputs": [],
   "source": [
    "df_answers['Diff_in_Seconds'] = df_answers['Diff_in_Seconds'].fillna(pd.Timedelta(seconds=0))"
   ]
  },
  {
   "cell_type": "code",
   "execution_count": 62,
   "id": "d548992d",
   "metadata": {},
   "outputs": [],
   "source": [
    "df_answers['Diff_in_Seconds'] = df_answers['Diff_in_Seconds']/np.timedelta64(1,'s')"
   ]
  },
  {
   "cell_type": "code",
   "execution_count": 63,
   "id": "d3b83b6b",
   "metadata": {},
   "outputs": [],
   "source": [
    "df_answers['diff_abs'] = df_answers.Diff_in_Seconds.abs()"
   ]
  },
  {
   "cell_type": "code",
   "execution_count": 64,
   "id": "904d55a3",
   "metadata": {},
   "outputs": [],
   "source": [
    "df_answers['same_author'] = df_answers['User_ID'].ne(df_answers['User_ID'].shift().bfill()).astype(int)"
   ]
  },
  {
   "cell_type": "code",
   "execution_count": 65,
   "id": "a03117b2",
   "metadata": {},
   "outputs": [
    {
     "name": "stderr",
     "output_type": "stream",
     "text": [
      "/tmp/ipykernel_1490/3464986642.py:2: FutureWarning: In a future version of pandas, a length 1 tuple will be returned when iterating over a groupby with a grouper equal to a list of length 1. Don't supply a list with a single grouper to avoid this warning.\n",
      "  for group in df.groupby(['User_ID']):\n"
     ]
    },
    {
     "data": {
      "text/html": [
       "<div>\n",
       "<style scoped>\n",
       "    .dataframe tbody tr th:only-of-type {\n",
       "        vertical-align: middle;\n",
       "    }\n",
       "\n",
       "    .dataframe tbody tr th {\n",
       "        vertical-align: top;\n",
       "    }\n",
       "\n",
       "    .dataframe thead th {\n",
       "        text-align: right;\n",
       "    }\n",
       "</style>\n",
       "<table border=\"1\" class=\"dataframe\">\n",
       "  <thead>\n",
       "    <tr style=\"text-align: right;\">\n",
       "      <th></th>\n",
       "      <th>User_ID</th>\n",
       "      <th>Datetime</th>\n",
       "      <th>Text</th>\n",
       "      <th>Diff_in_Seconds</th>\n",
       "      <th>diff_abs</th>\n",
       "      <th>same_author</th>\n",
       "      <th>messageId</th>\n",
       "    </tr>\n",
       "  </thead>\n",
       "  <tbody>\n",
       "    <tr>\n",
       "      <th>0</th>\n",
       "      <td>U01KGAER1TM</td>\n",
       "      <td>2022-11-04 17:02:51</td>\n",
       "      <td>No se quiere usar un tercero para las fotos</td>\n",
       "      <td>0.0</td>\n",
       "      <td>0.0</td>\n",
       "      <td>0</td>\n",
       "      <td>1</td>\n",
       "    </tr>\n",
       "    <tr>\n",
       "      <th>1</th>\n",
       "      <td>U01KGAER1TM</td>\n",
       "      <td>2022-11-04 17:04:57</td>\n",
       "      <td>digamos que son imagenes de usuarios en donde ...</td>\n",
       "      <td>126.0</td>\n",
       "      <td>126.0</td>\n",
       "      <td>0</td>\n",
       "      <td>1</td>\n",
       "    </tr>\n",
       "    <tr>\n",
       "      <th>2</th>\n",
       "      <td>U01KGAER1TM</td>\n",
       "      <td>2022-11-04 17:05:02</td>\n",
       "      <td>comentarios y likes</td>\n",
       "      <td>5.0</td>\n",
       "      <td>5.0</td>\n",
       "      <td>0</td>\n",
       "      <td>1</td>\n",
       "    </tr>\n",
       "    <tr>\n",
       "      <th>3</th>\n",
       "      <td>U01KGAER1TM</td>\n",
       "      <td>2022-11-04 17:06:30</td>\n",
       "      <td>y la base de datos no solo contiene las imagen...</td>\n",
       "      <td>88.0</td>\n",
       "      <td>88.0</td>\n",
       "      <td>0</td>\n",
       "      <td>1</td>\n",
       "    </tr>\n",
       "    <tr>\n",
       "      <th>4</th>\n",
       "      <td>U01KGAER1TM</td>\n",
       "      <td>2022-11-04 17:26:59</td>\n",
       "      <td>https://isn365.com/</td>\n",
       "      <td>1229.0</td>\n",
       "      <td>1229.0</td>\n",
       "      <td>0</td>\n",
       "      <td>2</td>\n",
       "    </tr>\n",
       "    <tr>\n",
       "      <th>...</th>\n",
       "      <td>...</td>\n",
       "      <td>...</td>\n",
       "      <td>...</td>\n",
       "      <td>...</td>\n",
       "      <td>...</td>\n",
       "      <td>...</td>\n",
       "      <td>...</td>\n",
       "    </tr>\n",
       "    <tr>\n",
       "      <th>363</th>\n",
       "      <td>UU409472Q</td>\n",
       "      <td>2022-11-11 00:32:33</td>\n",
       "      <td>No te preocupes no es algo que afecte</td>\n",
       "      <td>632178.0</td>\n",
       "      <td>632178.0</td>\n",
       "      <td>0</td>\n",
       "      <td>190</td>\n",
       "    </tr>\n",
       "    <tr>\n",
       "      <th>364</th>\n",
       "      <td>UU409472Q</td>\n",
       "      <td>2022-11-11 01:48:09</td>\n",
       "      <td>https://www.notion.so/4geeksacademy/How-to-del...</td>\n",
       "      <td>4536.0</td>\n",
       "      <td>4536.0</td>\n",
       "      <td>0</td>\n",
       "      <td>191</td>\n",
       "    </tr>\n",
       "    <tr>\n",
       "      <th>365</th>\n",
       "      <td>UU409472Q</td>\n",
       "      <td>2022-11-11 14:33:32</td>\n",
       "      <td>Meri , sigue estos pasos https://www.notion.so...</td>\n",
       "      <td>45923.0</td>\n",
       "      <td>45923.0</td>\n",
       "      <td>0</td>\n",
       "      <td>192</td>\n",
       "    </tr>\n",
       "    <tr>\n",
       "      <th>366</th>\n",
       "      <td>UU409472Q</td>\n",
       "      <td>2022-11-11 15:27:50</td>\n",
       "      <td>:anguished: intenta ir al dashboard a ver</td>\n",
       "      <td>3258.0</td>\n",
       "      <td>3258.0</td>\n",
       "      <td>0</td>\n",
       "      <td>193</td>\n",
       "    </tr>\n",
       "    <tr>\n",
       "      <th>367</th>\n",
       "      <td>UU409472Q</td>\n",
       "      <td>2022-11-11 15:27:56</td>\n",
       "      <td>http://gitpod.iogitpod.io&gt; directamente</td>\n",
       "      <td>6.0</td>\n",
       "      <td>6.0</td>\n",
       "      <td>0</td>\n",
       "      <td>193</td>\n",
       "    </tr>\n",
       "  </tbody>\n",
       "</table>\n",
       "<p>368 rows × 7 columns</p>\n",
       "</div>"
      ],
      "text/plain": [
       "         User_ID            Datetime  \\\n",
       "0    U01KGAER1TM 2022-11-04 17:02:51   \n",
       "1    U01KGAER1TM 2022-11-04 17:04:57   \n",
       "2    U01KGAER1TM 2022-11-04 17:05:02   \n",
       "3    U01KGAER1TM 2022-11-04 17:06:30   \n",
       "4    U01KGAER1TM 2022-11-04 17:26:59   \n",
       "..           ...                 ...   \n",
       "363    UU409472Q 2022-11-11 00:32:33   \n",
       "364    UU409472Q 2022-11-11 01:48:09   \n",
       "365    UU409472Q 2022-11-11 14:33:32   \n",
       "366    UU409472Q 2022-11-11 15:27:50   \n",
       "367    UU409472Q 2022-11-11 15:27:56   \n",
       "\n",
       "                                                  Text  Diff_in_Seconds  \\\n",
       "0          No se quiere usar un tercero para las fotos              0.0   \n",
       "1    digamos que son imagenes de usuarios en donde ...            126.0   \n",
       "2                                  comentarios y likes              5.0   \n",
       "3    y la base de datos no solo contiene las imagen...             88.0   \n",
       "4                                  https://isn365.com/           1229.0   \n",
       "..                                                 ...              ...   \n",
       "363              No te preocupes no es algo que afecte         632178.0   \n",
       "364  https://www.notion.so/4geeksacademy/How-to-del...           4536.0   \n",
       "365  Meri , sigue estos pasos https://www.notion.so...          45923.0   \n",
       "366          :anguished: intenta ir al dashboard a ver           3258.0   \n",
       "367            http://gitpod.iogitpod.io> directamente              6.0   \n",
       "\n",
       "     diff_abs  same_author  messageId  \n",
       "0         0.0            0          1  \n",
       "1       126.0            0          1  \n",
       "2         5.0            0          1  \n",
       "3        88.0            0          1  \n",
       "4      1229.0            0          2  \n",
       "..        ...          ...        ...  \n",
       "363  632178.0            0        190  \n",
       "364    4536.0            0        191  \n",
       "365   45923.0            0        192  \n",
       "366    3258.0            0        193  \n",
       "367       6.0            0        193  \n",
       "\n",
       "[368 rows x 7 columns]"
      ]
     },
     "execution_count": 65,
     "metadata": {},
     "output_type": "execute_result"
    }
   ],
   "source": [
    "def create_AnswerId(df):\n",
    "    for group in df.groupby(['User_ID']):\n",
    "        df['messageId'] = df.diff_abs.gt(300).cumsum() + 1 + df.same_author.cumsum()\n",
    "    return df\n",
    "create_AnswerId(df_answers)"
   ]
  },
  {
   "cell_type": "code",
   "execution_count": 66,
   "id": "3ffa4998",
   "metadata": {},
   "outputs": [
    {
     "data": {
      "text/plain": [
       "(368, 7)"
      ]
     },
     "execution_count": 66,
     "metadata": {},
     "output_type": "execute_result"
    }
   ],
   "source": [
    "df_answers.shape"
   ]
  },
  {
   "cell_type": "code",
   "execution_count": 67,
   "id": "de15474e",
   "metadata": {},
   "outputs": [
    {
     "data": {
      "text/plain": [
       "(368, 18)"
      ]
     },
     "execution_count": 67,
     "metadata": {},
     "output_type": "execute_result"
    }
   ],
   "source": [
    "A_df.shape"
   ]
  },
  {
   "cell_type": "markdown",
   "id": "b5575007",
   "metadata": {},
   "source": [
    "**Questions dataframe**"
   ]
  },
  {
   "cell_type": "code",
   "execution_count": 68,
   "id": "a5f8b02f",
   "metadata": {},
   "outputs": [],
   "source": [
    "questions = Q_df.groupby(['User_ID','Datetime'])[['Text']]"
   ]
  },
  {
   "cell_type": "code",
   "execution_count": 69,
   "id": "4a4f7678",
   "metadata": {},
   "outputs": [],
   "source": [
    "df_questions = pd.DataFrame(questions.sum().reset_index())"
   ]
  },
  {
   "cell_type": "code",
   "execution_count": 70,
   "id": "2b578e80",
   "metadata": {},
   "outputs": [
    {
     "data": {
      "text/html": [
       "<div>\n",
       "<style scoped>\n",
       "    .dataframe tbody tr th:only-of-type {\n",
       "        vertical-align: middle;\n",
       "    }\n",
       "\n",
       "    .dataframe tbody tr th {\n",
       "        vertical-align: top;\n",
       "    }\n",
       "\n",
       "    .dataframe thead th {\n",
       "        text-align: right;\n",
       "    }\n",
       "</style>\n",
       "<table border=\"1\" class=\"dataframe\">\n",
       "  <thead>\n",
       "    <tr style=\"text-align: right;\">\n",
       "      <th></th>\n",
       "      <th>User_ID</th>\n",
       "      <th>Datetime</th>\n",
       "      <th>Text</th>\n",
       "    </tr>\n",
       "  </thead>\n",
       "  <tbody>\n",
       "    <tr>\n",
       "      <th>0</th>\n",
       "      <td>U01KGAER1TM</td>\n",
       "      <td>2022-11-04 16:14:32</td>\n",
       "      <td>Como estan, tengo un problema, ocupo subir una...</td>\n",
       "    </tr>\n",
       "    <tr>\n",
       "      <th>1</th>\n",
       "      <td>U01SJ480RBR</td>\n",
       "      <td>2022-11-07 16:59:39</td>\n",
       "      <td>Hello</td>\n",
       "    </tr>\n",
       "    <tr>\n",
       "      <th>2</th>\n",
       "      <td>U01SM5J4MMG</td>\n",
       "      <td>2022-11-07 21:15:26</td>\n",
       "      <td>Buenas tardes, intenta poniendo solo git push</td>\n",
       "    </tr>\n",
       "    <tr>\n",
       "      <th>3</th>\n",
       "      <td>U02N1P8CV6W</td>\n",
       "      <td>2022-10-31 22:55:36</td>\n",
       "      <td>Hola chicos, he estado intentando llevar a pro...</td>\n",
       "    </tr>\n",
       "    <tr>\n",
       "      <th>4</th>\n",
       "      <td>U02NE11UHNC</td>\n",
       "      <td>2022-11-03 22:28:10</td>\n",
       "      <td>have someone imported custom fonts (no google ...</td>\n",
       "    </tr>\n",
       "  </tbody>\n",
       "</table>\n",
       "</div>"
      ],
      "text/plain": [
       "       User_ID            Datetime  \\\n",
       "0  U01KGAER1TM 2022-11-04 16:14:32   \n",
       "1  U01SJ480RBR 2022-11-07 16:59:39   \n",
       "2  U01SM5J4MMG 2022-11-07 21:15:26   \n",
       "3  U02N1P8CV6W 2022-10-31 22:55:36   \n",
       "4  U02NE11UHNC 2022-11-03 22:28:10   \n",
       "\n",
       "                                                Text  \n",
       "0  Como estan, tengo un problema, ocupo subir una...  \n",
       "1                                              Hello  \n",
       "2      Buenas tardes, intenta poniendo solo git push  \n",
       "3  Hola chicos, he estado intentando llevar a pro...  \n",
       "4  have someone imported custom fonts (no google ...  "
      ]
     },
     "execution_count": 70,
     "metadata": {},
     "output_type": "execute_result"
    }
   ],
   "source": [
    "df_questions.head()"
   ]
  },
  {
   "cell_type": "code",
   "execution_count": 71,
   "id": "0aeaad33",
   "metadata": {},
   "outputs": [
    {
     "data": {
      "text/plain": [
       "(112, 3)"
      ]
     },
     "execution_count": 71,
     "metadata": {},
     "output_type": "execute_result"
    }
   ],
   "source": [
    "df_questions.shape"
   ]
  },
  {
   "cell_type": "code",
   "execution_count": 72,
   "id": "5bece850",
   "metadata": {},
   "outputs": [],
   "source": [
    "df_questions['Diff_in_Seconds'] = (df_questions.sort_values('Datetime').groupby('User_ID').Datetime.diff())"
   ]
  },
  {
   "cell_type": "code",
   "execution_count": 73,
   "id": "cf50899c",
   "metadata": {},
   "outputs": [],
   "source": [
    "df_questions['Diff_in_Seconds'] = df_questions['Diff_in_Seconds'].fillna(pd.Timedelta(seconds=0))"
   ]
  },
  {
   "cell_type": "code",
   "execution_count": 74,
   "id": "51f5bb83",
   "metadata": {},
   "outputs": [],
   "source": [
    "df_questions['Diff_in_Seconds']=df_questions['Diff_in_Seconds']/np.timedelta64(1,'s')"
   ]
  },
  {
   "cell_type": "code",
   "execution_count": 75,
   "id": "3eb622c7",
   "metadata": {},
   "outputs": [],
   "source": [
    "df_questions['diff_abs'] = df_questions.Diff_in_Seconds.abs()"
   ]
  },
  {
   "cell_type": "code",
   "execution_count": 76,
   "id": "80224f66",
   "metadata": {},
   "outputs": [],
   "source": [
    "df_questions['same_author'] = df_questions['User_ID'].ne(df_questions['User_ID'].shift().bfill()).astype(int)"
   ]
  },
  {
   "cell_type": "code",
   "execution_count": 77,
   "id": "595c2b27",
   "metadata": {},
   "outputs": [
    {
     "name": "stderr",
     "output_type": "stream",
     "text": [
      "/tmp/ipykernel_1490/2400834575.py:2: FutureWarning: In a future version of pandas, a length 1 tuple will be returned when iterating over a groupby with a grouper equal to a list of length 1. Don't supply a list with a single grouper to avoid this warning.\n",
      "  for group in df.groupby(['User_ID']):\n"
     ]
    },
    {
     "data": {
      "text/html": [
       "<div>\n",
       "<style scoped>\n",
       "    .dataframe tbody tr th:only-of-type {\n",
       "        vertical-align: middle;\n",
       "    }\n",
       "\n",
       "    .dataframe tbody tr th {\n",
       "        vertical-align: top;\n",
       "    }\n",
       "\n",
       "    .dataframe thead th {\n",
       "        text-align: right;\n",
       "    }\n",
       "</style>\n",
       "<table border=\"1\" class=\"dataframe\">\n",
       "  <thead>\n",
       "    <tr style=\"text-align: right;\">\n",
       "      <th></th>\n",
       "      <th>User_ID</th>\n",
       "      <th>Datetime</th>\n",
       "      <th>Text</th>\n",
       "      <th>Diff_in_Seconds</th>\n",
       "      <th>diff_abs</th>\n",
       "      <th>same_author</th>\n",
       "      <th>messageId</th>\n",
       "    </tr>\n",
       "  </thead>\n",
       "  <tbody>\n",
       "    <tr>\n",
       "      <th>0</th>\n",
       "      <td>U01KGAER1TM</td>\n",
       "      <td>2022-11-04 16:14:32</td>\n",
       "      <td>Como estan, tengo un problema, ocupo subir una...</td>\n",
       "      <td>0.0</td>\n",
       "      <td>0.0</td>\n",
       "      <td>0</td>\n",
       "      <td>1</td>\n",
       "    </tr>\n",
       "    <tr>\n",
       "      <th>1</th>\n",
       "      <td>U01SJ480RBR</td>\n",
       "      <td>2022-11-07 16:59:39</td>\n",
       "      <td>Hello</td>\n",
       "      <td>0.0</td>\n",
       "      <td>0.0</td>\n",
       "      <td>1</td>\n",
       "      <td>2</td>\n",
       "    </tr>\n",
       "    <tr>\n",
       "      <th>2</th>\n",
       "      <td>U01SM5J4MMG</td>\n",
       "      <td>2022-11-07 21:15:26</td>\n",
       "      <td>Buenas tardes, intenta poniendo solo git push</td>\n",
       "      <td>0.0</td>\n",
       "      <td>0.0</td>\n",
       "      <td>1</td>\n",
       "      <td>3</td>\n",
       "    </tr>\n",
       "    <tr>\n",
       "      <th>3</th>\n",
       "      <td>U02N1P8CV6W</td>\n",
       "      <td>2022-10-31 22:55:36</td>\n",
       "      <td>Hola chicos, he estado intentando llevar a pro...</td>\n",
       "      <td>0.0</td>\n",
       "      <td>0.0</td>\n",
       "      <td>1</td>\n",
       "      <td>4</td>\n",
       "    </tr>\n",
       "    <tr>\n",
       "      <th>4</th>\n",
       "      <td>U02NE11UHNC</td>\n",
       "      <td>2022-11-03 22:28:10</td>\n",
       "      <td>have someone imported custom fonts (no google ...</td>\n",
       "      <td>0.0</td>\n",
       "      <td>0.0</td>\n",
       "      <td>1</td>\n",
       "      <td>5</td>\n",
       "    </tr>\n",
       "    <tr>\n",
       "      <th>...</th>\n",
       "      <td>...</td>\n",
       "      <td>...</td>\n",
       "      <td>...</td>\n",
       "      <td>...</td>\n",
       "      <td>...</td>\n",
       "      <td>...</td>\n",
       "      <td>...</td>\n",
       "    </tr>\n",
       "    <tr>\n",
       "      <th>107</th>\n",
       "      <td>U04A6KV066M</td>\n",
       "      <td>2022-11-08 20:08:45</td>\n",
       "      <td>Hi all,</td>\n",
       "      <td>0.0</td>\n",
       "      <td>0.0</td>\n",
       "      <td>1</td>\n",
       "      <td>89</td>\n",
       "    </tr>\n",
       "    <tr>\n",
       "      <th>108</th>\n",
       "      <td>U04A6KV066M</td>\n",
       "      <td>2022-11-08 20:13:24</td>\n",
       "      <td>Hi all. I am trying to split my view to where ...</td>\n",
       "      <td>279.0</td>\n",
       "      <td>279.0</td>\n",
       "      <td>0</td>\n",
       "      <td>89</td>\n",
       "    </tr>\n",
       "    <tr>\n",
       "      <th>109</th>\n",
       "      <td>U04A6KV066M</td>\n",
       "      <td>2022-11-08 21:58:27</td>\n",
       "      <td>Should we be doing anything with “commit” and ...</td>\n",
       "      <td>6303.0</td>\n",
       "      <td>6303.0</td>\n",
       "      <td>0</td>\n",
       "      <td>90</td>\n",
       "    </tr>\n",
       "    <tr>\n",
       "      <th>110</th>\n",
       "      <td>U6MR8LG4Q</td>\n",
       "      <td>2022-11-05 03:11:30</td>\n",
       "      <td>Hey @betomasia12 No need to make the pictures ...</td>\n",
       "      <td>0.0</td>\n",
       "      <td>0.0</td>\n",
       "      <td>1</td>\n",
       "      <td>91</td>\n",
       "    </tr>\n",
       "    <tr>\n",
       "      <th>111</th>\n",
       "      <td>UL08NNSV8</td>\n",
       "      <td>2022-11-01 18:39:22</td>\n",
       "      <td>pareciera que tienes una version de ruby muy a...</td>\n",
       "      <td>0.0</td>\n",
       "      <td>0.0</td>\n",
       "      <td>1</td>\n",
       "      <td>92</td>\n",
       "    </tr>\n",
       "  </tbody>\n",
       "</table>\n",
       "<p>112 rows × 7 columns</p>\n",
       "</div>"
      ],
      "text/plain": [
       "         User_ID            Datetime  \\\n",
       "0    U01KGAER1TM 2022-11-04 16:14:32   \n",
       "1    U01SJ480RBR 2022-11-07 16:59:39   \n",
       "2    U01SM5J4MMG 2022-11-07 21:15:26   \n",
       "3    U02N1P8CV6W 2022-10-31 22:55:36   \n",
       "4    U02NE11UHNC 2022-11-03 22:28:10   \n",
       "..           ...                 ...   \n",
       "107  U04A6KV066M 2022-11-08 20:08:45   \n",
       "108  U04A6KV066M 2022-11-08 20:13:24   \n",
       "109  U04A6KV066M 2022-11-08 21:58:27   \n",
       "110    U6MR8LG4Q 2022-11-05 03:11:30   \n",
       "111    UL08NNSV8 2022-11-01 18:39:22   \n",
       "\n",
       "                                                  Text  Diff_in_Seconds  \\\n",
       "0    Como estan, tengo un problema, ocupo subir una...              0.0   \n",
       "1                                                Hello              0.0   \n",
       "2        Buenas tardes, intenta poniendo solo git push              0.0   \n",
       "3    Hola chicos, he estado intentando llevar a pro...              0.0   \n",
       "4    have someone imported custom fonts (no google ...              0.0   \n",
       "..                                                 ...              ...   \n",
       "107                                            Hi all,              0.0   \n",
       "108  Hi all. I am trying to split my view to where ...            279.0   \n",
       "109  Should we be doing anything with “commit” and ...           6303.0   \n",
       "110  Hey @betomasia12 No need to make the pictures ...              0.0   \n",
       "111  pareciera que tienes una version de ruby muy a...              0.0   \n",
       "\n",
       "     diff_abs  same_author  messageId  \n",
       "0         0.0            0          1  \n",
       "1         0.0            1          2  \n",
       "2         0.0            1          3  \n",
       "3         0.0            1          4  \n",
       "4         0.0            1          5  \n",
       "..        ...          ...        ...  \n",
       "107       0.0            1         89  \n",
       "108     279.0            0         89  \n",
       "109    6303.0            0         90  \n",
       "110       0.0            1         91  \n",
       "111       0.0            1         92  \n",
       "\n",
       "[112 rows x 7 columns]"
      ]
     },
     "execution_count": 77,
     "metadata": {},
     "output_type": "execute_result"
    }
   ],
   "source": [
    "def create_QuestionId(df):\n",
    "    for group in df.groupby(['User_ID']):\n",
    "        df['messageId'] = df['diff_abs'].gt(300).cumsum() + 1 + df.same_author.cumsum()\n",
    "    return df\n",
    "\n",
    "create_QuestionId(df_questions)"
   ]
  },
  {
   "cell_type": "code",
   "execution_count": 78,
   "id": "0e5ddb95",
   "metadata": {},
   "outputs": [
    {
     "data": {
      "text/plain": [
       "(112, 7)"
      ]
     },
     "execution_count": 78,
     "metadata": {},
     "output_type": "execute_result"
    }
   ],
   "source": [
    "df_questions.shape"
   ]
  },
  {
   "cell_type": "code",
   "execution_count": 79,
   "id": "9199309f",
   "metadata": {},
   "outputs": [
    {
     "data": {
      "text/html": [
       "<div>\n",
       "<style scoped>\n",
       "    .dataframe tbody tr th:only-of-type {\n",
       "        vertical-align: middle;\n",
       "    }\n",
       "\n",
       "    .dataframe tbody tr th {\n",
       "        vertical-align: top;\n",
       "    }\n",
       "\n",
       "    .dataframe thead th {\n",
       "        text-align: right;\n",
       "    }\n",
       "</style>\n",
       "<table border=\"1\" class=\"dataframe\">\n",
       "  <thead>\n",
       "    <tr style=\"text-align: right;\">\n",
       "      <th></th>\n",
       "      <th>User_ID</th>\n",
       "      <th>Datetime</th>\n",
       "      <th>Text</th>\n",
       "      <th>Diff_in_Seconds</th>\n",
       "      <th>diff_abs</th>\n",
       "      <th>same_author</th>\n",
       "      <th>messageId</th>\n",
       "    </tr>\n",
       "  </thead>\n",
       "  <tbody>\n",
       "    <tr>\n",
       "      <th>0</th>\n",
       "      <td>U01KGAER1TM</td>\n",
       "      <td>2022-11-04 16:14:32</td>\n",
       "      <td>Como estan, tengo un problema, ocupo subir una...</td>\n",
       "      <td>0.0</td>\n",
       "      <td>0.0</td>\n",
       "      <td>0</td>\n",
       "      <td>1</td>\n",
       "    </tr>\n",
       "    <tr>\n",
       "      <th>1</th>\n",
       "      <td>U01SJ480RBR</td>\n",
       "      <td>2022-11-07 16:59:39</td>\n",
       "      <td>Hello</td>\n",
       "      <td>0.0</td>\n",
       "      <td>0.0</td>\n",
       "      <td>1</td>\n",
       "      <td>2</td>\n",
       "    </tr>\n",
       "    <tr>\n",
       "      <th>2</th>\n",
       "      <td>U01SM5J4MMG</td>\n",
       "      <td>2022-11-07 21:15:26</td>\n",
       "      <td>Buenas tardes, intenta poniendo solo git push</td>\n",
       "      <td>0.0</td>\n",
       "      <td>0.0</td>\n",
       "      <td>1</td>\n",
       "      <td>3</td>\n",
       "    </tr>\n",
       "    <tr>\n",
       "      <th>3</th>\n",
       "      <td>U02N1P8CV6W</td>\n",
       "      <td>2022-10-31 22:55:36</td>\n",
       "      <td>Hola chicos, he estado intentando llevar a pro...</td>\n",
       "      <td>0.0</td>\n",
       "      <td>0.0</td>\n",
       "      <td>1</td>\n",
       "      <td>4</td>\n",
       "    </tr>\n",
       "    <tr>\n",
       "      <th>4</th>\n",
       "      <td>U02NE11UHNC</td>\n",
       "      <td>2022-11-03 22:28:10</td>\n",
       "      <td>have someone imported custom fonts (no google ...</td>\n",
       "      <td>0.0</td>\n",
       "      <td>0.0</td>\n",
       "      <td>1</td>\n",
       "      <td>5</td>\n",
       "    </tr>\n",
       "  </tbody>\n",
       "</table>\n",
       "</div>"
      ],
      "text/plain": [
       "       User_ID            Datetime  \\\n",
       "0  U01KGAER1TM 2022-11-04 16:14:32   \n",
       "1  U01SJ480RBR 2022-11-07 16:59:39   \n",
       "2  U01SM5J4MMG 2022-11-07 21:15:26   \n",
       "3  U02N1P8CV6W 2022-10-31 22:55:36   \n",
       "4  U02NE11UHNC 2022-11-03 22:28:10   \n",
       "\n",
       "                                                Text  Diff_in_Seconds  \\\n",
       "0  Como estan, tengo un problema, ocupo subir una...              0.0   \n",
       "1                                              Hello              0.0   \n",
       "2      Buenas tardes, intenta poniendo solo git push              0.0   \n",
       "3  Hola chicos, he estado intentando llevar a pro...              0.0   \n",
       "4  have someone imported custom fonts (no google ...              0.0   \n",
       "\n",
       "   diff_abs  same_author  messageId  \n",
       "0       0.0            0          1  \n",
       "1       0.0            1          2  \n",
       "2       0.0            1          3  \n",
       "3       0.0            1          4  \n",
       "4       0.0            1          5  "
      ]
     },
     "execution_count": 79,
     "metadata": {},
     "output_type": "execute_result"
    }
   ],
   "source": [
    "df_questions.head(5)"
   ]
  },
  {
   "cell_type": "markdown",
   "id": "7a2ff49d",
   "metadata": {},
   "source": [
    "**Merge each dataframe to its previous columns**"
   ]
  },
  {
   "cell_type": "code",
   "execution_count": 80,
   "id": "11f2d42c",
   "metadata": {},
   "outputs": [],
   "source": [
    "df_answers = df_answers.merge(A_df, how = 'left', left_on = ['User_ID', 'Datetime', 'Text'],\n",
    "    right_on = ['User_ID', 'Datetime', 'Text']).drop(['Diff_in_Seconds','diff_abs','same_author','Text_raw'], axis=1)"
   ]
  },
  {
   "cell_type": "code",
   "execution_count": 81,
   "id": "99d4f910",
   "metadata": {},
   "outputs": [],
   "source": [
    "df_answers['response_time'] = df_answers['Datetime'] - df_answers['Datetime_Thread']"
   ]
  },
  {
   "cell_type": "code",
   "execution_count": 82,
   "id": "0e7db7ad",
   "metadata": {},
   "outputs": [
    {
     "data": {
      "text/plain": [
       "(368, 19)"
      ]
     },
     "execution_count": 82,
     "metadata": {},
     "output_type": "execute_result"
    }
   ],
   "source": [
    "df_answers.shape"
   ]
  },
  {
   "cell_type": "code",
   "execution_count": 83,
   "id": "49f64500",
   "metadata": {},
   "outputs": [],
   "source": [
    "df_questions = df_questions.merge(Q_df, how = 'left', left_on = ['User_ID', 'Datetime', 'Text'],\n",
    "    right_on = ['User_ID', 'Datetime', 'Text']).drop(['Diff_in_Seconds','diff_abs','same_author','Text_raw'], axis=1)"
   ]
  },
  {
   "cell_type": "code",
   "execution_count": 84,
   "id": "33823d6a",
   "metadata": {},
   "outputs": [
    {
     "data": {
      "text/plain": [
       "(112, 18)"
      ]
     },
     "execution_count": 84,
     "metadata": {},
     "output_type": "execute_result"
    }
   ],
   "source": [
    "df_questions.shape"
   ]
  },
  {
   "cell_type": "markdown",
   "id": "0622db25",
   "metadata": {},
   "source": [
    "**Merge text and timestamps in rows that have the same messageId**"
   ]
  },
  {
   "cell_type": "code",
   "execution_count": 85,
   "id": "e841b762",
   "metadata": {},
   "outputs": [],
   "source": [
    "df_answers['Text'] = df_answers.groupby(['messageId'])['Text'].transform(lambda x : ' '.join(x))\n",
    "df_questions['Text'] = df_questions.groupby(['messageId'])['Text'].transform(lambda x : ' '.join(x))"
   ]
  },
  {
   "cell_type": "code",
   "execution_count": 86,
   "id": "7767d088",
   "metadata": {},
   "outputs": [],
   "source": [
    "df_questions.dropna(axis=1, how='all', inplace=True)\n",
    "df_questions['Timestamp'] = df_questions.groupby(['messageId'])['Timestamp'].transform(lambda x : ','.join(map(str, x)))"
   ]
  },
  {
   "cell_type": "code",
   "execution_count": 87,
   "id": "61fa2312",
   "metadata": {},
   "outputs": [],
   "source": [
    "#rename to ids in both dataframes\n",
    "df_answers.rename(columns={\"Timestamp\": \"Timestamp_id\", \"Timestamp_Thread\": \"Timestamp_Question\"}, inplace=True)\n",
    "df_questions.rename(columns={\"Timestamp\": \"Timestamp_id\"}, inplace=True)"
   ]
  },
  {
   "cell_type": "code",
   "execution_count": 88,
   "id": "9b62c724",
   "metadata": {},
   "outputs": [],
   "source": [
    "df_answers = df_answers.drop_duplicates(subset=[\"Text\"],keep='first')\n",
    "df_questions = df_questions.drop_duplicates(subset=[\"Text\",\"Timestamp_id\"],keep='first')"
   ]
  },
  {
   "cell_type": "code",
   "execution_count": 89,
   "id": "1211c002",
   "metadata": {},
   "outputs": [],
   "source": [
    "#create a list from df3 question_id column\n",
    "question_ids_list = df_questions['Timestamp_id'].tolist()"
   ]
  },
  {
   "cell_type": "code",
   "execution_count": 90,
   "id": "a0c4a031",
   "metadata": {},
   "outputs": [],
   "source": [
    "def id_autocompletion(search):\n",
    "    for id in question_ids_list:\n",
    "        if search in id:\n",
    "            return id\n",
    "    \n",
    "    return None"
   ]
  },
  {
   "cell_type": "code",
   "execution_count": 91,
   "id": "cd1ff7f3",
   "metadata": {},
   "outputs": [],
   "source": [
    "df_answers['Timestamp_Question'] =  df_answers['Timestamp_Question'].apply(id_autocompletion)"
   ]
  },
  {
   "cell_type": "code",
   "execution_count": 92,
   "id": "be78a2d1",
   "metadata": {},
   "outputs": [
    {
     "data": {
      "text/html": [
       "<div>\n",
       "<style scoped>\n",
       "    .dataframe tbody tr th:only-of-type {\n",
       "        vertical-align: middle;\n",
       "    }\n",
       "\n",
       "    .dataframe tbody tr th {\n",
       "        vertical-align: top;\n",
       "    }\n",
       "\n",
       "    .dataframe thead th {\n",
       "        text-align: right;\n",
       "    }\n",
       "</style>\n",
       "<table border=\"1\" class=\"dataframe\">\n",
       "  <thead>\n",
       "    <tr style=\"text-align: right;\">\n",
       "      <th></th>\n",
       "      <th>User_ID</th>\n",
       "      <th>Timestamp_id</th>\n",
       "      <th>Timestamp_Question</th>\n",
       "    </tr>\n",
       "  </thead>\n",
       "  <tbody>\n",
       "    <tr>\n",
       "      <th>37</th>\n",
       "      <td>U02TNKBLUGY</td>\n",
       "      <td>11/9/2022 15:42:58</td>\n",
       "      <td>11/9/2022 15:38:15,11/9/2022 15:41:12</td>\n",
       "    </tr>\n",
       "    <tr>\n",
       "      <th>41</th>\n",
       "      <td>U02VD5L7J1W</td>\n",
       "      <td>10/29/2022 23:57:41</td>\n",
       "      <td>10/29/2022 23:52:40,10/29/2022 23:53:16,10/29/...</td>\n",
       "    </tr>\n",
       "    <tr>\n",
       "      <th>65</th>\n",
       "      <td>U035T2JTPC2</td>\n",
       "      <td>11/2/2022 13:51:38</td>\n",
       "      <td>11/2/2022 3:42:10,11/2/2022 3:45:20</td>\n",
       "    </tr>\n",
       "    <tr>\n",
       "      <th>80</th>\n",
       "      <td>U035T2JTPC2</td>\n",
       "      <td>11/3/2022 23:33:32</td>\n",
       "      <td>11/3/2022 22:28:10,11/3/2022 22:29:25</td>\n",
       "    </tr>\n",
       "    <tr>\n",
       "      <th>81</th>\n",
       "      <td>U035T2JTPC2</td>\n",
       "      <td>11/4/2022 3:25:28</td>\n",
       "      <td>11/3/2022 22:28:10,11/3/2022 22:29:25</td>\n",
       "    </tr>\n",
       "    <tr>\n",
       "      <th>100</th>\n",
       "      <td>U035YA2SV4N</td>\n",
       "      <td>11/8/2022 19:58:51</td>\n",
       "      <td>11/7/2022 16:59:27,11/7/2022 17:01:38</td>\n",
       "    </tr>\n",
       "    <tr>\n",
       "      <th>101</th>\n",
       "      <td>U037GJJHKNZ</td>\n",
       "      <td>11/11/2022 2:50:09</td>\n",
       "      <td>11/10/2022 22:34:28,11/10/2022 22:34:56</td>\n",
       "    </tr>\n",
       "    <tr>\n",
       "      <th>166</th>\n",
       "      <td>U03T95TLQMC</td>\n",
       "      <td>11/8/2022 21:06:03</td>\n",
       "      <td>11/8/2022 21:05:25,11/8/2022 21:05:32,11/8/202...</td>\n",
       "    </tr>\n",
       "    <tr>\n",
       "      <th>194</th>\n",
       "      <td>U041K795UFN</td>\n",
       "      <td>11/8/2022 20:36:10</td>\n",
       "      <td>11/8/2022 20:08:45,11/8/2022 20:13:24</td>\n",
       "    </tr>\n",
       "    <tr>\n",
       "      <th>195</th>\n",
       "      <td>U041K795UFN</td>\n",
       "      <td>11/9/2022 15:18:09</td>\n",
       "      <td>11/8/2022 20:08:45,11/8/2022 20:13:24</td>\n",
       "    </tr>\n",
       "    <tr>\n",
       "      <th>271</th>\n",
       "      <td>U042CQ76T4Z</td>\n",
       "      <td>10/30/2022 1:30:49</td>\n",
       "      <td>10/29/2022 19:56:15,10/29/2022 19:56:45</td>\n",
       "    </tr>\n",
       "    <tr>\n",
       "      <th>312</th>\n",
       "      <td>U0479360EER</td>\n",
       "      <td>11/2/2022 6:39:51</td>\n",
       "      <td>11/2/2022 3:42:10,11/2/2022 3:45:20</td>\n",
       "    </tr>\n",
       "    <tr>\n",
       "      <th>314</th>\n",
       "      <td>U0486J2AN4R</td>\n",
       "      <td>10/30/2022 0:00:28</td>\n",
       "      <td>10/29/2022 23:52:40,10/29/2022 23:53:16,10/29/...</td>\n",
       "    </tr>\n",
       "    <tr>\n",
       "      <th>315</th>\n",
       "      <td>U0486J2AN4R</td>\n",
       "      <td>11/3/2022 1:34:15</td>\n",
       "      <td>11/2/2022 3:42:10,11/2/2022 3:45:20</td>\n",
       "    </tr>\n",
       "    <tr>\n",
       "      <th>329</th>\n",
       "      <td>U049B2FT4AG</td>\n",
       "      <td>11/4/2022 0:32:12</td>\n",
       "      <td>11/3/2022 22:28:10,11/3/2022 22:29:25</td>\n",
       "    </tr>\n",
       "    <tr>\n",
       "      <th>336</th>\n",
       "      <td>U04A6KV066M</td>\n",
       "      <td>11/8/2022 20:42:05</td>\n",
       "      <td>11/8/2022 20:08:45,11/8/2022 20:13:24</td>\n",
       "    </tr>\n",
       "    <tr>\n",
       "      <th>363</th>\n",
       "      <td>UU409472Q</td>\n",
       "      <td>11/11/2022 0:32:33</td>\n",
       "      <td>11/10/2022 22:34:28,11/10/2022 22:34:56</td>\n",
       "    </tr>\n",
       "  </tbody>\n",
       "</table>\n",
       "</div>"
      ],
      "text/plain": [
       "         User_ID         Timestamp_id  \\\n",
       "37   U02TNKBLUGY   11/9/2022 15:42:58   \n",
       "41   U02VD5L7J1W  10/29/2022 23:57:41   \n",
       "65   U035T2JTPC2   11/2/2022 13:51:38   \n",
       "80   U035T2JTPC2   11/3/2022 23:33:32   \n",
       "81   U035T2JTPC2    11/4/2022 3:25:28   \n",
       "100  U035YA2SV4N   11/8/2022 19:58:51   \n",
       "101  U037GJJHKNZ   11/11/2022 2:50:09   \n",
       "166  U03T95TLQMC   11/8/2022 21:06:03   \n",
       "194  U041K795UFN   11/8/2022 20:36:10   \n",
       "195  U041K795UFN   11/9/2022 15:18:09   \n",
       "271  U042CQ76T4Z   10/30/2022 1:30:49   \n",
       "312  U0479360EER    11/2/2022 6:39:51   \n",
       "314  U0486J2AN4R   10/30/2022 0:00:28   \n",
       "315  U0486J2AN4R    11/3/2022 1:34:15   \n",
       "329  U049B2FT4AG    11/4/2022 0:32:12   \n",
       "336  U04A6KV066M   11/8/2022 20:42:05   \n",
       "363    UU409472Q   11/11/2022 0:32:33   \n",
       "\n",
       "                                    Timestamp_Question  \n",
       "37               11/9/2022 15:38:15,11/9/2022 15:41:12  \n",
       "41   10/29/2022 23:52:40,10/29/2022 23:53:16,10/29/...  \n",
       "65                 11/2/2022 3:42:10,11/2/2022 3:45:20  \n",
       "80               11/3/2022 22:28:10,11/3/2022 22:29:25  \n",
       "81               11/3/2022 22:28:10,11/3/2022 22:29:25  \n",
       "100              11/7/2022 16:59:27,11/7/2022 17:01:38  \n",
       "101            11/10/2022 22:34:28,11/10/2022 22:34:56  \n",
       "166  11/8/2022 21:05:25,11/8/2022 21:05:32,11/8/202...  \n",
       "194              11/8/2022 20:08:45,11/8/2022 20:13:24  \n",
       "195              11/8/2022 20:08:45,11/8/2022 20:13:24  \n",
       "271            10/29/2022 19:56:15,10/29/2022 19:56:45  \n",
       "312                11/2/2022 3:42:10,11/2/2022 3:45:20  \n",
       "314  10/29/2022 23:52:40,10/29/2022 23:53:16,10/29/...  \n",
       "315                11/2/2022 3:42:10,11/2/2022 3:45:20  \n",
       "329              11/3/2022 22:28:10,11/3/2022 22:29:25  \n",
       "336              11/8/2022 20:08:45,11/8/2022 20:13:24  \n",
       "363            11/10/2022 22:34:28,11/10/2022 22:34:56  "
      ]
     },
     "execution_count": 92,
     "metadata": {},
     "output_type": "execute_result"
    }
   ],
   "source": [
    "#verifying it worked\n",
    "df_answers[df_answers['Timestamp_Question'].str.len()>20][['User_ID','Timestamp_id','Timestamp_Question']]"
   ]
  },
  {
   "cell_type": "code",
   "execution_count": null,
   "id": "ca7dc45a",
   "metadata": {},
   "outputs": [],
   "source": [
    "#Saving to csv\n",
    "\n",
    "df_questions.to_csv('../output/questions.csv')\n",
    "\n",
    "df_answers.to_csv('../output/answers.csv')"
   ]
  }
 ],
 "metadata": {
  "kernelspec": {
   "display_name": "Python 3",
   "language": "python",
   "name": "python3"
  },
  "language_info": {
   "codemirror_mode": {
    "name": "ipython",
    "version": 3
   },
   "file_extension": ".py",
   "mimetype": "text/x-python",
   "name": "python",
   "nbconvert_exporter": "python",
   "pygments_lexer": "ipython3",
   "version": "3.8.13"
  },
  "vscode": {
   "interpreter": {
    "hash": "9ac03a0a6051494cc606d484d27d20fce22fb7b4d169f583271e11d5ba46a56e"
   }
  }
 },
 "nbformat": 4,
 "nbformat_minor": 5
}
