{
 "cells": [
  {
   "cell_type": "markdown",
   "id": "75c6fedd",
   "metadata": {},
   "source": [
    "# Cleaning Public Support data"
   ]
  },
  {
   "cell_type": "markdown",
   "id": "85701093",
   "metadata": {},
   "source": [
    "## Importing necessary libraries"
   ]
  },
  {
   "cell_type": "code",
   "execution_count": 1,
   "id": "ce727954",
   "metadata": {},
   "outputs": [
    {
     "name": "stdout",
     "output_type": "stream",
     "text": [
      "Collecting pandas\n",
      "  Downloading pandas-1.5.2-cp38-cp38-manylinux_2_17_x86_64.manylinux2014_x86_64.whl (12.2 MB)\n",
      "\u001b[2K     \u001b[90m━━━━━━━━━━━━━━━━━━━━━━━━━━━━━━━━━━━━━━━━\u001b[0m \u001b[32m12.2/12.2 MB\u001b[0m \u001b[31m95.6 MB/s\u001b[0m eta \u001b[36m0:00:00\u001b[0m00:01\u001b[0m0:01\u001b[0m\n",
      "\u001b[?25hCollecting matplotlib\n",
      "  Downloading matplotlib-3.6.2-cp38-cp38-manylinux_2_12_x86_64.manylinux2010_x86_64.whl (9.4 MB)\n",
      "\u001b[2K     \u001b[90m━━━━━━━━━━━━━━━━━━━━━━━━━━━━━━━━━━━━━━━━\u001b[0m \u001b[32m9.4/9.4 MB\u001b[0m \u001b[31m124.2 MB/s\u001b[0m eta \u001b[36m0:00:00\u001b[0m00:01\u001b[0m00:01\u001b[0m\n",
      "\u001b[?25hCollecting seaborn\n",
      "  Downloading seaborn-0.12.1-py3-none-any.whl (288 kB)\n",
      "\u001b[2K     \u001b[90m━━━━━━━━━━━━━━━━━━━━━━━━━━━━━━━━━━━━━━\u001b[0m \u001b[32m288.2/288.2 kB\u001b[0m \u001b[31m36.4 MB/s\u001b[0m eta \u001b[36m0:00:00\u001b[0m\n",
      "\u001b[?25hCollecting wordcloud\n",
      "  Downloading wordcloud-1.8.2.2-cp38-cp38-manylinux_2_17_x86_64.manylinux2014_x86_64.whl (458 kB)\n",
      "\u001b[2K     \u001b[90m━━━━━━━━━━━━━━━━━━━━━━━━━━━━━━━━━━━━━━\u001b[0m \u001b[32m459.0/459.0 kB\u001b[0m \u001b[31m40.6 MB/s\u001b[0m eta \u001b[36m0:00:00\u001b[0m\n",
      "\u001b[?25hRequirement already satisfied: python-dateutil>=2.8.1 in /home/gitpod/.pyenv/versions/3.8.13/lib/python3.8/site-packages (from pandas) (2.8.2)\n",
      "Collecting numpy>=1.20.3\n",
      "  Downloading numpy-1.23.5-cp38-cp38-manylinux_2_17_x86_64.manylinux2014_x86_64.whl (17.1 MB)\n",
      "\u001b[2K     \u001b[90m━━━━━━━━━━━━━━━━━━━━━━━━━━━━━━━━━━━━━━━\u001b[0m \u001b[32m17.1/17.1 MB\u001b[0m \u001b[31m105.4 MB/s\u001b[0m eta \u001b[36m0:00:00\u001b[0m00:01\u001b[0m00:01\u001b[0m\n",
      "\u001b[?25hCollecting pytz>=2020.1\n",
      "  Downloading pytz-2022.6-py2.py3-none-any.whl (498 kB)\n",
      "\u001b[2K     \u001b[90m━━━━━━━━━━━━━━━━━━━━━━━━━━━━━━━━━━━━━━\u001b[0m \u001b[32m498.1/498.1 kB\u001b[0m \u001b[31m40.9 MB/s\u001b[0m eta \u001b[36m0:00:00\u001b[0m\n",
      "\u001b[?25hCollecting contourpy>=1.0.1\n",
      "  Downloading contourpy-1.0.6-cp38-cp38-manylinux_2_17_x86_64.manylinux2014_x86_64.whl (295 kB)\n",
      "\u001b[2K     \u001b[90m━━━━━━━━━━━━━━━━━━━━━━━━━━━━━━━━━━━━━━\u001b[0m \u001b[32m296.0/296.0 kB\u001b[0m \u001b[31m43.0 MB/s\u001b[0m eta \u001b[36m0:00:00\u001b[0m\n",
      "\u001b[?25hRequirement already satisfied: packaging>=20.0 in /home/gitpod/.pyenv/versions/3.8.13/lib/python3.8/site-packages (from matplotlib) (21.3)\n",
      "Collecting kiwisolver>=1.0.1\n",
      "  Downloading kiwisolver-1.4.4-cp38-cp38-manylinux_2_5_x86_64.manylinux1_x86_64.whl (1.2 MB)\n",
      "\u001b[2K     \u001b[90m━━━━━━━━━━━━━━━━━━━━━━━━━━━━━━━━━━━━━━━━\u001b[0m \u001b[32m1.2/1.2 MB\u001b[0m \u001b[31m85.4 MB/s\u001b[0m eta \u001b[36m0:00:00\u001b[0m\n",
      "\u001b[?25hCollecting pillow>=6.2.0\n",
      "  Downloading Pillow-9.3.0-cp38-cp38-manylinux_2_28_x86_64.whl (3.3 MB)\n",
      "\u001b[2K     \u001b[90m━━━━━━━━━━━━━━━━━━━━━━━━━━━━━━━━━━━━━━━━\u001b[0m \u001b[32m3.3/3.3 MB\u001b[0m \u001b[31m124.9 MB/s\u001b[0m eta \u001b[36m0:00:00\u001b[0m\n",
      "\u001b[?25hCollecting fonttools>=4.22.0\n",
      "  Downloading fonttools-4.38.0-py3-none-any.whl (965 kB)\n",
      "\u001b[2K     \u001b[90m━━━━━━━━━━━━━━━━━━━━━━━━━━━━━━━━━━━━━━\u001b[0m \u001b[32m965.4/965.4 kB\u001b[0m \u001b[31m76.4 MB/s\u001b[0m eta \u001b[36m0:00:00\u001b[0m\n",
      "\u001b[?25hRequirement already satisfied: pyparsing>=2.2.1 in /home/gitpod/.pyenv/versions/3.8.13/lib/python3.8/site-packages (from matplotlib) (3.0.9)\n",
      "Collecting cycler>=0.10\n",
      "  Downloading cycler-0.11.0-py3-none-any.whl (6.4 kB)\n",
      "Requirement already satisfied: six>=1.5 in /home/gitpod/.pyenv/versions/3.8.13/lib/python3.8/site-packages (from python-dateutil>=2.8.1->pandas) (1.16.0)\n",
      "Installing collected packages: pytz, pillow, numpy, kiwisolver, fonttools, cycler, pandas, contourpy, matplotlib, wordcloud, seaborn\n",
      "Successfully installed contourpy-1.0.6 cycler-0.11.0 fonttools-4.38.0 kiwisolver-1.4.4 matplotlib-3.6.2 numpy-1.23.5 pandas-1.5.2 pillow-9.3.0 pytz-2022.6 seaborn-0.12.1 wordcloud-1.8.2.2\n",
      "\n",
      "\u001b[1m[\u001b[0m\u001b[34;49mnotice\u001b[0m\u001b[1;39;49m]\u001b[0m\u001b[39;49m A new release of pip available: \u001b[0m\u001b[31;49m22.2.2\u001b[0m\u001b[39;49m -> \u001b[0m\u001b[32;49m22.3.1\u001b[0m\n",
      "\u001b[1m[\u001b[0m\u001b[34;49mnotice\u001b[0m\u001b[1;39;49m]\u001b[0m\u001b[39;49m To update, run: \u001b[0m\u001b[32;49mpip install --upgrade pip\u001b[0m\n",
      "Note: you may need to restart the kernel to use updated packages.\n"
     ]
    }
   ],
   "source": [
    "pip install pandas matplotlib seaborn wordcloud"
   ]
  },
  {
   "cell_type": "code",
   "execution_count": 2,
   "id": "35fcfef8",
   "metadata": {},
   "outputs": [],
   "source": [
    "import pandas as pd\n",
    "import numpy as np\n",
    "import matplotlib.pyplot as plt\n",
    "import seaborn as sns\n",
    "from datetime import datetime,date, timedelta"
   ]
  },
  {
   "cell_type": "markdown",
   "id": "082e6d18",
   "metadata": {},
   "source": [
    "## Loading the data"
   ]
  },
  {
   "cell_type": "code",
   "execution_count": 3,
   "id": "bcc40632",
   "metadata": {},
   "outputs": [],
   "source": [
    "slack = pd.read_csv('../sources/support-channels.csv')\n"
   ]
  },
  {
   "cell_type": "markdown",
   "id": "15b8f817",
   "metadata": {},
   "source": [
    "## Discover"
   ]
  },
  {
   "cell_type": "code",
   "execution_count": 4,
   "id": "a8a4c433",
   "metadata": {},
   "outputs": [
    {
     "name": "stdout",
     "output_type": "stream",
     "text": [
      "Shape of slack dataframe before cleaning: (481, 14)\n"
     ]
    }
   ],
   "source": [
    "print('Shape of slack dataframe before cleaning:', slack.shape)"
   ]
  },
  {
   "cell_type": "code",
   "execution_count": 5,
   "id": "665b5ba9",
   "metadata": {},
   "outputs": [
    {
     "name": "stdout",
     "output_type": "stream",
     "text": [
      "<class 'pandas.core.frame.DataFrame'>\n",
      "RangeIndex: 481 entries, 0 to 480\n",
      "Data columns (total 14 columns):\n",
      " #   Column            Non-Null Count  Dtype \n",
      "---  ------            --------------  ----- \n",
      " 0   Channel_ID        481 non-null    object\n",
      " 1   Channel_Slug      481 non-null    object\n",
      " 2   Timestamp         481 non-null    object\n",
      " 3   Timestamp_Thread  368 non-null    object\n",
      " 4   User_ID           481 non-null    object\n",
      " 5   Full_Name         470 non-null    object\n",
      " 6   Email             481 non-null    object\n",
      " 7   Permalink         481 non-null    object\n",
      " 8   Text              481 non-null    object\n",
      " 9   Text_raw          481 non-null    object\n",
      " 10  Slack_username    481 non-null    object\n",
      " 11  Team_ID           481 non-null    object\n",
      " 12  Team_Name         481 non-null    object\n",
      " 13  Is_Bot            481 non-null    bool  \n",
      "dtypes: bool(1), object(13)\n",
      "memory usage: 49.4+ KB\n"
     ]
    }
   ],
   "source": [
    "slack.info()"
   ]
  },
  {
   "cell_type": "markdown",
   "id": "bf545910",
   "metadata": {},
   "source": [
    "**Creating 2 new columns**"
   ]
  },
  {
   "cell_type": "code",
   "execution_count": 6,
   "id": "a830e29b",
   "metadata": {},
   "outputs": [],
   "source": [
    "slack['Is_a_question'] = np.where(slack['Timestamp_Thread'].isnull(), 1, 0)"
   ]
  },
  {
   "cell_type": "code",
   "execution_count": 7,
   "id": "ad94ed98",
   "metadata": {},
   "outputs": [],
   "source": [
    "support_agents = ['1','5301']\n",
    "\n",
    "slack['Is_agent'] = np.where(slack['User_ID'].isin(support_agents), 1, 0)"
   ]
  },
  {
   "cell_type": "markdown",
   "id": "79e9f6a5",
   "metadata": {},
   "source": [
    "**Encoding necessary columns**"
   ]
  },
  {
   "cell_type": "code",
   "execution_count": 8,
   "id": "35bde503",
   "metadata": {},
   "outputs": [],
   "source": [
    "slack['Is_Bot'] = np.where(slack['Is_Bot'] == True, 1, 0)"
   ]
  },
  {
   "cell_type": "markdown",
   "id": "3ac360d0",
   "metadata": {},
   "source": [
    "**Converting timestamp columns**"
   ]
  },
  {
   "cell_type": "code",
   "execution_count": 9,
   "id": "f95f12da",
   "metadata": {},
   "outputs": [],
   "source": [
    "slack['Datetime'] = pd.to_datetime(slack['Timestamp'])\n",
    "slack['Datetime_Thread'] = pd.to_datetime(slack['Timestamp_Thread'])"
   ]
  },
  {
   "cell_type": "markdown",
   "id": "90c02532",
   "metadata": {},
   "source": [
    "**Creating 2 dataframes: questions and answers**"
   ]
  },
  {
   "cell_type": "code",
   "execution_count": 10,
   "id": "d5885f8d",
   "metadata": {},
   "outputs": [],
   "source": [
    "questions_df = slack[slack['Is_a_question'] == 1]\n",
    "answers_df = slack[slack['Is_a_question'] == 0]"
   ]
  },
  {
   "cell_type": "markdown",
   "id": "9981c204",
   "metadata": {},
   "source": [
    "**Working on Answers dataframe**"
   ]
  },
  {
   "cell_type": "code",
   "execution_count": 11,
   "id": "7154600a",
   "metadata": {},
   "outputs": [],
   "source": [
    "answers = answers_df.groupby(['User_ID','Datetime'])[['Text']]"
   ]
  },
  {
   "cell_type": "code",
   "execution_count": 12,
   "id": "2270b157",
   "metadata": {},
   "outputs": [],
   "source": [
    "df2 = pd.DataFrame(answers.sum().reset_index())"
   ]
  },
  {
   "cell_type": "code",
   "execution_count": 13,
   "id": "09347ef5",
   "metadata": {},
   "outputs": [
    {
     "data": {
      "text/html": [
       "<div>\n",
       "<style scoped>\n",
       "    .dataframe tbody tr th:only-of-type {\n",
       "        vertical-align: middle;\n",
       "    }\n",
       "\n",
       "    .dataframe tbody tr th {\n",
       "        vertical-align: top;\n",
       "    }\n",
       "\n",
       "    .dataframe thead th {\n",
       "        text-align: right;\n",
       "    }\n",
       "</style>\n",
       "<table border=\"1\" class=\"dataframe\">\n",
       "  <thead>\n",
       "    <tr style=\"text-align: right;\">\n",
       "      <th></th>\n",
       "      <th>User_ID</th>\n",
       "      <th>Datetime</th>\n",
       "      <th>Text</th>\n",
       "    </tr>\n",
       "  </thead>\n",
       "  <tbody>\n",
       "    <tr>\n",
       "      <th>0</th>\n",
       "      <td>U01KGAER1TM</td>\n",
       "      <td>2022-11-04 17:02:51</td>\n",
       "      <td>No se quiere usar un tercero para las fotos</td>\n",
       "    </tr>\n",
       "    <tr>\n",
       "      <th>1</th>\n",
       "      <td>U01KGAER1TM</td>\n",
       "      <td>2022-11-04 17:04:57</td>\n",
       "      <td>digamos que son imagenes de usuarios en donde ...</td>\n",
       "    </tr>\n",
       "    <tr>\n",
       "      <th>2</th>\n",
       "      <td>U01KGAER1TM</td>\n",
       "      <td>2022-11-04 17:05:02</td>\n",
       "      <td>comentarios y likes</td>\n",
       "    </tr>\n",
       "    <tr>\n",
       "      <th>3</th>\n",
       "      <td>U01KGAER1TM</td>\n",
       "      <td>2022-11-04 17:06:30</td>\n",
       "      <td>y la base de datos no solo contiene las imagen...</td>\n",
       "    </tr>\n",
       "    <tr>\n",
       "      <th>4</th>\n",
       "      <td>U01KGAER1TM</td>\n",
       "      <td>2022-11-04 17:26:59</td>\n",
       "      <td>https://isn365.com/</td>\n",
       "    </tr>\n",
       "  </tbody>\n",
       "</table>\n",
       "</div>"
      ],
      "text/plain": [
       "       User_ID            Datetime  \\\n",
       "0  U01KGAER1TM 2022-11-04 17:02:51   \n",
       "1  U01KGAER1TM 2022-11-04 17:04:57   \n",
       "2  U01KGAER1TM 2022-11-04 17:05:02   \n",
       "3  U01KGAER1TM 2022-11-04 17:06:30   \n",
       "4  U01KGAER1TM 2022-11-04 17:26:59   \n",
       "\n",
       "                                                Text  \n",
       "0        No se quiere usar un tercero para las fotos  \n",
       "1  digamos que son imagenes de usuarios en donde ...  \n",
       "2                                comentarios y likes  \n",
       "3  y la base de datos no solo contiene las imagen...  \n",
       "4                                https://isn365.com/  "
      ]
     },
     "execution_count": 13,
     "metadata": {},
     "output_type": "execute_result"
    }
   ],
   "source": [
    "df2.head()"
   ]
  },
  {
   "cell_type": "code",
   "execution_count": 14,
   "id": "24040f57",
   "metadata": {},
   "outputs": [],
   "source": [
    "df2['Diff_in_Seconds'] = (df2.sort_values('Datetime').groupby('User_ID').Datetime.diff())"
   ]
  },
  {
   "cell_type": "code",
   "execution_count": 15,
   "id": "0f4c581a",
   "metadata": {},
   "outputs": [],
   "source": [
    "df2['Diff_in_Seconds'] = df2['Diff_in_Seconds'].fillna(pd.Timedelta(seconds=0))"
   ]
  },
  {
   "cell_type": "code",
   "execution_count": 16,
   "id": "d548992d",
   "metadata": {},
   "outputs": [],
   "source": [
    "df2['Diff_in_Seconds'] = df2['Diff_in_Seconds']/np.timedelta64(1,'s')"
   ]
  },
  {
   "cell_type": "code",
   "execution_count": 17,
   "id": "d3b83b6b",
   "metadata": {},
   "outputs": [],
   "source": [
    "df2['diff_abs'] = df2.Diff_in_Seconds.abs()"
   ]
  },
  {
   "cell_type": "code",
   "execution_count": 18,
   "id": "904d55a3",
   "metadata": {},
   "outputs": [],
   "source": [
    "df2['same_author'] = df2['User_ID'].ne(df2['User_ID'].shift().bfill()).astype(int)"
   ]
  },
  {
   "cell_type": "code",
   "execution_count": 19,
   "id": "a03117b2",
   "metadata": {},
   "outputs": [
    {
     "name": "stderr",
     "output_type": "stream",
     "text": [
      "/tmp/ipykernel_1041/1116082507.py:2: FutureWarning: In a future version of pandas, a length 1 tuple will be returned when iterating over a groupby with a grouper equal to a list of length 1. Don't supply a list with a single grouper to avoid this warning.\n",
      "  for group in df.groupby(['User_ID']):\n"
     ]
    },
    {
     "data": {
      "text/html": [
       "<div>\n",
       "<style scoped>\n",
       "    .dataframe tbody tr th:only-of-type {\n",
       "        vertical-align: middle;\n",
       "    }\n",
       "\n",
       "    .dataframe tbody tr th {\n",
       "        vertical-align: top;\n",
       "    }\n",
       "\n",
       "    .dataframe thead th {\n",
       "        text-align: right;\n",
       "    }\n",
       "</style>\n",
       "<table border=\"1\" class=\"dataframe\">\n",
       "  <thead>\n",
       "    <tr style=\"text-align: right;\">\n",
       "      <th></th>\n",
       "      <th>User_ID</th>\n",
       "      <th>Datetime</th>\n",
       "      <th>Text</th>\n",
       "      <th>Diff_in_Seconds</th>\n",
       "      <th>diff_abs</th>\n",
       "      <th>same_author</th>\n",
       "      <th>messageId</th>\n",
       "    </tr>\n",
       "  </thead>\n",
       "  <tbody>\n",
       "    <tr>\n",
       "      <th>0</th>\n",
       "      <td>U01KGAER1TM</td>\n",
       "      <td>2022-11-04 17:02:51</td>\n",
       "      <td>No se quiere usar un tercero para las fotos</td>\n",
       "      <td>0.0</td>\n",
       "      <td>0.0</td>\n",
       "      <td>0</td>\n",
       "      <td>1</td>\n",
       "    </tr>\n",
       "    <tr>\n",
       "      <th>1</th>\n",
       "      <td>U01KGAER1TM</td>\n",
       "      <td>2022-11-04 17:04:57</td>\n",
       "      <td>digamos que son imagenes de usuarios en donde ...</td>\n",
       "      <td>126.0</td>\n",
       "      <td>126.0</td>\n",
       "      <td>0</td>\n",
       "      <td>1</td>\n",
       "    </tr>\n",
       "    <tr>\n",
       "      <th>2</th>\n",
       "      <td>U01KGAER1TM</td>\n",
       "      <td>2022-11-04 17:05:02</td>\n",
       "      <td>comentarios y likes</td>\n",
       "      <td>5.0</td>\n",
       "      <td>5.0</td>\n",
       "      <td>0</td>\n",
       "      <td>1</td>\n",
       "    </tr>\n",
       "    <tr>\n",
       "      <th>3</th>\n",
       "      <td>U01KGAER1TM</td>\n",
       "      <td>2022-11-04 17:06:30</td>\n",
       "      <td>y la base de datos no solo contiene las imagen...</td>\n",
       "      <td>88.0</td>\n",
       "      <td>88.0</td>\n",
       "      <td>0</td>\n",
       "      <td>1</td>\n",
       "    </tr>\n",
       "    <tr>\n",
       "      <th>4</th>\n",
       "      <td>U01KGAER1TM</td>\n",
       "      <td>2022-11-04 17:26:59</td>\n",
       "      <td>https://isn365.com/</td>\n",
       "      <td>1229.0</td>\n",
       "      <td>1229.0</td>\n",
       "      <td>0</td>\n",
       "      <td>2</td>\n",
       "    </tr>\n",
       "    <tr>\n",
       "      <th>...</th>\n",
       "      <td>...</td>\n",
       "      <td>...</td>\n",
       "      <td>...</td>\n",
       "      <td>...</td>\n",
       "      <td>...</td>\n",
       "      <td>...</td>\n",
       "      <td>...</td>\n",
       "    </tr>\n",
       "    <tr>\n",
       "      <th>363</th>\n",
       "      <td>UU409472Q</td>\n",
       "      <td>2022-11-11 00:32:33</td>\n",
       "      <td>No te preocupes no es algo que afecte</td>\n",
       "      <td>632178.0</td>\n",
       "      <td>632178.0</td>\n",
       "      <td>0</td>\n",
       "      <td>190</td>\n",
       "    </tr>\n",
       "    <tr>\n",
       "      <th>364</th>\n",
       "      <td>UU409472Q</td>\n",
       "      <td>2022-11-11 01:48:09</td>\n",
       "      <td>https://www.notion.so/4geeksacademy/How-to-del...</td>\n",
       "      <td>4536.0</td>\n",
       "      <td>4536.0</td>\n",
       "      <td>0</td>\n",
       "      <td>191</td>\n",
       "    </tr>\n",
       "    <tr>\n",
       "      <th>365</th>\n",
       "      <td>UU409472Q</td>\n",
       "      <td>2022-11-11 14:33:32</td>\n",
       "      <td>Meri , sigue estos pasos https://www.notion.so...</td>\n",
       "      <td>45923.0</td>\n",
       "      <td>45923.0</td>\n",
       "      <td>0</td>\n",
       "      <td>192</td>\n",
       "    </tr>\n",
       "    <tr>\n",
       "      <th>366</th>\n",
       "      <td>UU409472Q</td>\n",
       "      <td>2022-11-11 15:27:50</td>\n",
       "      <td>:anguished: intenta ir al dashboard a ver</td>\n",
       "      <td>3258.0</td>\n",
       "      <td>3258.0</td>\n",
       "      <td>0</td>\n",
       "      <td>193</td>\n",
       "    </tr>\n",
       "    <tr>\n",
       "      <th>367</th>\n",
       "      <td>UU409472Q</td>\n",
       "      <td>2022-11-11 15:27:56</td>\n",
       "      <td>http://gitpod.iogitpod.io&gt; directamente</td>\n",
       "      <td>6.0</td>\n",
       "      <td>6.0</td>\n",
       "      <td>0</td>\n",
       "      <td>193</td>\n",
       "    </tr>\n",
       "  </tbody>\n",
       "</table>\n",
       "<p>368 rows × 7 columns</p>\n",
       "</div>"
      ],
      "text/plain": [
       "         User_ID            Datetime  \\\n",
       "0    U01KGAER1TM 2022-11-04 17:02:51   \n",
       "1    U01KGAER1TM 2022-11-04 17:04:57   \n",
       "2    U01KGAER1TM 2022-11-04 17:05:02   \n",
       "3    U01KGAER1TM 2022-11-04 17:06:30   \n",
       "4    U01KGAER1TM 2022-11-04 17:26:59   \n",
       "..           ...                 ...   \n",
       "363    UU409472Q 2022-11-11 00:32:33   \n",
       "364    UU409472Q 2022-11-11 01:48:09   \n",
       "365    UU409472Q 2022-11-11 14:33:32   \n",
       "366    UU409472Q 2022-11-11 15:27:50   \n",
       "367    UU409472Q 2022-11-11 15:27:56   \n",
       "\n",
       "                                                  Text  Diff_in_Seconds  \\\n",
       "0          No se quiere usar un tercero para las fotos              0.0   \n",
       "1    digamos que son imagenes de usuarios en donde ...            126.0   \n",
       "2                                  comentarios y likes              5.0   \n",
       "3    y la base de datos no solo contiene las imagen...             88.0   \n",
       "4                                  https://isn365.com/           1229.0   \n",
       "..                                                 ...              ...   \n",
       "363              No te preocupes no es algo que afecte         632178.0   \n",
       "364  https://www.notion.so/4geeksacademy/How-to-del...           4536.0   \n",
       "365  Meri , sigue estos pasos https://www.notion.so...          45923.0   \n",
       "366          :anguished: intenta ir al dashboard a ver           3258.0   \n",
       "367            http://gitpod.iogitpod.io> directamente              6.0   \n",
       "\n",
       "     diff_abs  same_author  messageId  \n",
       "0         0.0            0          1  \n",
       "1       126.0            0          1  \n",
       "2         5.0            0          1  \n",
       "3        88.0            0          1  \n",
       "4      1229.0            0          2  \n",
       "..        ...          ...        ...  \n",
       "363  632178.0            0        190  \n",
       "364    4536.0            0        191  \n",
       "365   45923.0            0        192  \n",
       "366    3258.0            0        193  \n",
       "367       6.0            0        193  \n",
       "\n",
       "[368 rows x 7 columns]"
      ]
     },
     "execution_count": 19,
     "metadata": {},
     "output_type": "execute_result"
    }
   ],
   "source": [
    "def create_AnswerId(df):\n",
    "    for group in df.groupby(['User_ID']):\n",
    "        df['messageId'] = df.diff_abs.gt(300).cumsum() + 1 + df.same_author.cumsum()\n",
    "    return df\n",
    "create_AnswerId(df2)"
   ]
  },
  {
   "cell_type": "code",
   "execution_count": 20,
   "id": "3ffa4998",
   "metadata": {},
   "outputs": [
    {
     "data": {
      "text/plain": [
       "(368, 7)"
      ]
     },
     "execution_count": 20,
     "metadata": {},
     "output_type": "execute_result"
    }
   ],
   "source": [
    "df2.shape"
   ]
  },
  {
   "cell_type": "code",
   "execution_count": 21,
   "id": "de15474e",
   "metadata": {},
   "outputs": [
    {
     "data": {
      "text/plain": [
       "(368, 18)"
      ]
     },
     "execution_count": 21,
     "metadata": {},
     "output_type": "execute_result"
    }
   ],
   "source": [
    "answers_df.shape"
   ]
  },
  {
   "cell_type": "markdown",
   "id": "b5575007",
   "metadata": {},
   "source": [
    "**Questions dataframe**"
   ]
  },
  {
   "cell_type": "code",
   "execution_count": 22,
   "id": "a5f8b02f",
   "metadata": {},
   "outputs": [],
   "source": [
    "questions = questions_df.groupby(['User_ID','Datetime'])[['Text']]"
   ]
  },
  {
   "cell_type": "code",
   "execution_count": 23,
   "id": "4a4f7678",
   "metadata": {},
   "outputs": [],
   "source": [
    "df3 = pd.DataFrame(questions.sum().reset_index())"
   ]
  },
  {
   "cell_type": "code",
   "execution_count": 24,
   "id": "2b578e80",
   "metadata": {},
   "outputs": [
    {
     "data": {
      "text/html": [
       "<div>\n",
       "<style scoped>\n",
       "    .dataframe tbody tr th:only-of-type {\n",
       "        vertical-align: middle;\n",
       "    }\n",
       "\n",
       "    .dataframe tbody tr th {\n",
       "        vertical-align: top;\n",
       "    }\n",
       "\n",
       "    .dataframe thead th {\n",
       "        text-align: right;\n",
       "    }\n",
       "</style>\n",
       "<table border=\"1\" class=\"dataframe\">\n",
       "  <thead>\n",
       "    <tr style=\"text-align: right;\">\n",
       "      <th></th>\n",
       "      <th>User_ID</th>\n",
       "      <th>Datetime</th>\n",
       "      <th>Text</th>\n",
       "    </tr>\n",
       "  </thead>\n",
       "  <tbody>\n",
       "    <tr>\n",
       "      <th>0</th>\n",
       "      <td>U01KGAER1TM</td>\n",
       "      <td>2022-11-04 16:14:32</td>\n",
       "      <td>Como estan, tengo un problema, ocupo subir una...</td>\n",
       "    </tr>\n",
       "    <tr>\n",
       "      <th>1</th>\n",
       "      <td>U01SJ480RBR</td>\n",
       "      <td>2022-11-07 16:59:39</td>\n",
       "      <td>Hello</td>\n",
       "    </tr>\n",
       "    <tr>\n",
       "      <th>2</th>\n",
       "      <td>U01SM5J4MMG</td>\n",
       "      <td>2022-11-07 21:15:26</td>\n",
       "      <td>Buenas tardes, intenta poniendo solo git push</td>\n",
       "    </tr>\n",
       "    <tr>\n",
       "      <th>3</th>\n",
       "      <td>U02N1P8CV6W</td>\n",
       "      <td>2022-10-31 22:55:36</td>\n",
       "      <td>Hola chicos, he estado intentando llevar a pro...</td>\n",
       "    </tr>\n",
       "    <tr>\n",
       "      <th>4</th>\n",
       "      <td>U02NE11UHNC</td>\n",
       "      <td>2022-11-03 22:28:10</td>\n",
       "      <td>have someone imported custom fonts (no google ...</td>\n",
       "    </tr>\n",
       "  </tbody>\n",
       "</table>\n",
       "</div>"
      ],
      "text/plain": [
       "       User_ID            Datetime  \\\n",
       "0  U01KGAER1TM 2022-11-04 16:14:32   \n",
       "1  U01SJ480RBR 2022-11-07 16:59:39   \n",
       "2  U01SM5J4MMG 2022-11-07 21:15:26   \n",
       "3  U02N1P8CV6W 2022-10-31 22:55:36   \n",
       "4  U02NE11UHNC 2022-11-03 22:28:10   \n",
       "\n",
       "                                                Text  \n",
       "0  Como estan, tengo un problema, ocupo subir una...  \n",
       "1                                              Hello  \n",
       "2      Buenas tardes, intenta poniendo solo git push  \n",
       "3  Hola chicos, he estado intentando llevar a pro...  \n",
       "4  have someone imported custom fonts (no google ...  "
      ]
     },
     "execution_count": 24,
     "metadata": {},
     "output_type": "execute_result"
    }
   ],
   "source": [
    "df3.head()"
   ]
  },
  {
   "cell_type": "code",
   "execution_count": 25,
   "id": "0aeaad33",
   "metadata": {},
   "outputs": [
    {
     "data": {
      "text/plain": [
       "(112, 3)"
      ]
     },
     "execution_count": 25,
     "metadata": {},
     "output_type": "execute_result"
    }
   ],
   "source": [
    "df3.shape"
   ]
  },
  {
   "cell_type": "code",
   "execution_count": 26,
   "id": "5bece850",
   "metadata": {},
   "outputs": [],
   "source": [
    "df3['Diff_in_Seconds'] = (df3.sort_values('Datetime').groupby('User_ID').Datetime.diff())"
   ]
  },
  {
   "cell_type": "code",
   "execution_count": 27,
   "id": "cf50899c",
   "metadata": {},
   "outputs": [],
   "source": [
    "df3['Diff_in_Seconds'] = df3['Diff_in_Seconds'].fillna(pd.Timedelta(seconds=0))"
   ]
  },
  {
   "cell_type": "code",
   "execution_count": 28,
   "id": "51f5bb83",
   "metadata": {},
   "outputs": [],
   "source": [
    "df3['Diff_in_Seconds']=df3['Diff_in_Seconds']/np.timedelta64(1,'s')"
   ]
  },
  {
   "cell_type": "code",
   "execution_count": 29,
   "id": "3eb622c7",
   "metadata": {},
   "outputs": [],
   "source": [
    "df3['diff_abs'] = df3.Diff_in_Seconds.abs()"
   ]
  },
  {
   "cell_type": "code",
   "execution_count": 30,
   "id": "80224f66",
   "metadata": {},
   "outputs": [],
   "source": [
    "df3['same_author'] = df3['User_ID'].ne(df3['User_ID'].shift().bfill()).astype(int)"
   ]
  },
  {
   "cell_type": "code",
   "execution_count": 31,
   "id": "595c2b27",
   "metadata": {},
   "outputs": [
    {
     "name": "stderr",
     "output_type": "stream",
     "text": [
      "/tmp/ipykernel_1041/661222721.py:2: FutureWarning: In a future version of pandas, a length 1 tuple will be returned when iterating over a groupby with a grouper equal to a list of length 1. Don't supply a list with a single grouper to avoid this warning.\n",
      "  for group in df.groupby(['User_ID']):\n"
     ]
    },
    {
     "data": {
      "text/html": [
       "<div>\n",
       "<style scoped>\n",
       "    .dataframe tbody tr th:only-of-type {\n",
       "        vertical-align: middle;\n",
       "    }\n",
       "\n",
       "    .dataframe tbody tr th {\n",
       "        vertical-align: top;\n",
       "    }\n",
       "\n",
       "    .dataframe thead th {\n",
       "        text-align: right;\n",
       "    }\n",
       "</style>\n",
       "<table border=\"1\" class=\"dataframe\">\n",
       "  <thead>\n",
       "    <tr style=\"text-align: right;\">\n",
       "      <th></th>\n",
       "      <th>User_ID</th>\n",
       "      <th>Datetime</th>\n",
       "      <th>Text</th>\n",
       "      <th>Diff_in_Seconds</th>\n",
       "      <th>diff_abs</th>\n",
       "      <th>same_author</th>\n",
       "      <th>messageId</th>\n",
       "    </tr>\n",
       "  </thead>\n",
       "  <tbody>\n",
       "    <tr>\n",
       "      <th>0</th>\n",
       "      <td>U01KGAER1TM</td>\n",
       "      <td>2022-11-04 16:14:32</td>\n",
       "      <td>Como estan, tengo un problema, ocupo subir una...</td>\n",
       "      <td>0.0</td>\n",
       "      <td>0.0</td>\n",
       "      <td>0</td>\n",
       "      <td>1</td>\n",
       "    </tr>\n",
       "    <tr>\n",
       "      <th>1</th>\n",
       "      <td>U01SJ480RBR</td>\n",
       "      <td>2022-11-07 16:59:39</td>\n",
       "      <td>Hello</td>\n",
       "      <td>0.0</td>\n",
       "      <td>0.0</td>\n",
       "      <td>1</td>\n",
       "      <td>2</td>\n",
       "    </tr>\n",
       "    <tr>\n",
       "      <th>2</th>\n",
       "      <td>U01SM5J4MMG</td>\n",
       "      <td>2022-11-07 21:15:26</td>\n",
       "      <td>Buenas tardes, intenta poniendo solo git push</td>\n",
       "      <td>0.0</td>\n",
       "      <td>0.0</td>\n",
       "      <td>1</td>\n",
       "      <td>3</td>\n",
       "    </tr>\n",
       "    <tr>\n",
       "      <th>3</th>\n",
       "      <td>U02N1P8CV6W</td>\n",
       "      <td>2022-10-31 22:55:36</td>\n",
       "      <td>Hola chicos, he estado intentando llevar a pro...</td>\n",
       "      <td>0.0</td>\n",
       "      <td>0.0</td>\n",
       "      <td>1</td>\n",
       "      <td>4</td>\n",
       "    </tr>\n",
       "    <tr>\n",
       "      <th>4</th>\n",
       "      <td>U02NE11UHNC</td>\n",
       "      <td>2022-11-03 22:28:10</td>\n",
       "      <td>have someone imported custom fonts (no google ...</td>\n",
       "      <td>0.0</td>\n",
       "      <td>0.0</td>\n",
       "      <td>1</td>\n",
       "      <td>5</td>\n",
       "    </tr>\n",
       "    <tr>\n",
       "      <th>...</th>\n",
       "      <td>...</td>\n",
       "      <td>...</td>\n",
       "      <td>...</td>\n",
       "      <td>...</td>\n",
       "      <td>...</td>\n",
       "      <td>...</td>\n",
       "      <td>...</td>\n",
       "    </tr>\n",
       "    <tr>\n",
       "      <th>107</th>\n",
       "      <td>U04A6KV066M</td>\n",
       "      <td>2022-11-08 20:08:45</td>\n",
       "      <td>Hi all,</td>\n",
       "      <td>0.0</td>\n",
       "      <td>0.0</td>\n",
       "      <td>1</td>\n",
       "      <td>89</td>\n",
       "    </tr>\n",
       "    <tr>\n",
       "      <th>108</th>\n",
       "      <td>U04A6KV066M</td>\n",
       "      <td>2022-11-08 20:13:24</td>\n",
       "      <td>Hi all. I am trying to split my view to where ...</td>\n",
       "      <td>279.0</td>\n",
       "      <td>279.0</td>\n",
       "      <td>0</td>\n",
       "      <td>89</td>\n",
       "    </tr>\n",
       "    <tr>\n",
       "      <th>109</th>\n",
       "      <td>U04A6KV066M</td>\n",
       "      <td>2022-11-08 21:58:27</td>\n",
       "      <td>Should we be doing anything with “commit” and ...</td>\n",
       "      <td>6303.0</td>\n",
       "      <td>6303.0</td>\n",
       "      <td>0</td>\n",
       "      <td>90</td>\n",
       "    </tr>\n",
       "    <tr>\n",
       "      <th>110</th>\n",
       "      <td>U6MR8LG4Q</td>\n",
       "      <td>2022-11-05 03:11:30</td>\n",
       "      <td>Hey @betomasia12 No need to make the pictures ...</td>\n",
       "      <td>0.0</td>\n",
       "      <td>0.0</td>\n",
       "      <td>1</td>\n",
       "      <td>91</td>\n",
       "    </tr>\n",
       "    <tr>\n",
       "      <th>111</th>\n",
       "      <td>UL08NNSV8</td>\n",
       "      <td>2022-11-01 18:39:22</td>\n",
       "      <td>pareciera que tienes una version de ruby muy a...</td>\n",
       "      <td>0.0</td>\n",
       "      <td>0.0</td>\n",
       "      <td>1</td>\n",
       "      <td>92</td>\n",
       "    </tr>\n",
       "  </tbody>\n",
       "</table>\n",
       "<p>112 rows × 7 columns</p>\n",
       "</div>"
      ],
      "text/plain": [
       "         User_ID            Datetime  \\\n",
       "0    U01KGAER1TM 2022-11-04 16:14:32   \n",
       "1    U01SJ480RBR 2022-11-07 16:59:39   \n",
       "2    U01SM5J4MMG 2022-11-07 21:15:26   \n",
       "3    U02N1P8CV6W 2022-10-31 22:55:36   \n",
       "4    U02NE11UHNC 2022-11-03 22:28:10   \n",
       "..           ...                 ...   \n",
       "107  U04A6KV066M 2022-11-08 20:08:45   \n",
       "108  U04A6KV066M 2022-11-08 20:13:24   \n",
       "109  U04A6KV066M 2022-11-08 21:58:27   \n",
       "110    U6MR8LG4Q 2022-11-05 03:11:30   \n",
       "111    UL08NNSV8 2022-11-01 18:39:22   \n",
       "\n",
       "                                                  Text  Diff_in_Seconds  \\\n",
       "0    Como estan, tengo un problema, ocupo subir una...              0.0   \n",
       "1                                                Hello              0.0   \n",
       "2        Buenas tardes, intenta poniendo solo git push              0.0   \n",
       "3    Hola chicos, he estado intentando llevar a pro...              0.0   \n",
       "4    have someone imported custom fonts (no google ...              0.0   \n",
       "..                                                 ...              ...   \n",
       "107                                            Hi all,              0.0   \n",
       "108  Hi all. I am trying to split my view to where ...            279.0   \n",
       "109  Should we be doing anything with “commit” and ...           6303.0   \n",
       "110  Hey @betomasia12 No need to make the pictures ...              0.0   \n",
       "111  pareciera que tienes una version de ruby muy a...              0.0   \n",
       "\n",
       "     diff_abs  same_author  messageId  \n",
       "0         0.0            0          1  \n",
       "1         0.0            1          2  \n",
       "2         0.0            1          3  \n",
       "3         0.0            1          4  \n",
       "4         0.0            1          5  \n",
       "..        ...          ...        ...  \n",
       "107       0.0            1         89  \n",
       "108     279.0            0         89  \n",
       "109    6303.0            0         90  \n",
       "110       0.0            1         91  \n",
       "111       0.0            1         92  \n",
       "\n",
       "[112 rows x 7 columns]"
      ]
     },
     "execution_count": 31,
     "metadata": {},
     "output_type": "execute_result"
    }
   ],
   "source": [
    "def create_QuestionId(df):\n",
    "    for group in df.groupby(['User_ID']):\n",
    "        df['messageId'] = df['diff_abs'].gt(300).cumsum() + 1 + df.same_author.cumsum()\n",
    "    return df\n",
    "\n",
    "create_QuestionId(df3)"
   ]
  },
  {
   "cell_type": "code",
   "execution_count": 32,
   "id": "0e5ddb95",
   "metadata": {},
   "outputs": [
    {
     "data": {
      "text/plain": [
       "(112, 7)"
      ]
     },
     "execution_count": 32,
     "metadata": {},
     "output_type": "execute_result"
    }
   ],
   "source": [
    "df3.shape"
   ]
  },
  {
   "cell_type": "code",
   "execution_count": 33,
   "id": "9199309f",
   "metadata": {},
   "outputs": [
    {
     "data": {
      "text/html": [
       "<div>\n",
       "<style scoped>\n",
       "    .dataframe tbody tr th:only-of-type {\n",
       "        vertical-align: middle;\n",
       "    }\n",
       "\n",
       "    .dataframe tbody tr th {\n",
       "        vertical-align: top;\n",
       "    }\n",
       "\n",
       "    .dataframe thead th {\n",
       "        text-align: right;\n",
       "    }\n",
       "</style>\n",
       "<table border=\"1\" class=\"dataframe\">\n",
       "  <thead>\n",
       "    <tr style=\"text-align: right;\">\n",
       "      <th></th>\n",
       "      <th>User_ID</th>\n",
       "      <th>Datetime</th>\n",
       "      <th>Text</th>\n",
       "      <th>Diff_in_Seconds</th>\n",
       "      <th>diff_abs</th>\n",
       "      <th>same_author</th>\n",
       "      <th>messageId</th>\n",
       "    </tr>\n",
       "  </thead>\n",
       "  <tbody>\n",
       "    <tr>\n",
       "      <th>0</th>\n",
       "      <td>U01KGAER1TM</td>\n",
       "      <td>2022-11-04 16:14:32</td>\n",
       "      <td>Como estan, tengo un problema, ocupo subir una...</td>\n",
       "      <td>0.0</td>\n",
       "      <td>0.0</td>\n",
       "      <td>0</td>\n",
       "      <td>1</td>\n",
       "    </tr>\n",
       "    <tr>\n",
       "      <th>1</th>\n",
       "      <td>U01SJ480RBR</td>\n",
       "      <td>2022-11-07 16:59:39</td>\n",
       "      <td>Hello</td>\n",
       "      <td>0.0</td>\n",
       "      <td>0.0</td>\n",
       "      <td>1</td>\n",
       "      <td>2</td>\n",
       "    </tr>\n",
       "    <tr>\n",
       "      <th>2</th>\n",
       "      <td>U01SM5J4MMG</td>\n",
       "      <td>2022-11-07 21:15:26</td>\n",
       "      <td>Buenas tardes, intenta poniendo solo git push</td>\n",
       "      <td>0.0</td>\n",
       "      <td>0.0</td>\n",
       "      <td>1</td>\n",
       "      <td>3</td>\n",
       "    </tr>\n",
       "    <tr>\n",
       "      <th>3</th>\n",
       "      <td>U02N1P8CV6W</td>\n",
       "      <td>2022-10-31 22:55:36</td>\n",
       "      <td>Hola chicos, he estado intentando llevar a pro...</td>\n",
       "      <td>0.0</td>\n",
       "      <td>0.0</td>\n",
       "      <td>1</td>\n",
       "      <td>4</td>\n",
       "    </tr>\n",
       "    <tr>\n",
       "      <th>4</th>\n",
       "      <td>U02NE11UHNC</td>\n",
       "      <td>2022-11-03 22:28:10</td>\n",
       "      <td>have someone imported custom fonts (no google ...</td>\n",
       "      <td>0.0</td>\n",
       "      <td>0.0</td>\n",
       "      <td>1</td>\n",
       "      <td>5</td>\n",
       "    </tr>\n",
       "  </tbody>\n",
       "</table>\n",
       "</div>"
      ],
      "text/plain": [
       "       User_ID            Datetime  \\\n",
       "0  U01KGAER1TM 2022-11-04 16:14:32   \n",
       "1  U01SJ480RBR 2022-11-07 16:59:39   \n",
       "2  U01SM5J4MMG 2022-11-07 21:15:26   \n",
       "3  U02N1P8CV6W 2022-10-31 22:55:36   \n",
       "4  U02NE11UHNC 2022-11-03 22:28:10   \n",
       "\n",
       "                                                Text  Diff_in_Seconds  \\\n",
       "0  Como estan, tengo un problema, ocupo subir una...              0.0   \n",
       "1                                              Hello              0.0   \n",
       "2      Buenas tardes, intenta poniendo solo git push              0.0   \n",
       "3  Hola chicos, he estado intentando llevar a pro...              0.0   \n",
       "4  have someone imported custom fonts (no google ...              0.0   \n",
       "\n",
       "   diff_abs  same_author  messageId  \n",
       "0       0.0            0          1  \n",
       "1       0.0            1          2  \n",
       "2       0.0            1          3  \n",
       "3       0.0            1          4  \n",
       "4       0.0            1          5  "
      ]
     },
     "execution_count": 33,
     "metadata": {},
     "output_type": "execute_result"
    }
   ],
   "source": [
    "df3.head(5)"
   ]
  },
  {
   "cell_type": "markdown",
   "id": "f93dde18",
   "metadata": {},
   "source": [
    "**Next steps**"
   ]
  },
  {
   "cell_type": "code",
   "execution_count": 34,
   "id": "1340ce05",
   "metadata": {},
   "outputs": [],
   "source": [
    "#next steps: \n",
    "# \n",
    "# 1.verify in questions_df that they match exactly with df3 (as shape has chenged by 1 row)---->randomly verify some questions\n",
    "# 2.merge df2 oand df3 to some of the columns of its previous df. (https://stackoverflow.com/questions/17978133/python-pandas-merge-only-certain-columns)\n",
    "# 3. concat text values according to this:\n",
    "# https://www.statology.org/pandas-combine-rows-with-same-column-value/\n",
    "# https://stackoverflow.com/questions/27298178/concatenate-strings-from-several-rows-using-pandas-groupby\n",
    "# 4. download both datasets and take to Looker to verify they are ok to build graphs"
   ]
  },
  {
   "cell_type": "markdown",
   "id": "7a2ff49d",
   "metadata": {},
   "source": [
    "**Merge each dataframe to its previous columns**"
   ]
  },
  {
   "cell_type": "code",
   "execution_count": 35,
   "id": "11f2d42c",
   "metadata": {},
   "outputs": [],
   "source": [
    "df2 = df2.merge(answers_df, how = 'left', left_on = ['User_ID', 'Datetime', 'Text'],\n",
    "    right_on = ['User_ID', 'Datetime', 'Text']).drop(['Diff_in_Seconds','diff_abs','same_author','Text_raw'], axis=1)"
   ]
  },
  {
   "cell_type": "code",
   "execution_count": 36,
   "id": "99d4f910",
   "metadata": {},
   "outputs": [],
   "source": [
    "df2['response_time'] = df2['Datetime'] - df2['Datetime_Thread']"
   ]
  },
  {
   "cell_type": "code",
   "execution_count": 37,
   "id": "0e7db7ad",
   "metadata": {},
   "outputs": [
    {
     "data": {
      "text/plain": [
       "(368, 19)"
      ]
     },
     "execution_count": 37,
     "metadata": {},
     "output_type": "execute_result"
    }
   ],
   "source": [
    "df2.shape"
   ]
  },
  {
   "cell_type": "code",
   "execution_count": 38,
   "id": "49f64500",
   "metadata": {},
   "outputs": [],
   "source": [
    "df3 = df3.merge(questions_df, how = 'left', left_on = ['User_ID', 'Datetime', 'Text'],\n",
    "    right_on = ['User_ID', 'Datetime', 'Text']).drop(['Diff_in_Seconds','diff_abs','same_author','Text_raw'], axis=1)"
   ]
  },
  {
   "cell_type": "code",
   "execution_count": 39,
   "id": "33823d6a",
   "metadata": {},
   "outputs": [
    {
     "data": {
      "text/plain": [
       "(112, 18)"
      ]
     },
     "execution_count": 39,
     "metadata": {},
     "output_type": "execute_result"
    }
   ],
   "source": [
    "df3.shape"
   ]
  },
  {
   "cell_type": "markdown",
   "id": "0622db25",
   "metadata": {},
   "source": [
    "**Merge text and timestamps in rows that have the same messageId**"
   ]
  },
  {
   "cell_type": "code",
   "execution_count": 40,
   "id": "e841b762",
   "metadata": {},
   "outputs": [],
   "source": [
    "df2['Text'] = df2.groupby(['messageId'])['Text'].transform(lambda x : ' '.join(x))\n",
    "df3['Text'] = df3.groupby(['messageId'])['Text'].transform(lambda x : ' '.join(x))"
   ]
  },
  {
   "cell_type": "code",
   "execution_count": 41,
   "id": "7767d088",
   "metadata": {},
   "outputs": [],
   "source": [
    "df2['Timestamp'] = df2.groupby(['messageId'])['Timestamp'].transform(lambda x : ','.join(x))\n",
    "df2['Timestamp_Thread'] = df2.groupby(['messageId'])['Timestamp_Thread'].transform(lambda x : ','.join(x))\n",
    "df3.dropna(axis=1, how='all', inplace=True)\n",
    "df3['Timestamp'] = df3.groupby(['messageId'])['Timestamp'].transform(lambda x : ','.join(map(str, x)))"
   ]
  },
  {
   "cell_type": "code",
   "execution_count": 42,
   "id": "61fa2312",
   "metadata": {},
   "outputs": [],
   "source": [
    "#rename to ids in both dataframes\n",
    "df2.rename(columns={\"Timestamp\": \"answer_id\", \"Timestamp_Thread\": \"question_id\"}, inplace=True)\n",
    "df3.rename(columns={\"Timestamp\": \"question_id\"}, inplace=True)"
   ]
  },
  {
   "cell_type": "code",
   "execution_count": 43,
   "id": "9b62c724",
   "metadata": {},
   "outputs": [],
   "source": [
    "df2 = df2.drop_duplicates(subset=[\"Text\", \"answer_id\", \"question_id\"],keep='first')\n",
    "df3 = df3.drop_duplicates(subset=[\"Text\",\"question_id\"],keep='first')"
   ]
  },
  {
   "cell_type": "code",
   "execution_count": 44,
   "id": "1211c002",
   "metadata": {},
   "outputs": [],
   "source": [
    "#create a list from df3 question_id column\n",
    "question_ids = df3['question_id'].tolist()"
   ]
  },
  {
   "cell_type": "code",
   "execution_count": null,
   "id": "56a03ff0",
   "metadata": {},
   "outputs": [],
   "source": [
    "correct_question_id = []\n",
    "\n",
    "for row in df2.itertuples(index=False):\n",
    "    if re.match(str(row.question_id), question_ids):\n",
    "    #if str(row.question_id) in question_ids:  \n",
    "        id_search = str(row.question_id)\n",
    "        id_match = list(filter(lambda x: id_search in x, question_ids))\n",
    "        correct_question_id.append(id_match)"
   ]
  },
  {
   "cell_type": "code",
   "execution_count": 45,
   "id": "55c5a15c",
   "metadata": {},
   "outputs": [],
   "source": [
    "#create a dictionary from ts?thread in answers\n",
    "#if doesnt work, create a list and use matching code\n",
    "\n",
    "#https://stackoverflow.com/questions/49902412/replace-values-in-dataframe-column-if-second-column-matches-a-given-list-pandas"
   ]
  }
 ],
 "metadata": {
  "kernelspec": {
   "display_name": "Python 3",
   "language": "python",
   "name": "python3"
  },
  "language_info": {
   "codemirror_mode": {
    "name": "ipython",
    "version": 3
   },
   "file_extension": ".py",
   "mimetype": "text/x-python",
   "name": "python",
   "nbconvert_exporter": "python",
   "pygments_lexer": "ipython3",
   "version": "3.8.13"
  },
  "vscode": {
   "interpreter": {
    "hash": "9ac03a0a6051494cc606d484d27d20fce22fb7b4d169f583271e11d5ba46a56e"
   }
  }
 },
 "nbformat": 4,
 "nbformat_minor": 5
}
