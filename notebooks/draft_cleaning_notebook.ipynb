{
 "cells": [
  {
   "cell_type": "markdown",
   "id": "75c6fedd",
   "metadata": {},
   "source": [
    "# Cleaning Public Support data"
   ]
  },
  {
   "cell_type": "markdown",
   "id": "85701093",
   "metadata": {},
   "source": [
    "## Importing necessary libraries"
   ]
  },
  {
   "cell_type": "code",
   "execution_count": 1,
   "id": "ce727954",
   "metadata": {},
   "outputs": [
    {
     "name": "stdout",
     "output_type": "stream",
     "text": [
      "Requirement already satisfied: pandas in /home/gitpod/.pyenv/versions/3.8.13/lib/python3.8/site-packages (1.5.1)\n",
      "Requirement already satisfied: matplotlib in /home/gitpod/.pyenv/versions/3.8.13/lib/python3.8/site-packages (3.6.2)\n",
      "Requirement already satisfied: seaborn in /home/gitpod/.pyenv/versions/3.8.13/lib/python3.8/site-packages (0.12.1)\n",
      "Requirement already satisfied: wordcloud in /home/gitpod/.pyenv/versions/3.8.13/lib/python3.8/site-packages (1.8.2.2)\n",
      "Requirement already satisfied: pytz>=2020.1 in /home/gitpod/.pyenv/versions/3.8.13/lib/python3.8/site-packages (from pandas) (2022.6)\n",
      "Requirement already satisfied: python-dateutil>=2.8.1 in /home/gitpod/.pyenv/versions/3.8.13/lib/python3.8/site-packages (from pandas) (2.8.2)\n",
      "Requirement already satisfied: numpy>=1.20.3 in /home/gitpod/.pyenv/versions/3.8.13/lib/python3.8/site-packages (from pandas) (1.23.4)\n",
      "Requirement already satisfied: pillow>=6.2.0 in /home/gitpod/.pyenv/versions/3.8.13/lib/python3.8/site-packages (from matplotlib) (9.3.0)\n",
      "Requirement already satisfied: packaging>=20.0 in /home/gitpod/.pyenv/versions/3.8.13/lib/python3.8/site-packages (from matplotlib) (21.3)\n",
      "Requirement already satisfied: fonttools>=4.22.0 in /home/gitpod/.pyenv/versions/3.8.13/lib/python3.8/site-packages (from matplotlib) (4.38.0)\n",
      "Requirement already satisfied: kiwisolver>=1.0.1 in /home/gitpod/.pyenv/versions/3.8.13/lib/python3.8/site-packages (from matplotlib) (1.4.4)\n",
      "Requirement already satisfied: cycler>=0.10 in /home/gitpod/.pyenv/versions/3.8.13/lib/python3.8/site-packages (from matplotlib) (0.11.0)\n",
      "Requirement already satisfied: pyparsing>=2.2.1 in /home/gitpod/.pyenv/versions/3.8.13/lib/python3.8/site-packages (from matplotlib) (3.0.9)\n",
      "Requirement already satisfied: contourpy>=1.0.1 in /home/gitpod/.pyenv/versions/3.8.13/lib/python3.8/site-packages (from matplotlib) (1.0.6)\n",
      "Requirement already satisfied: six>=1.5 in /home/gitpod/.pyenv/versions/3.8.13/lib/python3.8/site-packages (from python-dateutil>=2.8.1->pandas) (1.16.0)\n",
      "\n",
      "\u001b[1m[\u001b[0m\u001b[34;49mnotice\u001b[0m\u001b[1;39;49m]\u001b[0m\u001b[39;49m A new release of pip available: \u001b[0m\u001b[31;49m22.2.2\u001b[0m\u001b[39;49m -> \u001b[0m\u001b[32;49m22.3.1\u001b[0m\n",
      "\u001b[1m[\u001b[0m\u001b[34;49mnotice\u001b[0m\u001b[1;39;49m]\u001b[0m\u001b[39;49m To update, run: \u001b[0m\u001b[32;49mpip install --upgrade pip\u001b[0m\n",
      "Note: you may need to restart the kernel to use updated packages.\n"
     ]
    }
   ],
   "source": [
    "pip install pandas matplotlib seaborn wordcloud"
   ]
  },
  {
   "cell_type": "code",
   "execution_count": 2,
   "id": "35fcfef8",
   "metadata": {},
   "outputs": [],
   "source": [
    "import pandas as pd\n",
    "import numpy as np\n",
    "import matplotlib.pyplot as plt\n",
    "import seaborn as sns\n",
    "import datetime"
   ]
  },
  {
   "cell_type": "markdown",
   "id": "082e6d18",
   "metadata": {},
   "source": [
    "## Loading the data"
   ]
  },
  {
   "cell_type": "code",
   "execution_count": 4,
   "id": "bcc40632",
   "metadata": {},
   "outputs": [],
   "source": [
    "slack = pd.read_csv('../sources/support-channels.csv')\n"
   ]
  },
  {
   "cell_type": "markdown",
   "id": "15b8f817",
   "metadata": {},
   "source": [
    "## Discover"
   ]
  },
  {
   "cell_type": "code",
   "execution_count": 5,
   "id": "a8a4c433",
   "metadata": {},
   "outputs": [
    {
     "name": "stdout",
     "output_type": "stream",
     "text": [
      "Shape of slack dataframe before cleaning: (481, 14)\n"
     ]
    }
   ],
   "source": [
    "print('Shape of slack dataframe before cleaning:', slack.shape)"
   ]
  },
  {
   "cell_type": "code",
   "execution_count": 6,
   "id": "665b5ba9",
   "metadata": {},
   "outputs": [
    {
     "name": "stdout",
     "output_type": "stream",
     "text": [
      "<class 'pandas.core.frame.DataFrame'>\n",
      "RangeIndex: 481 entries, 0 to 480\n",
      "Data columns (total 14 columns):\n",
      " #   Column            Non-Null Count  Dtype \n",
      "---  ------            --------------  ----- \n",
      " 0   Channel_ID        481 non-null    object\n",
      " 1   Channel_Slug      481 non-null    object\n",
      " 2   Timestamp         481 non-null    object\n",
      " 3   Timestamp_Thread  368 non-null    object\n",
      " 4   User_ID           481 non-null    object\n",
      " 5   Full_Name         470 non-null    object\n",
      " 6   Email             481 non-null    object\n",
      " 7   Permalink         481 non-null    object\n",
      " 8   Text              481 non-null    object\n",
      " 9   Text_raw          481 non-null    object\n",
      " 10  Slack_username    481 non-null    object\n",
      " 11  Team_ID           481 non-null    object\n",
      " 12  Team_Name         481 non-null    object\n",
      " 13  Is_Bot            481 non-null    bool  \n",
      "dtypes: bool(1), object(13)\n",
      "memory usage: 49.4+ KB\n"
     ]
    }
   ],
   "source": [
    "slack.info()"
   ]
  },
  {
   "cell_type": "code",
   "execution_count": 7,
   "id": "5b837e09",
   "metadata": {},
   "outputs": [
    {
     "data": {
      "text/html": [
       "<div>\n",
       "<style scoped>\n",
       "    .dataframe tbody tr th:only-of-type {\n",
       "        vertical-align: middle;\n",
       "    }\n",
       "\n",
       "    .dataframe tbody tr th {\n",
       "        vertical-align: top;\n",
       "    }\n",
       "\n",
       "    .dataframe thead th {\n",
       "        text-align: right;\n",
       "    }\n",
       "</style>\n",
       "<table border=\"1\" class=\"dataframe\">\n",
       "  <thead>\n",
       "    <tr style=\"text-align: right;\">\n",
       "      <th></th>\n",
       "      <th>Channel_ID</th>\n",
       "      <th>Channel_Slug</th>\n",
       "      <th>Timestamp</th>\n",
       "      <th>Timestamp_Thread</th>\n",
       "      <th>User_ID</th>\n",
       "      <th>Full_Name</th>\n",
       "      <th>Email</th>\n",
       "      <th>Permalink</th>\n",
       "      <th>Text</th>\n",
       "      <th>Text_raw</th>\n",
       "      <th>Slack_username</th>\n",
       "      <th>Team_ID</th>\n",
       "      <th>Team_Name</th>\n",
       "      <th>Is_Bot</th>\n",
       "    </tr>\n",
       "  </thead>\n",
       "  <tbody>\n",
       "    <tr>\n",
       "      <th>0</th>\n",
       "      <td>CAZ9W99U4</td>\n",
       "      <td>public-support-full-stack</td>\n",
       "      <td>11/11/2022 15:23:37</td>\n",
       "      <td>11/11/2022 14:44:11</td>\n",
       "      <td>U0426RW6CR5</td>\n",
       "      <td>Elías Fernández</td>\n",
       "      <td>atukdibe@gmail.com</td>\n",
       "      <td>https://4geeksacademy.slack.com/archives/CAZ9W...</td>\n",
       "      <td>fijate si te lo toma solo con background:</td>\n",
       "      <td>fijate si te lo toma solo con background:</td>\n",
       "      <td>atukdibe</td>\n",
       "      <td>T0BFXMWMV</td>\n",
       "      <td>4Geeks Academy</td>\n",
       "      <td>False</td>\n",
       "    </tr>\n",
       "    <tr>\n",
       "      <th>1</th>\n",
       "      <td>CAZ9W99U4</td>\n",
       "      <td>public-support-full-stack</td>\n",
       "      <td>11/9/2022 7:52:50</td>\n",
       "      <td>NaN</td>\n",
       "      <td>U03SWDR1KTM</td>\n",
       "      <td>Jack Caldwell-Nichols</td>\n",
       "      <td>jack.wcn@gmail.com</td>\n",
       "      <td>https://4geeksacademy.slack.com/archives/CAZ9W...</td>\n",
       "      <td>Hola a todos! Socorro! Quiero eliminar los fav...</td>\n",
       "      <td>Hola a todos! Socorro! Quiero eliminar los fav...</td>\n",
       "      <td>jack.wcn</td>\n",
       "      <td>T0BFXMWMV</td>\n",
       "      <td>4Geeks Academy</td>\n",
       "      <td>False</td>\n",
       "    </tr>\n",
       "    <tr>\n",
       "      <th>2</th>\n",
       "      <td>CAZ9W99U4</td>\n",
       "      <td>public-support-full-stack</td>\n",
       "      <td>11/11/2022 16:12:26</td>\n",
       "      <td>NaN</td>\n",
       "      <td>U03A7FCVDMW</td>\n",
       "      <td>Richard Jardine</td>\n",
       "      <td>rhjardine@gmail.com</td>\n",
       "      <td>https://4geeksacademy.slack.com/archives/CAZ9W...</td>\n",
       "      <td>Hello. Please, I require guidance regarding th...</td>\n",
       "      <td>Hello. Please, I require guidance regarding th...</td>\n",
       "      <td>rhjardine</td>\n",
       "      <td>T0BFXMWMV</td>\n",
       "      <td>4Geeks Academy</td>\n",
       "      <td>False</td>\n",
       "    </tr>\n",
       "  </tbody>\n",
       "</table>\n",
       "</div>"
      ],
      "text/plain": [
       "  Channel_ID               Channel_Slug            Timestamp  \\\n",
       "0  CAZ9W99U4  public-support-full-stack  11/11/2022 15:23:37   \n",
       "1  CAZ9W99U4  public-support-full-stack    11/9/2022 7:52:50   \n",
       "2  CAZ9W99U4  public-support-full-stack  11/11/2022 16:12:26   \n",
       "\n",
       "      Timestamp_Thread      User_ID              Full_Name  \\\n",
       "0  11/11/2022 14:44:11  U0426RW6CR5        Elías Fernández   \n",
       "1                  NaN  U03SWDR1KTM  Jack Caldwell-Nichols   \n",
       "2                  NaN  U03A7FCVDMW        Richard Jardine   \n",
       "\n",
       "                 Email                                          Permalink  \\\n",
       "0   atukdibe@gmail.com  https://4geeksacademy.slack.com/archives/CAZ9W...   \n",
       "1   jack.wcn@gmail.com  https://4geeksacademy.slack.com/archives/CAZ9W...   \n",
       "2  rhjardine@gmail.com  https://4geeksacademy.slack.com/archives/CAZ9W...   \n",
       "\n",
       "                                                Text  \\\n",
       "0          fijate si te lo toma solo con background:   \n",
       "1  Hola a todos! Socorro! Quiero eliminar los fav...   \n",
       "2  Hello. Please, I require guidance regarding th...   \n",
       "\n",
       "                                            Text_raw Slack_username  \\\n",
       "0          fijate si te lo toma solo con background:       atukdibe   \n",
       "1  Hola a todos! Socorro! Quiero eliminar los fav...       jack.wcn   \n",
       "2  Hello. Please, I require guidance regarding th...      rhjardine   \n",
       "\n",
       "     Team_ID       Team_Name  Is_Bot  \n",
       "0  T0BFXMWMV  4Geeks Academy   False  \n",
       "1  T0BFXMWMV  4Geeks Academy   False  \n",
       "2  T0BFXMWMV  4Geeks Academy   False  "
      ]
     },
     "execution_count": 7,
     "metadata": {},
     "output_type": "execute_result"
    }
   ],
   "source": [
    "slack.head(3)"
   ]
  },
  {
   "cell_type": "markdown",
   "id": "2b7412c7",
   "metadata": {},
   "source": [
    "**Setting User_ID as index**"
   ]
  },
  {
   "cell_type": "code",
   "execution_count": 8,
   "id": "39af498b",
   "metadata": {},
   "outputs": [],
   "source": [
    "slack = slack.set_index('User_ID')"
   ]
  },
  {
   "cell_type": "markdown",
   "id": "5bc734cd",
   "metadata": {},
   "source": [
    "**Number of interactions per student**"
   ]
  },
  {
   "cell_type": "code",
   "execution_count": 10,
   "id": "e04cbbd2",
   "metadata": {},
   "outputs": [],
   "source": [
    "interactions_per_student = slack.index.value_counts()"
   ]
  },
  {
   "cell_type": "code",
   "execution_count": 11,
   "id": "983efe95",
   "metadata": {},
   "outputs": [],
   "source": [
    "interactions_per_student_df = pd.DataFrame(data = interactions_per_student)"
   ]
  },
  {
   "cell_type": "code",
   "execution_count": 12,
   "id": "76ea2972",
   "metadata": {},
   "outputs": [],
   "source": [
    "interactions_per_student_df = interactions_per_student_df.loc[slack.index,:]\n",
    "interactions_per_student_df = interactions_per_student_df.rename(columns={'User_ID' : 'Num_of_interactions'})"
   ]
  },
  {
   "cell_type": "code",
   "execution_count": 13,
   "id": "b1b65d28",
   "metadata": {},
   "outputs": [
    {
     "data": {
      "text/plain": [
       "(481, 1)"
      ]
     },
     "execution_count": 13,
     "metadata": {},
     "output_type": "execute_result"
    }
   ],
   "source": [
    "interactions_per_student_df.shape"
   ]
  },
  {
   "cell_type": "markdown",
   "id": "08701659",
   "metadata": {},
   "source": [
    "**Number of questions per student**"
   ]
  },
  {
   "cell_type": "markdown",
   "id": "20ff3f34",
   "metadata": {},
   "source": [
    "## Data Cleaning"
   ]
  },
  {
   "cell_type": "markdown",
   "id": "8f4f3ab5",
   "metadata": {},
   "source": [
    "**Encoding boolean column**"
   ]
  },
  {
   "cell_type": "markdown",
   "id": "3f4e9e9c",
   "metadata": {},
   "source": [
    "**Self Join**"
   ]
  },
  {
   "cell_type": "markdown",
   "id": "d9fd66a4",
   "metadata": {},
   "source": [
    "**Cleaning joined dataframe**"
   ]
  }
 ],
 "metadata": {
  "kernelspec": {
   "display_name": "Python 3.8.13 64-bit ('shims')",
   "language": "python",
   "name": "python3"
  },
  "language_info": {
   "codemirror_mode": {
    "name": "ipython",
    "version": 3
   },
   "file_extension": ".py",
   "mimetype": "text/x-python",
   "name": "python",
   "nbconvert_exporter": "python",
   "pygments_lexer": "ipython3",
   "version": "3.8.13"
  },
  "vscode": {
   "interpreter": {
    "hash": "9ac03a0a6051494cc606d484d27d20fce22fb7b4d169f583271e11d5ba46a56e"
   }
  }
 },
 "nbformat": 4,
 "nbformat_minor": 5
}
